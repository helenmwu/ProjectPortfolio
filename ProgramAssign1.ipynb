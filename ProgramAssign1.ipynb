{
 "cells": [
  {
   "cell_type": "code",
   "execution_count": 591,
   "metadata": {},
   "outputs": [],
   "source": [
    "import pandas as pd\n",
    "import csv\n",
    "import numpy as np\n",
    "import math\n",
    "import time\n",
    "from sklearn import preprocessing"
   ]
  },
  {
   "cell_type": "markdown",
   "metadata": {},
   "source": [
    "<img src=\"alg1.png\" width = \"400\" height = \"200\" />"
   ]
  },
  {
   "cell_type": "markdown",
   "metadata": {},
   "source": [
    "Algorithm 1 Implementation - Pass in two matrices you want to multiply together (A and B), and an empty matrix (C). Set the matrix dimensions as p,q,and r. Populate the empty matrix C by multiplying the corresponding rows and columns in A and B. Return the populated matrix C."
   ]
  },
  {
   "cell_type": "code",
   "execution_count": 763,
   "metadata": {},
   "outputs": [],
   "source": [
    "def alg1(A,B,C):\n",
    "    p = len(A)\n",
    "    q = len(A[0])\n",
    "    r = len(B[0]) \n",
    "    for i in range(0, p):\n",
    "        for j in range(0, r):\n",
    "            sum = 0\n",
    "            for k in range(0, q):\n",
    "                sum = sum + A[i,k] * B[k,j]\n",
    "            C[i,j] = sum\n",
    "    return C\n",
    "            \n"
   ]
  },
  {
   "cell_type": "markdown",
   "metadata": {},
   "source": [
    "<img src=\"alg2.png\" width = \"400\" height = \"200\" />"
   ]
  },
  {
   "cell_type": "markdown",
   "metadata": {},
   "source": [
    "Algorithm 2 Implementation - Pass in two matrices that you want to multiplty (A and B), an empty matrix C, and a tile size which is set to 5 at default. Get p, q, and r as the dimensions of A and B. Iterate through A and B using the tile size to populate the empty matrix C and return C."
   ]
  },
  {
   "cell_type": "code",
   "execution_count": 4,
   "metadata": {},
   "outputs": [],
   "source": [
    "def alg2(A,B,C, T = 5):\n",
    "    p = len(A)\n",
    "    q = len(A[0])\n",
    "    r = len(B[0]) \n",
    "    for I in range(0, p, T):\n",
    "        for J in range(0,r, T):\n",
    "            for K in range(0,q, T):\n",
    "                for i in range(I, min(I+T, p)):\n",
    "                    for j in range(J, min(J+T, r)):\n",
    "                        sum = 0\n",
    "                        for k in range(K, min(K+T, q)):\n",
    "                            sum = sum + A[i,k] * B[k,j]\n",
    "                        C[i,j] = sum\n",
    "    return C"
   ]
  },
  {
   "cell_type": "markdown",
   "metadata": {},
   "source": [
    "<img src=\"alg3.png\" width = \"400\" height = \"250\" />"
   ]
  },
  {
   "cell_type": "markdown",
   "metadata": {},
   "source": [
    "Algorithm 3 Implementation - Pass in two matrices we want to multiplty (A and B), and an empty matrix C that we want to populate. If the dimensions are less than 8, use algorithm 1. \n",
    "If the largest dimension is p, which is the number of rows in A, so we split A horizontally. We then recursively pass in the two halves of A and B into alg3 and multiply them to populate C. \n",
    "Else if the largest dimemsion is the number of columns in B, split B vertically. Then, recursively pass in the two halves of B and A back into alg3 and populate C that way.\n",
    "Else, split A vertically and split B horizontally. Populate C by recursively multiplying the corresponding halves of A and B and add them together. \n",
    "Return the populated matrix C."
   ]
  },
  {
   "cell_type": "code",
   "execution_count": 6,
   "metadata": {},
   "outputs": [],
   "source": [
    "def alg3(A, B, C):\n",
    "    p = len(A)\n",
    "    q = len(A[0])\n",
    "    r = len(B[0]) \n",
    "\n",
    "\n",
    "    if max(p,q,r) < 8:\n",
    "        alg1(A,B,C)\n",
    "    else:\n",
    "        if (max(p,q,r) == p):\n",
    "            split = p//2\n",
    "            A1 = A[:split, :]\n",
    "            A2 = A[split:, :]\n",
    "            C[:split,:] = alg3(A1, B, np.empty((split,r)))\n",
    "            C[split:, :] = alg3(A2, B, np.empty((p-split, r)))\n",
    "\n",
    "        elif(max(p,q,r) ==r):\n",
    "            split = r//2\n",
    "            B1 = B[:, :split]\n",
    "            B2 = B[:, split:]\n",
    "            C[:, :split] = alg3(A, B1, np.empty((p,split)))\n",
    "            C[:, split:] = alg3(A, B2, np.empty((p, r-split)))\n",
    "\n",
    "        else:\n",
    "            split = q//2\n",
    "            A11 = A[:, :split]\n",
    "            A22 = A[:, split:]\n",
    "            B11 = B[:split,:]\n",
    "            B22 = B[split:,:]\n",
    "            C = alg3(A11, B11, np.empty((p,r))) + alg3(A22, B22, np.empty((p, r)))\n",
    "\n",
    "    return C"
   ]
  },
  {
   "cell_type": "markdown",
   "metadata": {},
   "source": [
    "Defining a function to split a matrix into four quadrants. This function is used in algorithm 4 and 5. It takes the dimensions of the current matrix passed in, divides it by two, and returns the four resulting matrices. "
   ]
  },
  {
   "cell_type": "code",
   "execution_count": 8,
   "metadata": {},
   "outputs": [],
   "source": [
    "def spl(matrix):\n",
    "    row,col = matrix.shape\n",
    "    row2, col2 = row//2, col//2\n",
    "    return matrix[:row2, :col2], matrix[:row2, col2:], matrix[row2:, :col2], matrix[row2:, col2:]"
   ]
  },
  {
   "cell_type": "markdown",
   "metadata": {},
   "source": [
    "Defining a function to check if the dimensions of a matrix is a power of 2 and if the matrix is a square, to see if they can be run with certain algorithms. This function is used at the begininning of algorithm 4 and 5, since the matrix must be a square to be used in this algorithm. A matrix is passed into the function and the row dimension is first checked to see if it is a power of two. Then the column is all checked to see if it is a power of two. Lastly, it is checked to see if the row and column values are equal to each other. "
   ]
  },
  {
   "cell_type": "code",
   "execution_count": 533,
   "metadata": {},
   "outputs": [],
   "source": [
    "def isSquare(matrix):\n",
    "    return (math.ceil(math.log2(matrix.shape[0])) == math.floor(math.log2(matrix.shape[0]))\n",
    "            and math.ceil(math.log2(matrix.shape[1])) == math.floor(math.log2(matrix.shape[1]))\n",
    "            and matrix.shape[0] == matrix.shape[1])"
   ]
  },
  {
   "cell_type": "markdown",
   "metadata": {},
   "source": [
    "<img src=\"alg4.png\" width = \"400\" height = \"300\" />"
   ]
  },
  {
   "cell_type": "markdown",
   "metadata": {},
   "source": [
    "First check if the dimensions are a power of 2 by using the isSquare function previously defined. Then, set n to be one of the dimensions of A. (we don't have to differentiate between p, q, and r like previously because it's a square so all the dimensions will be the same). Our base case is if the dimensions are 1, in which case we multiple A and B. Else split A and B into four different quadrants. Populate the different quadrants of C by recursively multiplying and adding the different quadrants of A and B. Return the populated matrix C. "
   ]
  },
  {
   "cell_type": "code",
   "execution_count": 709,
   "metadata": {},
   "outputs": [],
   "source": [
    "def alg4(A, B, C):\n",
    "    if(not isSquare(A) or not isSquare(B) or not isSquare(C)):\n",
    "       return \"Matrix dimensions must be power of 2 or must be square matrices\"\n",
    "    n = A.shape[0]\n",
    "    if n ==1:\n",
    "        C[0,0] = A[0,0]*B[0,0]\n",
    "        return C\n",
    "\n",
    "    \n",
    "    else:\n",
    "        split = n//2\n",
    "        A11, A12, A21, A22 = spl(A)\n",
    "        B11, B12, B21, B22 = spl(B)\n",
    "\n",
    "        \n",
    "        C[:split, :split] = alg4(A11, B11, np.empty((split,split))) + alg4(A12, B21, np.zeros((split,split)))\n",
    "        C[:split, split:] = alg4(A11, B12, np.empty((split,split))) + alg4(A12, B22, np.zeros((split,split)))\n",
    "        C[split:, :split] = alg4(A21, B11, np.empty((split,split))) + alg4(A22, B21, np.zeros((split,split)))\n",
    "        C[split:, split:] = alg4(A21, B12, np.empty((split,split))) + alg4(A22, B22, np.zeros((split,split)))\n",
    "    return C\n",
    "        "
   ]
  },
  {
   "cell_type": "code",
   "execution_count": 713,
   "metadata": {},
   "outputs": [
    {
     "data": {
      "text/plain": [
       "array([[129.87789382, 133.3638491 , 127.84369841, ..., 126.37703494,\n",
       "        130.14046467, 128.68891066],\n",
       "       [132.82825616, 131.7965511 , 126.96975769, ..., 124.52482634,\n",
       "        132.35423819, 128.84831416],\n",
       "       [127.48095791, 126.62901118, 124.94414089, ..., 121.19951731,\n",
       "        126.49546605, 123.75268618],\n",
       "       ...,\n",
       "       [128.51717365, 126.83765819, 130.35512609, ..., 121.52546402,\n",
       "        131.28215249, 129.15743421],\n",
       "       [126.31232562, 128.28643321, 124.33263501, ..., 120.20728697,\n",
       "        127.76567117, 122.13596918],\n",
       "       [130.63659955, 127.56388384, 125.54396277, ..., 124.93039073,\n",
       "        129.9157562 , 127.00468293]])"
      ]
     },
     "execution_count": 713,
     "metadata": {},
     "output_type": "execute_result"
    }
   ],
   "source": [
    "a = np.random.rand(2**9,2**9)\n",
    "b = np.random.rand(2**9,2**9)\n",
    "c = np.zeros((2**9,2**9))\n",
    "\n",
    "alg4(a,b,c)"
   ]
  },
  {
   "cell_type": "markdown",
   "metadata": {},
   "source": [
    "<img src=\"alg5.png\" width = \"400\" height = \"400\" />"
   ]
  },
  {
   "cell_type": "markdown",
   "metadata": {},
   "source": [
    "Pass in two matrices you want to multiply (A and B), and an empty matrix C that we want to populate. Check the dimensions of A, B, and C to make sure it is a power of 2 by using the isSquare function previously defined. Set n as the dimensions of A (since A and B are square, the dimensions are all the same and can be represented by a single variable n). If n is less than 3, use algorithm 1 to populate C. Else, split A and B into four quadrants. Perform the necessary additions, subtractions, and multiplications and recursively calling alg5 as specified in the pseudocode. Populate the quadrants of C using the results from these calculations. Return the populated matrix C. "
   ]
  },
  {
   "cell_type": "code",
   "execution_count": 757,
   "metadata": {},
   "outputs": [],
   "source": [
    "def alg5(A, B, C):\n",
    "    if(not isSquare(A) or not isSquare(B) or not isSquare(C)):\n",
    "       return \"Matrix dimensions must be power of 2 or must be square matrices\"\n",
    "    n = A.shape[0]\n",
    "     \n",
    "    if n < 8:\n",
    "        alg1(A,B,C)\n",
    "        return C\n",
    "    \n",
    "    else:\n",
    "        split = n//2\n",
    "        A11, A12, A21, A22 = spl(A)\n",
    "        B11, B12, B21, B22 = spl(B)\n",
    "\n",
    "        M1 = alg5(A11+A22, B11+B22,np.zeros((split,split)))\n",
    "        M2 = alg5(A21+A22, B11, np.zeros((split,split)))\n",
    "        M3 = alg5(A11, B12-B22, np.zeros((split,split)))\n",
    "        M4 = alg5(A22, B21-B11, np.zeros((split,split)))\n",
    "        M5 = alg5(A11+A12, B22, np.zeros((split,split)))\n",
    "        M6 = alg5(A21-A11, B11+B12, np.zeros((split,split)))\n",
    "        M7 = alg5(A12-A22, B21+B22, np.zeros((split,split)))\n",
    "        \n",
    "        C[:split, :split] = M1 + M4 - M5 + M7\n",
    "        C[:split, split:] = M3 + M5\n",
    "        C[split:, :split] = M2 + M4\n",
    "        C[split:, split:] = M1 - M2 + M3 + M6\n",
    "    return C"
   ]
  },
  {
   "cell_type": "markdown",
   "metadata": {},
   "source": [
    "3. Matrix Multiplication Problem\n",
    "\n",
    "Two empty arrays a and b are created. A 4 by 4 array, c, is also created and populated with zeros. The file called input.txt is opened and two lines are generated, separated by a semicolon: this will differentiate between the values used to populate a and b. For each number in the first line, it is appended to the array a previously created, with each value separated by a comma. For each number in the second line, it is appended to array b, with each value separated by a comma as well. With a and b both fully populated, they are both reshaped to create the shape of a 4 by 4 matrice. Then, algorithm 1, algorithm 2, algorithm 3, algorithm 4, and algorithm 5 is used to carry the result of the matrix multiplication done between matrix a and b. The resultant matrix is printed as specified in the instructions."
   ]
  },
  {
   "cell_type": "code",
   "execution_count": 691,
   "metadata": {},
   "outputs": [
    {
     "name": "stdout",
     "output_type": "stream",
     "text": [
      "\n",
      "Algorithm-1:\n",
      " [[ 90. 100. 110. 120.]\n",
      " [202. 228. 254. 280.]\n",
      " [314. 356. 398. 440.]\n",
      " [426. 484. 542. 600.]]\n",
      "\n",
      "Algorithm-2:\n",
      " [[ 90. 100. 110. 120.]\n",
      " [202. 228. 254. 280.]\n",
      " [314. 356. 398. 440.]\n",
      " [426. 484. 542. 600.]]\n",
      "\n",
      "Algorithm-3:\n",
      " [[ 90. 100. 110. 120.]\n",
      " [202. 228. 254. 280.]\n",
      " [314. 356. 398. 440.]\n",
      " [426. 484. 542. 600.]]\n",
      "\n",
      "Algorithm-4:\n",
      " [[ 90. 100. 110. 120.]\n",
      " [202. 228. 254. 280.]\n",
      " [314. 356. 398. 440.]\n",
      " [426. 484. 542. 600.]]\n",
      "\n",
      "Algorithm-5:\n",
      " [[ 90. 100. 110. 120.]\n",
      " [202. 228. 254. 280.]\n",
      " [314. 356. 398. 440.]\n",
      " [426. 484. 542. 600.]]\n"
     ]
    }
   ],
   "source": [
    "a = []\n",
    "b = []\n",
    "c = np.zeros((4,4))\n",
    "with open(\"input.txt\") as myfile:\n",
    "\n",
    "    for line in myfile:\n",
    "        line = line.split(\";\")\n",
    "        for num in line[0].split(','):\n",
    "            a.append(int(num))\n",
    "        for num in line[1].split(','):\n",
    "            b.append(int(num))\n",
    "a = np.reshape(a, (4,4))\n",
    "b = np.reshape(b, (4,4))\n",
    "\n",
    "print(\"\\nAlgorithm-1:\\n\", alg1(a,b,c))\n",
    "\n",
    "print(\"\\nAlgorithm-2:\\n\", alg2(a,b,c))\n",
    "\n",
    "print(\"\\nAlgorithm-3:\\n\", alg3(a,b,c))\n",
    "\n",
    "print(\"\\nAlgorithm-4:\\n\", alg4(a,b,c))\n",
    "\n",
    "print(\"\\nAlgorithm-5:\\n\", alg5(a,b,c))\n"
   ]
  },
  {
   "cell_type": "markdown",
   "metadata": {},
   "source": [
    "3b - Experiment I.\n",
    "Create a dataframe with columns for the input size, alg1 time, alg2 time, and alg3 times. The index is set to the column for input size. Create a for loop where i ranges from 10 to 300, incrementing by ten each time. The input size will create square matrices of this size, using random values between 0 and 1 for each value in the matrix. For each iteration of the loop, we get the time before the algorithm, run the algorithm, and get the time when the algorithm finishes. By subtracting the start time from the end time, we get the time that it takes to run the algorithm. We do this process for each algorithm: algorithm 1, algorithm 2, and algorithm 3. After we run each algorithm, we add a row to our dataframe, with the input size as the index, and adding the time it took for each algorithm it took. Then, the for loop iterates again and updates the size of the input, and this continues until the process is completed for a matrix of size 300."
   ]
  },
  {
   "cell_type": "code",
   "execution_count": 592,
   "metadata": {},
   "outputs": [],
   "source": [
    "df = pd.DataFrame(columns = ['Input Size', 'Alg1 Time', 'Alg2 Time', 'Alg3 Time'])\n",
    "df = df.set_index('Input Size')\n",
    "for i in range(10,301,10):\n",
    "    a = np.random.rand(i,i)\n",
    "    b = np.random.rand(i,i)\n",
    "    c = np.zeros((i,i))\n",
    "\n",
    "    start = time.perf_counter()\n",
    "    alg1(a,b,c)\n",
    "    end = time.perf_counter()\n",
    "    alg1t = end - start\n",
    "\n",
    "    start2 = time.perf_counter()\n",
    "    alg2(a,b,c)\n",
    "    end2 = time.perf_counter()\n",
    "    alg2t = end2 - start2\n",
    "\n",
    "    start3 = time.perf_counter()\n",
    "    alg3(a,b,c)\n",
    "    end3 = time.perf_counter()\n",
    "    alg3t = end3 - start3\n",
    "\n",
    "    df.loc[i] = [alg1t, alg2t, alg3t]\n"
   ]
  },
  {
   "cell_type": "markdown",
   "metadata": {},
   "source": [
    "Create an array (later to be added as a column to the dataframe with empirical values) for the theoretical time complexities for algorithm1. Using the T(n) I calculated on paper, fill the n with the input sizes used above (10 to 300, incrementing by 10 each time). Then, I scaled all these values so it would be comparable to the observed values by dividing by 10^k, choosing k by seeing which value would bring the values into similar ranges as the empirical values. "
   ]
  },
  {
   "cell_type": "code",
   "execution_count": 583,
   "metadata": {},
   "outputs": [],
   "source": [
    "alg1theo = []\n",
    "for i in range(10,301,10):\n",
    "    time = 13*(i**3) + 6*(i**2)+ 2*i + 10\n",
    "    time = time/10000000\n",
    "    alg1theo.append(time)\n",
    "alg1theo = np.array(alg1theo).reshape(-1,1)"
   ]
  },
  {
   "cell_type": "markdown",
   "metadata": {},
   "source": [
    "Repeating the same process as above but for algorithm 2. "
   ]
  },
  {
   "cell_type": "code",
   "execution_count": 668,
   "metadata": {},
   "outputs": [],
   "source": [
    "alg2theo = []\n",
    "for i in range(10,301,10):\n",
    "    time = (13/125)*(i**6) + (10/25)*(i**5) + (2/125)*(i**4)+ (2/125)*(i**3) + (2/25)*(i**2) + (2/5)*i + 9\n",
    "    time = time/1000000000000\n",
    "    alg2theo.append(time)\n",
    "alg2theo = np.array(alg2theo).reshape(-1,1)"
   ]
  },
  {
   "cell_type": "markdown",
   "metadata": {},
   "source": [
    "Repeat the process for algorithm 3. (Note: I used Master's method to calculate the big-Oh time complexity.)"
   ]
  },
  {
   "cell_type": "code",
   "execution_count": 675,
   "metadata": {},
   "outputs": [],
   "source": [
    "alg3theo = []\n",
    "for i in range(10,301,10):\n",
    "    time = (i**3)/1000000\n",
    "    alg3theo.append(time)\n",
    "alg3theo = np.array(alg3theo).reshape(-1,1)\n"
   ]
  },
  {
   "cell_type": "markdown",
   "metadata": {},
   "source": [
    "Add these theoretical values to the previously created data frame. "
   ]
  },
  {
   "cell_type": "code",
   "execution_count": 676,
   "metadata": {},
   "outputs": [],
   "source": [
    "df[\"Alg1Theoretical\"] = alg1theo\n",
    "df[\"Alg2Theoretical\"] = alg2theo\n",
    "df[\"Alg3Theoretical\"] = alg3theo"
   ]
  },
  {
   "cell_type": "markdown",
   "metadata": {},
   "source": [
    "View the full dataframe."
   ]
  },
  {
   "cell_type": "code",
   "execution_count": 677,
   "metadata": {},
   "outputs": [
    {
     "data": {
      "text/html": [
       "<div>\n",
       "<style scoped>\n",
       "    .dataframe tbody tr th:only-of-type {\n",
       "        vertical-align: middle;\n",
       "    }\n",
       "\n",
       "    .dataframe tbody tr th {\n",
       "        vertical-align: top;\n",
       "    }\n",
       "\n",
       "    .dataframe thead th {\n",
       "        text-align: right;\n",
       "    }\n",
       "</style>\n",
       "<table border=\"1\" class=\"dataframe\">\n",
       "  <thead>\n",
       "    <tr style=\"text-align: right;\">\n",
       "      <th></th>\n",
       "      <th>Alg1 Time</th>\n",
       "      <th>Alg2 Time</th>\n",
       "      <th>Alg3 Time</th>\n",
       "      <th>Alg1Theoretical</th>\n",
       "      <th>Alg2Theoretical</th>\n",
       "      <th>Alg3Theoretical</th>\n",
       "    </tr>\n",
       "    <tr>\n",
       "      <th>Input Size</th>\n",
       "      <th></th>\n",
       "      <th></th>\n",
       "      <th></th>\n",
       "      <th></th>\n",
       "      <th></th>\n",
       "      <th></th>\n",
       "    </tr>\n",
       "  </thead>\n",
       "  <tbody>\n",
       "    <tr>\n",
       "      <th>10</th>\n",
       "      <td>0.002297</td>\n",
       "      <td>0.004905</td>\n",
       "      <td>0.005502</td>\n",
       "      <td>0.001363</td>\n",
       "      <td>1.441970e-07</td>\n",
       "      <td>0.001</td>\n",
       "    </tr>\n",
       "    <tr>\n",
       "      <th>20</th>\n",
       "      <td>0.014477</td>\n",
       "      <td>0.026421</td>\n",
       "      <td>0.045945</td>\n",
       "      <td>0.010645</td>\n",
       "      <td>7.938737e-06</td>\n",
       "      <td>0.008</td>\n",
       "    </tr>\n",
       "    <tr>\n",
       "      <th>30</th>\n",
       "      <td>0.042439</td>\n",
       "      <td>0.036246</td>\n",
       "      <td>0.042932</td>\n",
       "      <td>0.035647</td>\n",
       "      <td>8.554949e-05</td>\n",
       "      <td>0.027</td>\n",
       "    </tr>\n",
       "    <tr>\n",
       "      <th>40</th>\n",
       "      <td>0.059420</td>\n",
       "      <td>0.082287</td>\n",
       "      <td>0.081223</td>\n",
       "      <td>0.084169</td>\n",
       "      <td>4.669861e-04</td>\n",
       "      <td>0.064</td>\n",
       "    </tr>\n",
       "    <tr>\n",
       "      <th>50</th>\n",
       "      <td>0.115110</td>\n",
       "      <td>0.160778</td>\n",
       "      <td>0.155485</td>\n",
       "      <td>0.164011</td>\n",
       "      <td>1.750102e-03</td>\n",
       "      <td>0.125</td>\n",
       "    </tr>\n",
       "    <tr>\n",
       "      <th>60</th>\n",
       "      <td>0.200236</td>\n",
       "      <td>0.281365</td>\n",
       "      <td>0.289130</td>\n",
       "      <td>0.282973</td>\n",
       "      <td>5.163475e-03</td>\n",
       "      <td>0.216</td>\n",
       "    </tr>\n",
       "    <tr>\n",
       "      <th>70</th>\n",
       "      <td>0.361594</td>\n",
       "      <td>0.448612</td>\n",
       "      <td>0.487409</td>\n",
       "      <td>0.448855</td>\n",
       "      <td>1.290817e-02</td>\n",
       "      <td>0.343</td>\n",
       "    </tr>\n",
       "    <tr>\n",
       "      <th>80</th>\n",
       "      <td>0.472117</td>\n",
       "      <td>0.671128</td>\n",
       "      <td>0.696180</td>\n",
       "      <td>0.669457</td>\n",
       "      <td>2.857436e-02</td>\n",
       "      <td>0.512</td>\n",
       "    </tr>\n",
       "    <tr>\n",
       "      <th>90</th>\n",
       "      <td>0.674271</td>\n",
       "      <td>0.947046</td>\n",
       "      <td>0.914448</td>\n",
       "      <td>0.952579</td>\n",
       "      <td>5.763289e-02</td>\n",
       "      <td>0.729</td>\n",
       "    </tr>\n",
       "    <tr>\n",
       "      <th>100</th>\n",
       "      <td>0.954920</td>\n",
       "      <td>1.313435</td>\n",
       "      <td>1.214997</td>\n",
       "      <td>1.306021</td>\n",
       "      <td>1.080016e-01</td>\n",
       "      <td>1.000</td>\n",
       "    </tr>\n",
       "    <tr>\n",
       "      <th>110</th>\n",
       "      <td>1.177392</td>\n",
       "      <td>1.778411</td>\n",
       "      <td>1.447961</td>\n",
       "      <td>1.737583</td>\n",
       "      <td>1.906867e-01</td>\n",
       "      <td>1.331</td>\n",
       "    </tr>\n",
       "    <tr>\n",
       "      <th>120</th>\n",
       "      <td>1.444274</td>\n",
       "      <td>1.956908</td>\n",
       "      <td>2.010878</td>\n",
       "      <td>2.255065</td>\n",
       "      <td>3.204990e-01</td>\n",
       "      <td>1.728</td>\n",
       "    </tr>\n",
       "    <tr>\n",
       "      <th>130</th>\n",
       "      <td>1.699325</td>\n",
       "      <td>2.337386</td>\n",
       "      <td>2.675879</td>\n",
       "      <td>2.866267</td>\n",
       "      <td>5.168445e-01</td>\n",
       "      <td>2.197</td>\n",
       "    </tr>\n",
       "    <tr>\n",
       "      <th>140</th>\n",
       "      <td>2.032523</td>\n",
       "      <td>2.751486</td>\n",
       "      <td>2.900258</td>\n",
       "      <td>3.578989</td>\n",
       "      <td>8.045909e-01</td>\n",
       "      <td>2.744</td>\n",
       "    </tr>\n",
       "    <tr>\n",
       "      <th>150</th>\n",
       "      <td>2.290300</td>\n",
       "      <td>3.200861</td>\n",
       "      <td>3.304753</td>\n",
       "      <td>4.401031</td>\n",
       "      <td>1.215008e+00</td>\n",
       "      <td>3.375</td>\n",
       "    </tr>\n",
       "    <tr>\n",
       "      <th>160</th>\n",
       "      <td>2.774043</td>\n",
       "      <td>3.840428</td>\n",
       "      <td>3.848062</td>\n",
       "      <td>5.340193</td>\n",
       "      <td>1.786784e+00</td>\n",
       "      <td>4.096</td>\n",
       "    </tr>\n",
       "    <tr>\n",
       "      <th>170</th>\n",
       "      <td>3.261100</td>\n",
       "      <td>4.638336</td>\n",
       "      <td>4.529780</td>\n",
       "      <td>6.404275</td>\n",
       "      <td>2.567115e+00</td>\n",
       "      <td>4.913</td>\n",
       "    </tr>\n",
       "    <tr>\n",
       "      <th>180</th>\n",
       "      <td>3.905744</td>\n",
       "      <td>5.499772</td>\n",
       "      <td>5.210875</td>\n",
       "      <td>7.601077</td>\n",
       "      <td>3.612871e+00</td>\n",
       "      <td>5.832</td>\n",
       "    </tr>\n",
       "    <tr>\n",
       "      <th>190</th>\n",
       "      <td>4.638713</td>\n",
       "      <td>6.633491</td>\n",
       "      <td>6.144286</td>\n",
       "      <td>8.938399</td>\n",
       "      <td>4.991837e+00</td>\n",
       "      <td>6.859</td>\n",
       "    </tr>\n",
       "    <tr>\n",
       "      <th>200</th>\n",
       "      <td>5.993326</td>\n",
       "      <td>10.229348</td>\n",
       "      <td>10.278612</td>\n",
       "      <td>10.424041</td>\n",
       "      <td>6.784026e+00</td>\n",
       "      <td>8.000</td>\n",
       "    </tr>\n",
       "    <tr>\n",
       "      <th>210</th>\n",
       "      <td>8.963245</td>\n",
       "      <td>13.206590</td>\n",
       "      <td>12.644819</td>\n",
       "      <td>12.065803</td>\n",
       "      <td>9.083072e+00</td>\n",
       "      <td>9.261</td>\n",
       "    </tr>\n",
       "    <tr>\n",
       "      <th>220</th>\n",
       "      <td>9.918275</td>\n",
       "      <td>12.541988</td>\n",
       "      <td>10.497020</td>\n",
       "      <td>13.871485</td>\n",
       "      <td>1.199769e+01</td>\n",
       "      <td>10.648</td>\n",
       "    </tr>\n",
       "    <tr>\n",
       "      <th>230</th>\n",
       "      <td>8.972977</td>\n",
       "      <td>12.847335</td>\n",
       "      <td>11.568244</td>\n",
       "      <td>15.848887</td>\n",
       "      <td>1.565323e+01</td>\n",
       "      <td>12.167</td>\n",
       "    </tr>\n",
       "    <tr>\n",
       "      <th>240</th>\n",
       "      <td>10.199423</td>\n",
       "      <td>14.529163</td>\n",
       "      <td>13.698105</td>\n",
       "      <td>18.005809</td>\n",
       "      <td>2.019327e+01</td>\n",
       "      <td>13.824</td>\n",
       "    </tr>\n",
       "    <tr>\n",
       "      <th>250</th>\n",
       "      <td>10.173372</td>\n",
       "      <td>14.248205</td>\n",
       "      <td>18.143911</td>\n",
       "      <td>20.350051</td>\n",
       "      <td>2.578131e+01</td>\n",
       "      <td>15.625</td>\n",
       "    </tr>\n",
       "    <tr>\n",
       "      <th>260</th>\n",
       "      <td>12.277462</td>\n",
       "      <td>17.371166</td>\n",
       "      <td>19.588934</td>\n",
       "      <td>22.889413</td>\n",
       "      <td>3.260257e+01</td>\n",
       "      <td>17.576</td>\n",
       "    </tr>\n",
       "    <tr>\n",
       "      <th>270</th>\n",
       "      <td>13.059287</td>\n",
       "      <td>17.799266</td>\n",
       "      <td>21.034622</td>\n",
       "      <td>25.631695</td>\n",
       "      <td>4.086577e+01</td>\n",
       "      <td>19.683</td>\n",
       "    </tr>\n",
       "    <tr>\n",
       "      <th>280</th>\n",
       "      <td>14.587543</td>\n",
       "      <td>19.894606</td>\n",
       "      <td>24.067031</td>\n",
       "      <td>28.584697</td>\n",
       "      <td>5.080511e+01</td>\n",
       "      <td>21.952</td>\n",
       "    </tr>\n",
       "    <tr>\n",
       "      <th>290</th>\n",
       "      <td>17.838793</td>\n",
       "      <td>23.456650</td>\n",
       "      <td>25.158629</td>\n",
       "      <td>31.756219</td>\n",
       "      <td>6.268218e+01</td>\n",
       "      <td>24.389</td>\n",
       "    </tr>\n",
       "    <tr>\n",
       "      <th>300</th>\n",
       "      <td>19.171528</td>\n",
       "      <td>26.808515</td>\n",
       "      <td>27.670851</td>\n",
       "      <td>35.154061</td>\n",
       "      <td>7.678813e+01</td>\n",
       "      <td>27.000</td>\n",
       "    </tr>\n",
       "  </tbody>\n",
       "</table>\n",
       "</div>"
      ],
      "text/plain": [
       "            Alg1 Time  Alg2 Time  Alg3 Time  Alg1Theoretical  Alg2Theoretical  \\\n",
       "Input Size                                                                      \n",
       "10           0.002297   0.004905   0.005502         0.001363     1.441970e-07   \n",
       "20           0.014477   0.026421   0.045945         0.010645     7.938737e-06   \n",
       "30           0.042439   0.036246   0.042932         0.035647     8.554949e-05   \n",
       "40           0.059420   0.082287   0.081223         0.084169     4.669861e-04   \n",
       "50           0.115110   0.160778   0.155485         0.164011     1.750102e-03   \n",
       "60           0.200236   0.281365   0.289130         0.282973     5.163475e-03   \n",
       "70           0.361594   0.448612   0.487409         0.448855     1.290817e-02   \n",
       "80           0.472117   0.671128   0.696180         0.669457     2.857436e-02   \n",
       "90           0.674271   0.947046   0.914448         0.952579     5.763289e-02   \n",
       "100          0.954920   1.313435   1.214997         1.306021     1.080016e-01   \n",
       "110          1.177392   1.778411   1.447961         1.737583     1.906867e-01   \n",
       "120          1.444274   1.956908   2.010878         2.255065     3.204990e-01   \n",
       "130          1.699325   2.337386   2.675879         2.866267     5.168445e-01   \n",
       "140          2.032523   2.751486   2.900258         3.578989     8.045909e-01   \n",
       "150          2.290300   3.200861   3.304753         4.401031     1.215008e+00   \n",
       "160          2.774043   3.840428   3.848062         5.340193     1.786784e+00   \n",
       "170          3.261100   4.638336   4.529780         6.404275     2.567115e+00   \n",
       "180          3.905744   5.499772   5.210875         7.601077     3.612871e+00   \n",
       "190          4.638713   6.633491   6.144286         8.938399     4.991837e+00   \n",
       "200          5.993326  10.229348  10.278612        10.424041     6.784026e+00   \n",
       "210          8.963245  13.206590  12.644819        12.065803     9.083072e+00   \n",
       "220          9.918275  12.541988  10.497020        13.871485     1.199769e+01   \n",
       "230          8.972977  12.847335  11.568244        15.848887     1.565323e+01   \n",
       "240         10.199423  14.529163  13.698105        18.005809     2.019327e+01   \n",
       "250         10.173372  14.248205  18.143911        20.350051     2.578131e+01   \n",
       "260         12.277462  17.371166  19.588934        22.889413     3.260257e+01   \n",
       "270         13.059287  17.799266  21.034622        25.631695     4.086577e+01   \n",
       "280         14.587543  19.894606  24.067031        28.584697     5.080511e+01   \n",
       "290         17.838793  23.456650  25.158629        31.756219     6.268218e+01   \n",
       "300         19.171528  26.808515  27.670851        35.154061     7.678813e+01   \n",
       "\n",
       "            Alg3Theoretical  \n",
       "Input Size                   \n",
       "10                    0.001  \n",
       "20                    0.008  \n",
       "30                    0.027  \n",
       "40                    0.064  \n",
       "50                    0.125  \n",
       "60                    0.216  \n",
       "70                    0.343  \n",
       "80                    0.512  \n",
       "90                    0.729  \n",
       "100                   1.000  \n",
       "110                   1.331  \n",
       "120                   1.728  \n",
       "130                   2.197  \n",
       "140                   2.744  \n",
       "150                   3.375  \n",
       "160                   4.096  \n",
       "170                   4.913  \n",
       "180                   5.832  \n",
       "190                   6.859  \n",
       "200                   8.000  \n",
       "210                   9.261  \n",
       "220                  10.648  \n",
       "230                  12.167  \n",
       "240                  13.824  \n",
       "250                  15.625  \n",
       "260                  17.576  \n",
       "270                  19.683  \n",
       "280                  21.952  \n",
       "290                  24.389  \n",
       "300                  27.000  "
      ]
     },
     "execution_count": 677,
     "metadata": {},
     "output_type": "execute_result"
    }
   ],
   "source": [
    "df"
   ]
  },
  {
   "cell_type": "markdown",
   "metadata": {},
   "source": [
    "Import a package to plot the empirical and theoretical complexities."
   ]
  },
  {
   "cell_type": "code",
   "execution_count": 21,
   "metadata": {},
   "outputs": [],
   "source": [
    "import matplotlib.pyplot as plt"
   ]
  },
  {
   "cell_type": "markdown",
   "metadata": {},
   "source": [
    "Plot each of the time taken as a function of the input size. All empirical values are drawn with solid lines and all theoretical values are drawn with dashed lines. A legend is included to show which color corresponds with which algorithm."
   ]
  },
  {
   "cell_type": "code",
   "execution_count": 671,
   "metadata": {},
   "outputs": [
    {
     "data": {
      "image/png": "[encoded data removed]",
      "text/plain": [
       "<Figure size 432x288 with 1 Axes>"
      ]
     },
     "metadata": {
      "needs_background": "light"
     },
     "output_type": "display_data"
    }
   ],
   "source": [
    "plt.plot(df.index, df[\"Alg1 Time\"], label = \"Algorithm 1 Empirical\")\n",
    "plt.plot(df.index, df[\"Alg2 Time\"], label = \"Algorithm 2 Empirical\")\n",
    "plt.plot(df.index, df[\"Alg3 Time\"], label = \"Algorithm 3 Empirical\")\n",
    "plt.plot(df.index,df[\"Alg1Theoretical\"],label = \"Algorithm 1 Theoretical\", linestyle = '--')\n",
    "plt.plot(df.index, df[\"Alg2Theoretical\"], label = \"Algorithm 2 Theoretical\", linestyle = \"--\")\n",
    "plt.plot(df.index, df[\"Alg3Theoretical\"], label = \"Algorithm 3 Theoretical\", linestyle = \"--\")\n",
    "plt.xlabel(\"Input Size\")\n",
    "plt.ylabel(\"Time\")\n",
    "plt.title(\"Input Size vs Time\")\n",
    "plt.legend()\n",
    "plt.show()"
   ]
  },
  {
   "cell_type": "markdown",
   "metadata": {},
   "source": [
    "3c - Experiment II:\n",
    "A dataframe is created using input size, algorithm 1, algorithm 3, algorithm 4, and algorithm 5 as the column names, and the index is set to input size. A for loop is created in which i ranges from 0 to 9 inclusively, and matrices a and b are generated using 2 to the power of i. This ensures that the matrices created are square. Once a and b and created and populated using random numbers from 0 to 1, c is also created with the same dimensions but populated with zeros. The time is taken before the algorithm is called, the algorithm is ran, and the time is taken after, and this process is repeated for each of the algorithms. The time taken can be calculated by subtracting the start time from the end time. Then these values are all inputted into the dataframe, using the input size as the index. \n"
   ]
  },
  {
   "cell_type": "code",
   "execution_count": null,
   "metadata": {},
   "outputs": [],
   "source": [
    "from time import perf_counter\n",
    "df2 = pd.DataFrame(columns = ['Input Size', 'Alg1 Time', 'Alg3 Time', 'Alg4 Time', 'Alg5 Time'])\n",
    "df2 = df2.set_index('Input Size')\n",
    "for i in range(0,10):\n",
    "    a = np.random.rand(2**i,2**i)\n",
    "    b = np.random.rand(2**i,2**i)\n",
    "    c = np.zeros((2**i,2**i))\n",
    "\n",
    "    start = perf_counter()\n",
    "    alg1(a,b,c)\n",
    "    end = perf_counter()\n",
    "    alg1t = end - start\n",
    "\n",
    "    start3 = perf_counter()\n",
    "    alg3(a,b,c)\n",
    "    end3 = perf_counter()\n",
    "    alg3t = end3 - start3\n",
    "\n",
    "    start4 = perf_counter()\n",
    "    alg4(a,b,c)\n",
    "    end4 = perf_counter()\n",
    "    alg4t = end4 - start4\n",
    "\n",
    "    start5 = perf_counter()\n",
    "    alg5(a,b,c)\n",
    "    end5 = perf_counter()\n",
    "    alg5t = end5 - start5\n",
    "\n",
    "\n",
    "    df2.loc[2**i] = [alg1t, alg3t, alg4t, alg5t]"
   ]
  },
  {
   "cell_type": "markdown",
   "metadata": {},
   "source": [
    "3c - Experiment II: A dataframe is created with the index set to input size. First, we calculate the run time for algorithm 1, using dimension sizes of 2^i where 0 <= i <= 9. Two matrices, a and b, are creating using this dimension size and populated with random real numbers from 0 to 1. A matrix, c, is also created with the same dimensions but populated with zeros. Perf_counter() is used to capture the time before we run alg1, alg1 is called with a, b, and c passed in as arguments, and Perf_counter() is used again to capture the end time. The start time is then subtracted from the end time to calculate the total time it took to run the algorithm, and this value is stored into the dataframe with the corresponding input size. "
   ]
  },
  {
   "cell_type": "markdown",
   "metadata": {},
   "source": [
    "Note: this is not the most efficient way to create this dataframe. However, after several trial and errors, I found that running each algorithm separately and appending them to the dataframe was the only way to keep the code from running with no end. Ideally, only one for loop would be required and you should be able to run and calculate each of the algorithm run times, appending them to the dataframe in a single loop. "
   ]
  },
  {
   "cell_type": "code",
   "execution_count": 768,
   "metadata": {},
   "outputs": [],
   "source": [
    "df2 = pd.DataFrame(columns = ['Input Size', 'Alg1 Time'])\n",
    "df2 = df2.set_index('Input Size')\n",
    "\n",
    "for i in range(0,10):\n",
    "    a = np.random.rand(2**i,2**i)\n",
    "    b = np.random.rand(2**i,2**i)\n",
    "    c = np.zeros((2**i,2**i))\n",
    "\n",
    "    start = perf_counter()\n",
    "    alg1(a,b,c)\n",
    "    end = perf_counter()\n",
    "    tot = end-start\n",
    "\n",
    "    df2.loc[2**i] = [tot]\n"
   ]
  },
  {
   "cell_type": "markdown",
   "metadata": {},
   "source": [
    "The process above was repeated for algorithm 3. An array was first created to store all the run times for the different matrix dimensions. Then it loops through different dimensions of size 2^i, with i ranging from 0 to 9, inclusively. The same methodology is used to calculate the run time for alg3. Then this time is appended to the array. After the loop, the array is then reshaped so it can be added to our dataframe from above. "
   ]
  },
  {
   "cell_type": "code",
   "execution_count": 770,
   "metadata": {},
   "outputs": [],
   "source": [
    "alg3times = []\n",
    "for i in range(0,10):\n",
    "    a = np.random.rand(2**i,2**i)\n",
    "    b = np.random.rand(2**i,2**i)\n",
    "    c = np.zeros((2**i,2**i))\n",
    "\n",
    "    start = perf_counter()\n",
    "    alg3(a,b,c)\n",
    "    end = perf_counter()\n",
    "    tot = end-start\n",
    "\n",
    "    alg3times.append(tot)\n",
    "alg3times = np.array(alg3times).reshape(-1,1)\n",
    "df2[\"Alg3 Time\"] = alg3times\n"
   ]
  },
  {
   "cell_type": "markdown",
   "metadata": {},
   "source": [
    "The same process as above is repeated for algorithm 4. "
   ]
  },
  {
   "cell_type": "code",
   "execution_count": 772,
   "metadata": {},
   "outputs": [],
   "source": [
    "alg4times = []\n",
    "for i in range(0,10):\n",
    "    a = np.random.rand(2**i,2**i)\n",
    "    b = np.random.rand(2**i,2**i)\n",
    "    c = np.zeros((2**i,2**i))\n",
    "\n",
    "    start = perf_counter()\n",
    "    alg4(a,b,c)\n",
    "    end = perf_counter()\n",
    "    tot = end-start\n",
    "\n",
    "    alg4times.append(tot)\n",
    "alg4times = np.array(alg4times).reshape(-1,1)\n",
    "df2[\"Alg4 Time\"] = alg4times"
   ]
  },
  {
   "cell_type": "markdown",
   "metadata": {},
   "source": [
    "The same process is repeated for algorithm5. "
   ]
  },
  {
   "cell_type": "code",
   "execution_count": 773,
   "metadata": {},
   "outputs": [],
   "source": [
    "alg5times = []\n",
    "for i in range(0,10):\n",
    "    a = np.random.rand(2**i,2**i)\n",
    "    b = np.random.rand(2**i,2**i)\n",
    "    c = np.zeros((2**i,2**i))\n",
    "\n",
    "    start = perf_counter()\n",
    "    alg5(a,b,c)\n",
    "    end = perf_counter()\n",
    "    tot = end-start\n",
    "\n",
    "    alg5times.append(tot)\n",
    "alg5times = np.array(alg5times).reshape(-1,1)\n",
    "df2[\"Alg5 Time\"] = alg5times"
   ]
  },
  {
   "cell_type": "markdown",
   "metadata": {},
   "source": [
    "Create the theoretical time complexities based on the input size for algorithm one using the same methodology as before. The equation T(n) is as shown in the pdf, and the input size is calculated using 2^i, wich 0 <= i <= 9. The time taken is then scaled by diving by 10^k, where k is a constant used to bring the time into similar ranges through trial and error. "
   ]
  },
  {
   "cell_type": "code",
   "execution_count": 780,
   "metadata": {},
   "outputs": [],
   "source": [
    "alg1theo = []\n",
    "for i in range(0,10):\n",
    "    s = 2**i\n",
    "    time = 13*(s**3) + 6*(s**2)+ 2*s + 10\n",
    "    time = time/10000000\n",
    "    alg1theo.append(time)\n",
    "alg1theo = np.array(alg1theo).reshape(-1,1)"
   ]
  },
  {
   "cell_type": "markdown",
   "metadata": {},
   "source": [
    "Repeat the process for algorithm 3 theoretical time complexity. "
   ]
  },
  {
   "cell_type": "code",
   "execution_count": 779,
   "metadata": {},
   "outputs": [],
   "source": [
    "alg3theo = []\n",
    "for i in range(0,10):\n",
    "    s = 2**i\n",
    "    time = (s**3)/1000000\n",
    "    alg3theo.append(time)\n",
    "alg3theo = np.array(alg3theo).reshape(-1,1)\n"
   ]
  },
  {
   "cell_type": "markdown",
   "metadata": {},
   "source": [
    "Repeat the process for algorithm 4 complexity. "
   ]
  },
  {
   "cell_type": "code",
   "execution_count": 784,
   "metadata": {},
   "outputs": [],
   "source": [
    "alg4theo = []\n",
    "for i in range(0,10):\n",
    "    s = 2**i\n",
    "    time = (s**3)/1000000\n",
    "    alg4theo.append(time)\n",
    "alg4theo = np.array(alg4theo).reshape(-1,1)"
   ]
  },
  {
   "cell_type": "markdown",
   "metadata": {},
   "source": [
    "Repeat the process for algorithm 5 complexity. "
   ]
  },
  {
   "cell_type": "code",
   "execution_count": 788,
   "metadata": {},
   "outputs": [],
   "source": [
    "alg5theo = []\n",
    "for i in range(0,10):\n",
    "    s = 2**i\n",
    "    time = (s**2.8)/1000000\n",
    "    alg5theo.append(time)\n",
    "alg5theo = np.array(alg5theo).reshape(-1,1)"
   ]
  },
  {
   "cell_type": "markdown",
   "metadata": {},
   "source": [
    "Add these theoretical complexities into the same dataframe."
   ]
  },
  {
   "cell_type": "code",
   "execution_count": 785,
   "metadata": {},
   "outputs": [],
   "source": [
    "df2[\"Alg1Theoretical Time\"] = alg1theo\n",
    "df2[\"Alg3Theoretical Time\"] = alg3theo\n",
    "df2[\"Alg4Theoretical Time\"] = alg4theo\n",
    "df2[\"Alg5Theoretical Time\"] = alg5theo"
   ]
  },
  {
   "cell_type": "markdown",
   "metadata": {},
   "source": [
    "View the dataframe."
   ]
  },
  {
   "cell_type": "code",
   "execution_count": 786,
   "metadata": {},
   "outputs": [
    {
     "data": {
      "text/html": [
       "<div>\n",
       "<style scoped>\n",
       "    .dataframe tbody tr th:only-of-type {\n",
       "        vertical-align: middle;\n",
       "    }\n",
       "\n",
       "    .dataframe tbody tr th {\n",
       "        vertical-align: top;\n",
       "    }\n",
       "\n",
       "    .dataframe thead th {\n",
       "        text-align: right;\n",
       "    }\n",
       "</style>\n",
       "<table border=\"1\" class=\"dataframe\">\n",
       "  <thead>\n",
       "    <tr style=\"text-align: right;\">\n",
       "      <th></th>\n",
       "      <th>Alg1 Time</th>\n",
       "      <th>Alg3 Time</th>\n",
       "      <th>Alg4 Time</th>\n",
       "      <th>Alg5 Time</th>\n",
       "      <th>Alg1Theoretical Time</th>\n",
       "      <th>Alg3Theoretical Time</th>\n",
       "      <th>Alg4Theoretical Time</th>\n",
       "      <th>Alg5Theoretical Time</th>\n",
       "    </tr>\n",
       "    <tr>\n",
       "      <th>Input Size</th>\n",
       "      <th></th>\n",
       "      <th></th>\n",
       "      <th></th>\n",
       "      <th></th>\n",
       "      <th></th>\n",
       "      <th></th>\n",
       "      <th></th>\n",
       "      <th></th>\n",
       "    </tr>\n",
       "  </thead>\n",
       "  <tbody>\n",
       "    <tr>\n",
       "      <th>1</th>\n",
       "      <td>0.000013</td>\n",
       "      <td>0.001174</td>\n",
       "      <td>0.000736</td>\n",
       "      <td>0.002344</td>\n",
       "      <td>0.000003</td>\n",
       "      <td>0.000001</td>\n",
       "      <td>0.000001</td>\n",
       "      <td>0.000001</td>\n",
       "    </tr>\n",
       "    <tr>\n",
       "      <th>2</th>\n",
       "      <td>0.000024</td>\n",
       "      <td>0.000031</td>\n",
       "      <td>0.000398</td>\n",
       "      <td>0.000019</td>\n",
       "      <td>0.000014</td>\n",
       "      <td>0.000008</td>\n",
       "      <td>0.000008</td>\n",
       "      <td>0.000007</td>\n",
       "    </tr>\n",
       "    <tr>\n",
       "      <th>4</th>\n",
       "      <td>0.000074</td>\n",
       "      <td>0.000113</td>\n",
       "      <td>0.001611</td>\n",
       "      <td>0.000049</td>\n",
       "      <td>0.000095</td>\n",
       "      <td>0.000064</td>\n",
       "      <td>0.000064</td>\n",
       "      <td>0.000049</td>\n",
       "    </tr>\n",
       "    <tr>\n",
       "      <th>8</th>\n",
       "      <td>0.000335</td>\n",
       "      <td>0.001280</td>\n",
       "      <td>0.011838</td>\n",
       "      <td>0.001834</td>\n",
       "      <td>0.000707</td>\n",
       "      <td>0.000512</td>\n",
       "      <td>0.000512</td>\n",
       "      <td>0.000338</td>\n",
       "    </tr>\n",
       "    <tr>\n",
       "      <th>16</th>\n",
       "      <td>0.002968</td>\n",
       "      <td>0.007830</td>\n",
       "      <td>0.074830</td>\n",
       "      <td>0.003188</td>\n",
       "      <td>0.005483</td>\n",
       "      <td>0.004096</td>\n",
       "      <td>0.004096</td>\n",
       "      <td>0.002353</td>\n",
       "    </tr>\n",
       "    <tr>\n",
       "      <th>32</th>\n",
       "      <td>0.036516</td>\n",
       "      <td>0.055617</td>\n",
       "      <td>0.422243</td>\n",
       "      <td>0.021316</td>\n",
       "      <td>0.043220</td>\n",
       "      <td>0.032768</td>\n",
       "      <td>0.032768</td>\n",
       "      <td>0.016384</td>\n",
       "    </tr>\n",
       "    <tr>\n",
       "      <th>64</th>\n",
       "      <td>0.254252</td>\n",
       "      <td>0.305307</td>\n",
       "      <td>3.397970</td>\n",
       "      <td>0.144845</td>\n",
       "      <td>0.343259</td>\n",
       "      <td>0.262144</td>\n",
       "      <td>0.262144</td>\n",
       "      <td>0.114105</td>\n",
       "    </tr>\n",
       "    <tr>\n",
       "      <th>128</th>\n",
       "      <td>1.179318</td>\n",
       "      <td>2.296945</td>\n",
       "      <td>25.268146</td>\n",
       "      <td>0.891848</td>\n",
       "      <td>2.736155</td>\n",
       "      <td>2.097152</td>\n",
       "      <td>2.097152</td>\n",
       "      <td>0.794672</td>\n",
       "    </tr>\n",
       "    <tr>\n",
       "      <th>256</th>\n",
       "      <td>9.144553</td>\n",
       "      <td>17.460472</td>\n",
       "      <td>178.866728</td>\n",
       "      <td>6.357739</td>\n",
       "      <td>21.849755</td>\n",
       "      <td>16.777216</td>\n",
       "      <td>16.777216</td>\n",
       "      <td>5.534417</td>\n",
       "    </tr>\n",
       "    <tr>\n",
       "      <th>512</th>\n",
       "      <td>62.498340</td>\n",
       "      <td>107.032453</td>\n",
       "      <td>1216.292731</td>\n",
       "      <td>43.847921</td>\n",
       "      <td>174.640436</td>\n",
       "      <td>134.217728</td>\n",
       "      <td>134.217728</td>\n",
       "      <td>38.543921</td>\n",
       "    </tr>\n",
       "  </tbody>\n",
       "</table>\n",
       "</div>"
      ],
      "text/plain": [
       "            Alg1 Time   Alg3 Time    Alg4 Time  Alg5 Time  \\\n",
       "Input Size                                                  \n",
       "1            0.000013    0.001174     0.000736   0.002344   \n",
       "2            0.000024    0.000031     0.000398   0.000019   \n",
       "4            0.000074    0.000113     0.001611   0.000049   \n",
       "8            0.000335    0.001280     0.011838   0.001834   \n",
       "16           0.002968    0.007830     0.074830   0.003188   \n",
       "32           0.036516    0.055617     0.422243   0.021316   \n",
       "64           0.254252    0.305307     3.397970   0.144845   \n",
       "128          1.179318    2.296945    25.268146   0.891848   \n",
       "256          9.144553   17.460472   178.866728   6.357739   \n",
       "512         62.498340  107.032453  1216.292731  43.847921   \n",
       "\n",
       "            Alg1Theoretical Time  Alg3Theoretical Time  Alg4Theoretical Time  \\\n",
       "Input Size                                                                     \n",
       "1                       0.000003              0.000001              0.000001   \n",
       "2                       0.000014              0.000008              0.000008   \n",
       "4                       0.000095              0.000064              0.000064   \n",
       "8                       0.000707              0.000512              0.000512   \n",
       "16                      0.005483              0.004096              0.004096   \n",
       "32                      0.043220              0.032768              0.032768   \n",
       "64                      0.343259              0.262144              0.262144   \n",
       "128                     2.736155              2.097152              2.097152   \n",
       "256                    21.849755             16.777216             16.777216   \n",
       "512                   174.640436            134.217728            134.217728   \n",
       "\n",
       "            Alg5Theoretical Time  \n",
       "Input Size                        \n",
       "1                       0.000001  \n",
       "2                       0.000007  \n",
       "4                       0.000049  \n",
       "8                       0.000338  \n",
       "16                      0.002353  \n",
       "32                      0.016384  \n",
       "64                      0.114105  \n",
       "128                     0.794672  \n",
       "256                     5.534417  \n",
       "512                    38.543921  "
      ]
     },
     "execution_count": 786,
     "metadata": {},
     "output_type": "execute_result"
    }
   ],
   "source": [
    "df2"
   ]
  },
  {
   "cell_type": "markdown",
   "metadata": {},
   "source": [
    "Plot the time eomplexities as a function of input size. All the empirical (or observed) complexities are shown with a solid line. All theoretical complexities are displayed with a dotted line. A legend is shown in the left corner to be able to denote which line corresponds to which time complexity. Along the x axis, we have the input size. Along the y axis, we have the time taken. "
   ]
  },
  {
   "cell_type": "code",
   "execution_count": 787,
   "metadata": {},
   "outputs": [
    {
     "data": {
      "image/png": "[encoded data removed]",
      "text/plain": [
       "<Figure size 432x288 with 1 Axes>"
      ]
     },
     "metadata": {
      "needs_background": "light"
     },
     "output_type": "display_data"
    }
   ],
   "source": [
    "plt.plot(df2.index, df2[\"Alg1 Time\"], label = \"Algorithm 1 - Empirical\")\n",
    "plt.plot(df2.index, df2[\"Alg3 Time\"], label = \"Algorithm 3 - Empirical\")\n",
    "plt.plot(df2.index, df2[\"Alg4 Time\"], label = \"Algorithm 4 - Empirical\")\n",
    "plt.plot(df2.index, df2[\"Alg5 Time\"], label = \"Algorithm 5 - Empirical\")\n",
    "plt.plot(df2.index, df2[\"Alg1Theoretical Time\"], label = \"Algorithm 1 - Theoretical\", linestyle = '--')\n",
    "plt.plot(df2.index, df2[\"Alg3Theoretical Time\"], label = \"Algorithm 3 - Theoretical\", linestyle = '--')\n",
    "plt.plot(df2.index, df2[\"Alg4Theoretical Time\"], label = \"Algorithm 4 - Theoretical\", linestyle = '--')\n",
    "plt.plot(df2.index, df2[\"Alg5Theoretical Time\"], label = \"Algorithm 5 - Theoretical\", linestyle = '--')\n",
    "plt.xlabel(\"Input Size\")\n",
    "plt.ylabel(\"Time\")\n",
    "plt.title(\"Input Size vs Time\")\n",
    "plt.legend()\n",
    "plt.show()"
   ]
  },
  {
   "cell_type": "markdown",
   "metadata": {},
   "source": [
    "Matrix Chain Multiplication Problem:"
   ]
  },
  {
   "cell_type": "markdown",
   "metadata": {},
   "source": [
    "<img src=\"matrix_chain_order.png\" width = \"400\" height = \"300\" />"
   ]
  },
  {
   "cell_type": "markdown",
   "metadata": {},
   "source": [
    "Import a package that allows us to replicate the infinity as shown in the pseudocode above."
   ]
  },
  {
   "cell_type": "code",
   "execution_count": 29,
   "metadata": {},
   "outputs": [],
   "source": [
    "import sys"
   ]
  },
  {
   "cell_type": "markdown",
   "metadata": {},
   "source": [
    "Implement the matrix_chain_order as shown above in the excerpt from the textbook. The parameters p and n are passed in, with p representing the dimensions for each of the matrices in the matrix chain, and n is the number of matrices in the matrix chain. Two matrices are created, m and s, and populated initially with zeros. The m matrix is to represent the \"cost\" or number of multiplications it requires when multiplying in this specific sequence. The s matrix is to represent the value of k, or the split, that allowed us to minimize this cost. All the values in m along the diagonal are initalized to 0, since the cost is zero when multiplying a matrix by itself. Another for loop is generated, l which represents the length of the matrix chains whose minimum costs are being computed. An inner loop, i iterates over the range of starting indices. And j represents the ending index of the subchain. m[i][j] is initially set to maxsize, acting as a placeholder for the minimum cost, since amy cost we compute will be less than the maxsize. The cost is then computed for different k values which represent the split points, and if the cost is less than the current cost for that spot in m, then it replaces it. The corresponding value in s is updated with the k (or split point) value that allowed us to achieve this minimum cost.\n",
    "Note: Some of the indices were modified to ensure they would work with python since it indexes beginning at 0."
   ]
  },
  {
   "cell_type": "code",
   "execution_count": 209,
   "metadata": {},
   "outputs": [],
   "source": [
    "def matrix_chain_order(p,n):\n",
    "    m = np.zeros((n,n))\n",
    "    s = np.zeros((n,n))\n",
    " \n",
    "    for i in range(n):\n",
    "        m[i][i] = 0\n",
    "    #l denotes the length of matrix chains whose minimum costs are being computed\n",
    "    for l in range(2,n+1):\n",
    "        for i in range(n-l+1):\n",
    "            j = i+l-1\n",
    "            m[i][j] = sys.maxsize\n",
    "            for k in range(i, j):\n",
    "                q = m[i][k] + m[k+1][j] + (p[i]*p[k+1]*p[j+1])\n",
    "                if q < m[i][j]:\n",
    "                    m[i][j] = q\n",
    "                    s[i][j] = k+1\n",
    "\n",
    "\n",
    "    return m,s\n",
    "\n"
   ]
  },
  {
   "cell_type": "markdown",
   "metadata": {},
   "source": [
    "Develop a function to generate all the matrix chains. First generate all the dimensions for each matrix in each matrix chain. I chose to store this information in a two-dimensional array called p, with rows representing the i-th matrix chain, and columns representing the j-th matrix within each matrix chain. Then, I populated p, generating the bounds for each position, with 10 being the lowerbound and i*10 being the upperbound. (As per the assignment instructions, since j must be from 2 to 20, I adjusted my variables accordingly since python is indexed starting from 0). Then I used this information to create the chain of matrices. Starting with each matrix chain, we generate a chain and loop through, creating matrices using the values in p to create the row and column values. (Note that rows is accessed using p[i][j] and columns is accessed using p[i][j+1], this is to ensure that you are able to multiply matrices that are next to each other). Once row and column dimensions are determined, we generate the matrix, using random.rand to generate a number between 0 and 1. Then we append this to our chain, and do this ten times so that each chain contains ten matrices. Once this is completed, we move to the next chain of matrices in the matrix chain. Finally, we return p and the matrix_chain. "
   ]
  },
  {
   "cell_type": "code",
   "execution_count": 493,
   "metadata": {},
   "outputs": [],
   "source": [
    "def generate_matrix_chain():\n",
    "\n",
    "    #create the dimensions\n",
    "    p = np.zeros((19,11))\n",
    "    for i in range(len(p)): #for each row\n",
    "        for j in range(len(p[i])): #for each column in that row\n",
    "            p[i][j] = np.random.randint(10,(i+2)*10 + 1)\n",
    "\n",
    "    #create the matrices\n",
    "    matrix_chain = []\n",
    "\n",
    "    for i in range(19):\n",
    "        chain = []\n",
    "        for j in range(10):\n",
    "            rows = int(p[i][j])\n",
    "            cols = int(p[i][j+1])\n",
    "            matrix = np.random.rand(rows,cols)\n",
    "            chain.append(matrix)\n",
    "        matrix_chain.append(chain)\n",
    "    return p, matrix_chain\n",
    "            "
   ]
  },
  {
   "cell_type": "markdown",
   "metadata": {},
   "source": [
    "Generate a function that multiplies the matrices sequentially, with a parameter for the matrix chain. Inititially create a variable named result and initialize it to the first matrix in the matric chain. Then loop through the rest of the matrix chain using alg1, inputting the current result as the first matrix, the next matrix in the loop as the second input, and the third input is an empty array to be filled out and returned using those two inputs to calculate the proper dimensions for it. The result variable effectively stores the current matrix that has been created as a product of multiplying all the previous matrices. Return the resultant matrix once you have looped through and multipled the entire matrix chain. "
   ]
  },
  {
   "cell_type": "code",
   "execution_count": 490,
   "metadata": {},
   "outputs": [],
   "source": [
    "def sequential_multiply(matrices):\n",
    "    result = matrices[0]\n",
    "    for matrix in matrices[1:]:\n",
    "        result = alg1(result, matrix, np.zeros((result.shape[0], matrix.shape[1])))\n",
    "    return result"
   ]
  },
  {
   "cell_type": "markdown",
   "metadata": {},
   "source": [
    "<img src=\"print_optimal.png\" width = \"400\" height = \"150\" />"
   ]
  },
  {
   "cell_type": "markdown",
   "metadata": {},
   "source": [
    "Implement the chain_matrix_multiply function, modified from the print-optimal-parens algorithm found in the textbook. This is a recursive function that takes the s matrix (generated from the matrix_chain_order algorithm), the chain of matrices to be multiplied, and the starting and ending indices of the matrix chain. The base case is if the starting and end indices are the same, in which case, it is only referring to one matrix, so we can return the matrix. Else, we split the matrix chain by using the value in our s matrix, with our left chain being everything to the left of that value and the right side being everything to the right of that value. This algorithm recursively splits the chain until the base case is reached and it uses alg1 to multiply the left and right chains. "
   ]
  },
  {
   "cell_type": "code",
   "execution_count": 272,
   "metadata": {},
   "outputs": [],
   "source": [
    "#s is the matrix, i and j are start and end indices of the matrix chain\n",
    "def chain_matrix_multiply(s,matrices,i,j):\n",
    "    #if only one matrix\n",
    "    if i==j:\n",
    "        return matrices[i]\n",
    "    else:\n",
    "        #get split point from s matrix\n",
    "        left = chain_matrix_multiply(s, matrices, i, int(s[i][j]-1))\n",
    "        right = chain_matrix_multiply(s,matrices, int(s[i][j]), j)\n",
    "        return alg1(left, right, np.zeros((left.shape[0],right.shape[1])))\n"
   ]
  },
  {
   "cell_type": "markdown",
   "metadata": {},
   "source": [
    "Generate a dataframe to show the performance analysis of sequential multiplication versus optimal performance when using the matrix-chain-order algorithm. First, create a dataframe with the titles of the respective columns and use generate_matrix_chain() to obtain the matrices that will be used (matrices) and the dimensions(p). Then for each matrix, we take note of the time before running the sequential_multiply algorithm, and after, and take the difference to calculate the run time. We also complete the same process but using the matrix-chain-order and chain-matrix-multiply algorithm. We then store this in the dataframe. "
   ]
  },
  {
   "cell_type": "code",
   "execution_count": 496,
   "metadata": {},
   "outputs": [],
   "source": [
    "df3 =  pd.DataFrame(columns = ['Matrix Chain ID', 'Upper Bound', 'Sequential Performance', 'Optimal Performance'])\n",
    "df3 = df3.set_index('Matrix Chain ID')\n",
    "\n",
    "p, matrices = generate_matrix_chain()\n",
    "\n",
    "\n",
    "for i in range(len(matrices)):\n",
    "    startseq = time.perf_counter()\n",
    "    sequential_multiply(matrices[i])\n",
    "    endseq = time.perf_counter()\n",
    "    totalseq = endseq - startseq\n",
    "\n",
    "    upper = (i+2)*10\n",
    "\n",
    "    startopt = time.perf_counter()\n",
    "    m,s = matrix_chain_order(p[i], len(p[i])-1)\n",
    "    chain_matrix_multiply(s, matrices[i], 0, len(p[i])-2)\n",
    "    endopt = time.perf_counter()\n",
    "    totalopt = endopt - startopt\n",
    "    \n",
    "\n",
    "\n",
    "    df3.loc[i+2] = [upper, totalseq, totalopt]\n",
    "    \n"
   ]
  },
  {
   "cell_type": "code",
   "execution_count": 497,
   "metadata": {},
   "outputs": [
    {
     "data": {
      "text/html": [
       "<div>\n",
       "<style scoped>\n",
       "    .dataframe tbody tr th:only-of-type {\n",
       "        vertical-align: middle;\n",
       "    }\n",
       "\n",
       "    .dataframe tbody tr th {\n",
       "        vertical-align: top;\n",
       "    }\n",
       "\n",
       "    .dataframe thead th {\n",
       "        text-align: right;\n",
       "    }\n",
       "</style>\n",
       "<table border=\"1\" class=\"dataframe\">\n",
       "  <thead>\n",
       "    <tr style=\"text-align: right;\">\n",
       "      <th></th>\n",
       "      <th>Upper Bound</th>\n",
       "      <th>Sequential Performance</th>\n",
       "      <th>Optimal Performance</th>\n",
       "    </tr>\n",
       "    <tr>\n",
       "      <th>Matrix Chain ID</th>\n",
       "      <th></th>\n",
       "      <th></th>\n",
       "      <th></th>\n",
       "    </tr>\n",
       "  </thead>\n",
       "  <tbody>\n",
       "    <tr>\n",
       "      <th>2</th>\n",
       "      <td>20.0</td>\n",
       "      <td>0.034980</td>\n",
       "      <td>0.026850</td>\n",
       "    </tr>\n",
       "    <tr>\n",
       "      <th>3</th>\n",
       "      <td>30.0</td>\n",
       "      <td>0.043671</td>\n",
       "      <td>0.034264</td>\n",
       "    </tr>\n",
       "    <tr>\n",
       "      <th>4</th>\n",
       "      <td>40.0</td>\n",
       "      <td>0.173957</td>\n",
       "      <td>0.088728</td>\n",
       "    </tr>\n",
       "    <tr>\n",
       "      <th>5</th>\n",
       "      <td>50.0</td>\n",
       "      <td>0.151911</td>\n",
       "      <td>0.069100</td>\n",
       "    </tr>\n",
       "    <tr>\n",
       "      <th>6</th>\n",
       "      <td>60.0</td>\n",
       "      <td>0.502377</td>\n",
       "      <td>0.095341</td>\n",
       "    </tr>\n",
       "    <tr>\n",
       "      <th>7</th>\n",
       "      <td>70.0</td>\n",
       "      <td>0.112881</td>\n",
       "      <td>0.113990</td>\n",
       "    </tr>\n",
       "    <tr>\n",
       "      <th>8</th>\n",
       "      <td>80.0</td>\n",
       "      <td>0.359575</td>\n",
       "      <td>0.272520</td>\n",
       "    </tr>\n",
       "    <tr>\n",
       "      <th>9</th>\n",
       "      <td>90.0</td>\n",
       "      <td>0.937030</td>\n",
       "      <td>0.209193</td>\n",
       "    </tr>\n",
       "    <tr>\n",
       "      <th>10</th>\n",
       "      <td>100.0</td>\n",
       "      <td>0.552301</td>\n",
       "      <td>0.345363</td>\n",
       "    </tr>\n",
       "    <tr>\n",
       "      <th>11</th>\n",
       "      <td>110.0</td>\n",
       "      <td>1.824993</td>\n",
       "      <td>0.335480</td>\n",
       "    </tr>\n",
       "    <tr>\n",
       "      <th>12</th>\n",
       "      <td>120.0</td>\n",
       "      <td>1.231213</td>\n",
       "      <td>0.522857</td>\n",
       "    </tr>\n",
       "    <tr>\n",
       "      <th>13</th>\n",
       "      <td>130.0</td>\n",
       "      <td>1.469553</td>\n",
       "      <td>0.275519</td>\n",
       "    </tr>\n",
       "    <tr>\n",
       "      <th>14</th>\n",
       "      <td>140.0</td>\n",
       "      <td>0.342866</td>\n",
       "      <td>0.307105</td>\n",
       "    </tr>\n",
       "    <tr>\n",
       "      <th>15</th>\n",
       "      <td>150.0</td>\n",
       "      <td>0.379774</td>\n",
       "      <td>0.245008</td>\n",
       "    </tr>\n",
       "    <tr>\n",
       "      <th>16</th>\n",
       "      <td>160.0</td>\n",
       "      <td>3.243678</td>\n",
       "      <td>0.766439</td>\n",
       "    </tr>\n",
       "    <tr>\n",
       "      <th>17</th>\n",
       "      <td>170.0</td>\n",
       "      <td>7.322079</td>\n",
       "      <td>2.239840</td>\n",
       "    </tr>\n",
       "    <tr>\n",
       "      <th>18</th>\n",
       "      <td>180.0</td>\n",
       "      <td>4.312227</td>\n",
       "      <td>1.517940</td>\n",
       "    </tr>\n",
       "    <tr>\n",
       "      <th>19</th>\n",
       "      <td>190.0</td>\n",
       "      <td>5.865720</td>\n",
       "      <td>1.202658</td>\n",
       "    </tr>\n",
       "    <tr>\n",
       "      <th>20</th>\n",
       "      <td>200.0</td>\n",
       "      <td>0.920795</td>\n",
       "      <td>0.843915</td>\n",
       "    </tr>\n",
       "  </tbody>\n",
       "</table>\n",
       "</div>"
      ],
      "text/plain": [
       "                 Upper Bound  Sequential Performance  Optimal Performance\n",
       "Matrix Chain ID                                                          \n",
       "2                       20.0                0.034980             0.026850\n",
       "3                       30.0                0.043671             0.034264\n",
       "4                       40.0                0.173957             0.088728\n",
       "5                       50.0                0.151911             0.069100\n",
       "6                       60.0                0.502377             0.095341\n",
       "7                       70.0                0.112881             0.113990\n",
       "8                       80.0                0.359575             0.272520\n",
       "9                       90.0                0.937030             0.209193\n",
       "10                     100.0                0.552301             0.345363\n",
       "11                     110.0                1.824993             0.335480\n",
       "12                     120.0                1.231213             0.522857\n",
       "13                     130.0                1.469553             0.275519\n",
       "14                     140.0                0.342866             0.307105\n",
       "15                     150.0                0.379774             0.245008\n",
       "16                     160.0                3.243678             0.766439\n",
       "17                     170.0                7.322079             2.239840\n",
       "18                     180.0                4.312227             1.517940\n",
       "19                     190.0                5.865720             1.202658\n",
       "20                     200.0                0.920795             0.843915"
      ]
     },
     "execution_count": 497,
     "metadata": {},
     "output_type": "execute_result"
    }
   ],
   "source": [
    "df3"
   ]
  },
  {
   "cell_type": "code",
   "execution_count": 501,
   "metadata": {},
   "outputs": [
    {
     "data": {
      "image/png": "[encoded data removed]",
      "text/plain": [
       "<Figure size 432x288 with 1 Axes>"
      ]
     },
     "metadata": {
      "needs_background": "light"
     },
     "output_type": "display_data"
    }
   ],
   "source": [
    "ub = df3[\"Upper Bound\"]\n",
    "seq = df3[\"Sequential Performance\"]\n",
    "opt = df3[\"Optimal Performance\"]\n",
    "\n",
    "plt.plot(ub, seq, label = \"Sequential Performance\")\n",
    "plt.plot(ub, opt, label = \"Optimal Performance\")\n",
    "plt.xlabel(\"Matrix Size Upper Bound\")\n",
    "plt.ylabel(\"Time\")\n",
    "plt.title(\"Matrix Size Upper Bound vs Time\")\n",
    "plt.legend()\n",
    "plt.show()"
   ]
  }
 ],
 "metadata": {
  "kernelspec": {
   "display_name": "base",
   "language": "python",
   "name": "python3"
  },
  "language_info": {
   "codemirror_mode": {
    "name": "ipython",
    "version": 3
   },
   "file_extension": ".py",
   "mimetype": "text/x-python",
   "name": "python",
   "nbconvert_exporter": "python",
   "pygments_lexer": "ipython3",
   "version": "3.9.7"
  }
 },
 "nbformat": 4,
 "nbformat_minor": 2
}
