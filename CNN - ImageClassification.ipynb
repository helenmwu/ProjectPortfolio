{
  "nbformat": 4,
  "nbformat_minor": 0,
  "metadata": {
    "colab": {
      "provenance": [],
      "gpuType": "T4"
    },
    "kernelspec": {
      "name": "python3",
      "display_name": "Python 3"
    },
    "language_info": {
      "name": "python"
    },
    "accelerator": "GPU"
  },
  "cells": [
    {
      "cell_type": "code",
      "execution_count": 1,
      "metadata": {
        "colab": {
          "base_uri": "https://localhost:8080/"
        },
        "id": "65qS_7xSiM9t",
        "outputId": "7ef346f2-63a6-44d1-9912-ed283a22c447"
      },
      "outputs": [
        {
          "output_type": "stream",
          "name": "stdout",
          "text": [
            "Warning: Looks like you're using an outdated `kagglehub` version, please consider updating (latest version: 0.3.4)\n",
            "Downloading from https://www.kaggle.com/api/v1/datasets/download/puneet6060/intel-image-classification?dataset_version_number=2...\n"
          ]
        },
        {
          "output_type": "stream",
          "name": "stderr",
          "text": [
            "100%|██████████| 346M/346M [00:02<00:00, 155MB/s]"
          ]
        },
        {
          "output_type": "stream",
          "name": "stdout",
          "text": [
            "Extracting files...\n"
          ]
        },
        {
          "output_type": "stream",
          "name": "stderr",
          "text": [
            "\n"
          ]
        }
      ],
      "source": [
        "import kagglehub\n",
        "import os\n",
        "import cv2\n",
        "import numpy as np\n",
        "import pandas as pd\n",
        "from tensorflow.keras.utils import to_categorical\n",
        "from tensorflow.keras.preprocessing.image import ImageDataGenerator\n",
        "path = kagglehub.dataset_download(\"puneet6060/intel-image-classification\")"
      ]
    },
    {
      "cell_type": "code",
      "source": [
        "import tensorflow as tf\n",
        "from tensorflow.keras.models import Sequential\n",
        "from tensorflow.keras.layers import Conv2D, MaxPooling2D, Flatten, Dense, Dropout\n",
        "from sklearn.metrics import confusion_matrix, accuracy_score"
      ],
      "metadata": {
        "id": "nHIeB8gflms-"
      },
      "execution_count": 2,
      "outputs": []
    },
    {
      "cell_type": "code",
      "source": [
        "print(\"Path to dataset files:\", path)\n",
        "os.listdir(path)"
      ],
      "metadata": {
        "colab": {
          "base_uri": "https://localhost:8080/"
        },
        "id": "dj1Yg7Rcij75",
        "outputId": "118f2355-7be3-451c-f3ac-8dbceaafdf00"
      },
      "execution_count": 3,
      "outputs": [
        {
          "output_type": "stream",
          "name": "stdout",
          "text": [
            "Path to dataset files: /root/.cache/kagglehub/datasets/puneet6060/intel-image-classification/versions/2\n"
          ]
        },
        {
          "output_type": "execute_result",
          "data": {
            "text/plain": [
              "['seg_pred', 'seg_train', 'seg_test']"
            ]
          },
          "metadata": {},
          "execution_count": 3
        }
      ]
    },
    {
      "cell_type": "code",
      "source": [
        "train_dir = os.path.join(path, 'seg_train')\n",
        "val_dir = os.path.join(path, 'seg_test')"
      ],
      "metadata": {
        "id": "t8fa9bBllTVW"
      },
      "execution_count": 4,
      "outputs": []
    },
    {
      "cell_type": "code",
      "source": [
        "train_dir1 = os.path.join(train_dir, 'seg_train')\n",
        "print(train_dir1)"
      ],
      "metadata": {
        "colab": {
          "base_uri": "https://localhost:8080/"
        },
        "id": "sDW78UwcOtg_",
        "outputId": "539b8d3f-3df5-4839-90ed-3760df8cad18"
      },
      "execution_count": 5,
      "outputs": [
        {
          "output_type": "stream",
          "name": "stdout",
          "text": [
            "/root/.cache/kagglehub/datasets/puneet6060/intel-image-classification/versions/2/seg_train/seg_train\n"
          ]
        }
      ]
    },
    {
      "cell_type": "code",
      "source": [
        "val_dir1 = os.path.join(val_dir, 'seg_test')\n",
        "print(val_dir1)"
      ],
      "metadata": {
        "colab": {
          "base_uri": "https://localhost:8080/"
        },
        "id": "kIyNz5QSQF2j",
        "outputId": "8dede772-a689-4dd7-cbf7-adf44ee7d0e7"
      },
      "execution_count": 6,
      "outputs": [
        {
          "output_type": "stream",
          "name": "stdout",
          "text": [
            "/root/.cache/kagglehub/datasets/puneet6060/intel-image-classification/versions/2/seg_test/seg_test\n"
          ]
        }
      ]
    },
    {
      "cell_type": "markdown",
      "source": [
        "Used image size of (64,64) because anything larger was taking too long to load"
      ],
      "metadata": {
        "id": "LjXozfqxV31g"
      }
    },
    {
      "cell_type": "markdown",
      "source": [
        "Create two functions to load the images and their labels"
      ],
      "metadata": {
        "id": "_4ONHcNcWgA7"
      }
    },
    {
      "cell_type": "code",
      "source": [
        "IMG_SIZE = (64, 64)\n",
        "NUM_CLASSES = 6\n",
        "\n",
        "def load_images_from_class_folder(class_folder_path, img_size, label):\n",
        "    images = []\n",
        "    labels = []\n",
        "\n",
        "    for filename in os.listdir(class_folder_path):\n",
        "        img_path = os.path.join(class_folder_path, filename)\n",
        "        img = cv2.imread(img_path)\n",
        "\n",
        "        if img is not None:\n",
        "            img = cv2.resize(img, img_size)\n",
        "            img = img / 255.0\n",
        "            images.append(img)\n",
        "            labels.append(label)\n",
        "\n",
        "    return images, labels"
      ],
      "metadata": {
        "id": "ig5XiUYPlUPK"
      },
      "execution_count": 7,
      "outputs": []
    },
    {
      "cell_type": "code",
      "source": [
        "def load_dataset(data_dir, img_size=(64, 64)):\n",
        "    images = []\n",
        "    labels = []\n",
        "    class_names = os.listdir(data_dir)\n",
        "\n",
        "    for idx, class_name in enumerate(class_names):\n",
        "        class_path = os.path.join(data_dir, class_name)\n",
        "        if os.path.isdir(class_path):\n",
        "            class_images, class_labels = load_images_from_class_folder(class_path, img_size, idx)\n",
        "            images.extend(class_images)\n",
        "            labels.extend(class_labels)\n",
        "\n",
        "    images = np.array(images, dtype=np.float32)\n",
        "    labels = np.array(labels, dtype=np.int32)\n",
        "    labels = to_categorical(labels, NUM_CLASSES)\n",
        "\n",
        "    return images, labels, class_names"
      ],
      "metadata": {
        "id": "kKi93_daKoke"
      },
      "execution_count": 8,
      "outputs": []
    },
    {
      "cell_type": "code",
      "source": [
        "train_images, train_labels, class_names = load_dataset(train_dir1, IMG_SIZE)\n",
        "val_images, val_labels, _ = load_dataset(val_dir1, IMG_SIZE)\n",
        "\n",
        "\n",
        "#making sure the shape is correct and making sure class labels were correctly created\n",
        "print(\"Training data shape:\", train_images.shape, train_labels.shape)\n",
        "print(\"Validation data shape:\", val_images.shape, val_labels.shape)\n",
        "print(\"Class names:\", class_names)\n"
      ],
      "metadata": {
        "colab": {
          "base_uri": "https://localhost:8080/"
        },
        "id": "VfHmkGuglcf1",
        "outputId": "f12a466b-af1b-44e0-9af1-c0fc3bfc45c8"
      },
      "execution_count": 9,
      "outputs": [
        {
          "output_type": "stream",
          "name": "stdout",
          "text": [
            "Training data shape: (14034, 64, 64, 3) (14034, 6)\n",
            "Validation data shape: (3000, 64, 64, 3) (3000, 6)\n",
            "Class names: ['sea', 'street', 'mountain', 'glacier', 'buildings', 'forest']\n"
          ]
        }
      ]
    },
    {
      "cell_type": "code",
      "source": [
        "#create and prepare dataframe for later\n",
        "columns = ['Class 0 accuracy', 'Class 1 accuracy', 'Class 2 accuracy', 'Class 3 accuracy', 'Class 4 accuracy', 'Class 5 accuracy', 'Total accuracy']\n",
        "df = pd.DataFrame(columns = columns)\n",
        "\n"
      ],
      "metadata": {
        "id": "ovm50MiV_F1R"
      },
      "execution_count": 29,
      "outputs": []
    },
    {
      "cell_type": "code",
      "source": [
        "#create first model with 3 convolutional layers, 3 pooling layers and a dense layer and dropout layer\n",
        "\n",
        "model1 = tf.keras.models.Sequential()\n",
        "model1.add(tf.keras.layers.Conv2D(32, (3, 3), padding='same', activation='relu', input_shape=(IMG_SIZE[0], IMG_SIZE[1],3)))\n",
        "model1.add(tf.keras.layers.MaxPooling2D(pool_size=(2, 2), strides=(2,2)))\n",
        "model1.add(tf.keras.layers.Conv2D(64, (3, 3), padding='same', activation='relu'))\n",
        "model1.add(tf.keras.layers.MaxPooling2D(pool_size=(2, 2), strides=(2,2)))\n",
        "model1.add(tf.keras.layers.Conv2D(128, (3, 3), padding='same', activation='relu'))\n",
        "model1.add(tf.keras.layers.MaxPooling2D(pool_size=(2, 2), strides=(2,2)))\n",
        "\n",
        "\n",
        "model1.add(tf.keras.layers.Flatten())\n",
        "model1.add(tf.keras.layers.Dense(256))\n",
        "model1.add(tf.keras.layers.Activation('relu'))\n",
        "model1.add(tf.keras.layers.Dropout(0.5))\n",
        "model1.add(tf.keras.layers.Dense(NUM_CLASSES))\n",
        "model1.add(tf.keras.layers.Activation('softmax'))\n",
        "\n",
        "#model1.compile(loss='categorical_crossentropy', optimizer=tf.keras.optimizers.Adam(learning_rate=0.025), metrics=['accuracy'])\n",
        "model1.compile(loss='categorical_crossentropy', optimizer=tf.keras.optimizers.SGD(learning_rate=0.025, momentum=0.9), metrics=['accuracy'])"
      ],
      "metadata": {
        "colab": {
          "base_uri": "https://localhost:8080/"
        },
        "id": "cF5FggHTWGHE",
        "outputId": "99cc6817-fd13-43af-cf41-28aede5d1301"
      },
      "execution_count": 92,
      "outputs": [
        {
          "output_type": "stream",
          "name": "stderr",
          "text": [
            "/usr/local/lib/python3.10/dist-packages/keras/src/layers/convolutional/base_conv.py:107: UserWarning: Do not pass an `input_shape`/`input_dim` argument to a layer. When using Sequential models, prefer using an `Input(shape)` object as the first layer in the model instead.\n",
            "  super().__init__(activity_regularizer=activity_regularizer, **kwargs)\n"
          ]
        }
      ]
    },
    {
      "cell_type": "code",
      "source": [
        "cnn_model1 = model1\n",
        "# Train the model.\n",
        "cnn_model1.fit(\n",
        "    train_images,\n",
        "    train_labels,\n",
        "    batch_size=32,\n",
        "    epochs=20)"
      ],
      "metadata": {
        "colab": {
          "base_uri": "https://localhost:8080/"
        },
        "id": "ZrTJzx6xSbc-",
        "outputId": "996a556c-4952-44ee-f594-23f26373bc6d"
      },
      "execution_count": 103,
      "outputs": [
        {
          "output_type": "stream",
          "name": "stdout",
          "text": [
            "Epoch 1/20\n",
            "\u001b[1m439/439\u001b[0m \u001b[32m━━━━━━━━━━━━━━━━━━━━\u001b[0m\u001b[37m\u001b[0m \u001b[1m5s\u001b[0m 9ms/step - accuracy: 0.7795 - loss: 0.6526\n",
            "Epoch 2/20\n",
            "\u001b[1m439/439\u001b[0m \u001b[32m━━━━━━━━━━━━━━━━━━━━\u001b[0m\u001b[37m\u001b[0m \u001b[1m3s\u001b[0m 6ms/step - accuracy: 0.7893 - loss: 0.5902\n",
            "Epoch 3/20\n",
            "\u001b[1m439/439\u001b[0m \u001b[32m━━━━━━━━━━━━━━━━━━━━\u001b[0m\u001b[37m\u001b[0m \u001b[1m3s\u001b[0m 6ms/step - accuracy: 0.7951 - loss: 0.5780\n",
            "Epoch 4/20\n",
            "\u001b[1m439/439\u001b[0m \u001b[32m━━━━━━━━━━━━━━━━━━━━\u001b[0m\u001b[37m\u001b[0m \u001b[1m5s\u001b[0m 6ms/step - accuracy: 0.8253 - loss: 0.5010\n",
            "Epoch 5/20\n",
            "\u001b[1m439/439\u001b[0m \u001b[32m━━━━━━━━━━━━━━━━━━━━\u001b[0m\u001b[37m\u001b[0m \u001b[1m3s\u001b[0m 6ms/step - accuracy: 0.8436 - loss: 0.4614\n",
            "Epoch 6/20\n",
            "\u001b[1m439/439\u001b[0m \u001b[32m━━━━━━━━━━━━━━━━━━━━\u001b[0m\u001b[37m\u001b[0m \u001b[1m5s\u001b[0m 6ms/step - accuracy: 0.8471 - loss: 0.4444\n",
            "Epoch 7/20\n",
            "\u001b[1m439/439\u001b[0m \u001b[32m━━━━━━━━━━━━━━━━━━━━\u001b[0m\u001b[37m\u001b[0m \u001b[1m3s\u001b[0m 6ms/step - accuracy: 0.8521 - loss: 0.4253\n",
            "Epoch 8/20\n",
            "\u001b[1m439/439\u001b[0m \u001b[32m━━━━━━━━━━━━━━━━━━━━\u001b[0m\u001b[37m\u001b[0m \u001b[1m6s\u001b[0m 7ms/step - accuracy: 0.8541 - loss: 0.4311\n",
            "Epoch 9/20\n",
            "\u001b[1m439/439\u001b[0m \u001b[32m━━━━━━━━━━━━━━━━━━━━\u001b[0m\u001b[37m\u001b[0m \u001b[1m3s\u001b[0m 7ms/step - accuracy: 0.8608 - loss: 0.4167\n",
            "Epoch 10/20\n",
            "\u001b[1m439/439\u001b[0m \u001b[32m━━━━━━━━━━━━━━━━━━━━\u001b[0m\u001b[37m\u001b[0m \u001b[1m6s\u001b[0m 9ms/step - accuracy: 0.8761 - loss: 0.3755\n",
            "Epoch 11/20\n",
            "\u001b[1m439/439\u001b[0m \u001b[32m━━━━━━━━━━━━━━━━━━━━\u001b[0m\u001b[37m\u001b[0m \u001b[1m4s\u001b[0m 6ms/step - accuracy: 0.8568 - loss: 0.4154\n",
            "Epoch 12/20\n",
            "\u001b[1m439/439\u001b[0m \u001b[32m━━━━━━━━━━━━━━━━━━━━\u001b[0m\u001b[37m\u001b[0m \u001b[1m3s\u001b[0m 7ms/step - accuracy: 0.8625 - loss: 0.4265\n",
            "Epoch 13/20\n",
            "\u001b[1m439/439\u001b[0m \u001b[32m━━━━━━━━━━━━━━━━━━━━\u001b[0m\u001b[37m\u001b[0m \u001b[1m5s\u001b[0m 6ms/step - accuracy: 0.8656 - loss: 0.4194\n",
            "Epoch 14/20\n",
            "\u001b[1m439/439\u001b[0m \u001b[32m━━━━━━━━━━━━━━━━━━━━\u001b[0m\u001b[37m\u001b[0m \u001b[1m3s\u001b[0m 6ms/step - accuracy: 0.8720 - loss: 0.4023\n",
            "Epoch 15/20\n",
            "\u001b[1m439/439\u001b[0m \u001b[32m━━━━━━━━━━━━━━━━━━━━\u001b[0m\u001b[37m\u001b[0m \u001b[1m6s\u001b[0m 7ms/step - accuracy: 0.8518 - loss: 0.4476\n",
            "Epoch 16/20\n",
            "\u001b[1m439/439\u001b[0m \u001b[32m━━━━━━━━━━━━━━━━━━━━\u001b[0m\u001b[37m\u001b[0m \u001b[1m5s\u001b[0m 6ms/step - accuracy: 0.8754 - loss: 0.3811\n",
            "Epoch 17/20\n",
            "\u001b[1m439/439\u001b[0m \u001b[32m━━━━━━━━━━━━━━━━━━━━\u001b[0m\u001b[37m\u001b[0m \u001b[1m3s\u001b[0m 6ms/step - accuracy: 0.8707 - loss: 0.4171\n",
            "Epoch 18/20\n",
            "\u001b[1m439/439\u001b[0m \u001b[32m━━━━━━━━━━━━━━━━━━━━\u001b[0m\u001b[37m\u001b[0m \u001b[1m5s\u001b[0m 7ms/step - accuracy: 0.8688 - loss: 0.3980\n",
            "Epoch 19/20\n",
            "\u001b[1m439/439\u001b[0m \u001b[32m━━━━━━━━━━━━━━━━━━━━\u001b[0m\u001b[37m\u001b[0m \u001b[1m5s\u001b[0m 6ms/step - accuracy: 0.8503 - loss: 0.4740\n",
            "Epoch 20/20\n",
            "\u001b[1m439/439\u001b[0m \u001b[32m━━━━━━━━━━━━━━━━━━━━\u001b[0m\u001b[37m\u001b[0m \u001b[1m3s\u001b[0m 6ms/step - accuracy: 0.8663 - loss: 0.4314\n"
          ]
        },
        {
          "output_type": "execute_result",
          "data": {
            "text/plain": [
              "<keras.src.callbacks.history.History at 0x7af83b919a80>"
            ]
          },
          "metadata": {},
          "execution_count": 103
        }
      ]
    },
    {
      "cell_type": "code",
      "source": [
        "predictions = cnn_model1.predict(val_images)\n",
        "predicted_classes = np.argmax(predictions, axis=1)"
      ],
      "metadata": {
        "colab": {
          "base_uri": "https://localhost:8080/"
        },
        "id": "_WoxOImiTAoG",
        "outputId": "fdca9d03-55b9-40bd-c8f9-20b99641577d"
      },
      "execution_count": 104,
      "outputs": [
        {
          "output_type": "stream",
          "name": "stdout",
          "text": [
            "\u001b[1m94/94\u001b[0m \u001b[32m━━━━━━━━━━━━━━━━━━━━\u001b[0m\u001b[37m\u001b[0m \u001b[1m0s\u001b[0m 2ms/step\n"
          ]
        }
      ]
    },
    {
      "cell_type": "code",
      "source": [
        "true_classes = np.argmax(val_labels, axis=1)\n",
        "cm = conf_matrix = confusion_matrix(true_classes, predicted_classes)\n",
        "\n",
        "total_accuracy = accuracy_score(true_classes, predicted_classes)\n",
        "print(f\"Total Accuracy: {total_accuracy:.4f}\")\n",
        "print(f\"Confusion Matrix:\\n{conf_matrix}\")\n",
        "\n",
        "num_classes = cm.shape[0]\n",
        "per_class_accuracy = {}\n",
        "\n",
        "for i in range(num_classes):\n",
        "    true_positives = cm[i, i]\n",
        "    false_negatives = np.sum(cm[i, :]) - true_positives\n",
        "    per_class_accuracy[i] = true_positives / (true_positives + false_negatives) if (true_positives + false_negatives) > 0 else 0\n",
        "\n",
        "for class_idx, accuracy in per_class_accuracy.items():\n",
        "    print(f\"Accuracy for class {class_idx}: {accuracy:.4f}\")"
      ],
      "metadata": {
        "colab": {
          "base_uri": "https://localhost:8080/"
        },
        "id": "_kGG9uLbT8-s",
        "outputId": "e4173a7d-22b8-4363-de05-92e2e0df6383"
      },
      "execution_count": 105,
      "outputs": [
        {
          "output_type": "stream",
          "name": "stdout",
          "text": [
            "Total Accuracy: 0.7377\n",
            "Confusion Matrix:\n",
            "[[400   9  45  38  17   1]\n",
            " [ 21 354   7  23  83  13]\n",
            " [ 70   2 361  77  14   1]\n",
            " [ 73   6  80 382  11   1]\n",
            " [ 26  49  29  20 303  10]\n",
            " [  7  21   9   7  17 413]]\n",
            "Accuracy for class 0: 0.7843\n",
            "Accuracy for class 1: 0.7066\n",
            "Accuracy for class 2: 0.6876\n",
            "Accuracy for class 3: 0.6908\n",
            "Accuracy for class 4: 0.6934\n",
            "Accuracy for class 5: 0.8713\n"
          ]
        }
      ]
    },
    {
      "cell_type": "code",
      "source": [
        "#function to add accuracies to the dataframe for comparison later\n",
        "def add_accuracy_row(df, index, class_accuracies_dict, total_accuracy):\n",
        "    class_accuracies = [\n",
        "        class_accuracies_dict.get(0),\n",
        "        class_accuracies_dict.get(1),\n",
        "        class_accuracies_dict.get(2),\n",
        "        class_accuracies_dict.get(3),\n",
        "        class_accuracies_dict.get(4),\n",
        "        class_accuracies_dict.get(5)\n",
        "    ]\n",
        "    new_row = class_accuracies + [total_accuracy]\n",
        "    df.loc[index] = new_row\n",
        "    return df"
      ],
      "metadata": {
        "id": "tYT9PueuE3W2"
      },
      "execution_count": 106,
      "outputs": []
    },
    {
      "cell_type": "code",
      "source": [
        "df = add_accuracy_row(df, \"SGD Optimizer, 32 Batch size, 0.025 LR\", per_class_accuracy, total_accuracy)"
      ],
      "metadata": {
        "id": "D84iJ2KtBVJg"
      },
      "execution_count": 107,
      "outputs": []
    },
    {
      "cell_type": "code",
      "source": [
        "df"
      ],
      "metadata": {
        "colab": {
          "base_uri": "https://localhost:8080/",
          "height": 651
        },
        "id": "nzKOnfgQCyrj",
        "outputId": "901a8e61-665e-4df6-ed00-c1a77e759ae9"
      },
      "execution_count": 108,
      "outputs": [
        {
          "output_type": "execute_result",
          "data": {
            "text/plain": [
              "                                          Class 0 accuracy  Class 1 accuracy  \\\n",
              "Adam Optimizer, 512 Batch size, 0.1 LR            0.762745          0.814371   \n",
              "Adam Optimizer, 128 Batch size, 0.1 LR            0.731373          0.816367   \n",
              "Adam Optimizer, 32 Batch size, 0.1 LR             0.468627          0.724551   \n",
              "Adam Optimizer, 512 Batch size, 0.025 LR          0.431373          0.828343   \n",
              "Adam Optimizer, 128 Batch size, 0.025 LR          0.054902          0.714571   \n",
              "Adam Optimizer, 32 Batch size, 0.025 LR           0.441176          0.481038   \n",
              "SGD Optimizer, 512 Batch size, 0.01 LR            0.719608          0.788423   \n",
              "SGD Optimizer, 128 Batch size, 0.01 LR            0.792157          0.880240   \n",
              "SGD Optimizer, 32 Batch size, 0.01 LR             0.843137          0.816367   \n",
              "SGD Optimizer, 512 Batch size, 0.025 LR           0.725490          0.868263   \n",
              "SGD Optimizer, 128 Batch size, 0.025 LR           0.723529          0.860279   \n",
              "SGD Optimizer, 32 Batch size, 0.025 LR            0.784314          0.706587   \n",
              "\n",
              "                                          Class 2 accuracy  Class 3 accuracy  \\\n",
              "Adam Optimizer, 512 Batch size, 0.1 LR            0.733333          0.660036   \n",
              "Adam Optimizer, 128 Batch size, 0.1 LR            0.712381          0.728752   \n",
              "Adam Optimizer, 32 Batch size, 0.1 LR             0.664762          0.676311   \n",
              "Adam Optimizer, 512 Batch size, 0.025 LR          0.611429          0.569620   \n",
              "Adam Optimizer, 128 Batch size, 0.025 LR          0.659048          0.679928   \n",
              "Adam Optimizer, 32 Batch size, 0.025 LR           0.619048          0.345389   \n",
              "SGD Optimizer, 512 Batch size, 0.01 LR            0.655238          0.773960   \n",
              "SGD Optimizer, 128 Batch size, 0.01 LR            0.758095          0.828210   \n",
              "SGD Optimizer, 32 Batch size, 0.01 LR             0.748571          0.699819   \n",
              "SGD Optimizer, 512 Batch size, 0.025 LR           0.748571          0.768535   \n",
              "SGD Optimizer, 128 Batch size, 0.025 LR           0.792381          0.772152   \n",
              "SGD Optimizer, 32 Batch size, 0.025 LR            0.687619          0.690778   \n",
              "\n",
              "                                          Class 4 accuracy  Class 5 accuracy  \\\n",
              "Adam Optimizer, 512 Batch size, 0.1 LR            0.741419          0.953586   \n",
              "Adam Optimizer, 128 Batch size, 0.1 LR            0.652174          0.938819   \n",
              "Adam Optimizer, 32 Batch size, 0.1 LR             0.643021          0.761603   \n",
              "Adam Optimizer, 512 Batch size, 0.025 LR          0.578947          0.782700   \n",
              "Adam Optimizer, 128 Batch size, 0.025 LR          0.713959          0.736287   \n",
              "Adam Optimizer, 32 Batch size, 0.025 LR           0.514874          0.793249   \n",
              "SGD Optimizer, 512 Batch size, 0.01 LR            0.675057          0.907173   \n",
              "SGD Optimizer, 128 Batch size, 0.01 LR            0.622426          0.953586   \n",
              "SGD Optimizer, 32 Batch size, 0.01 LR             0.810069          0.934599   \n",
              "SGD Optimizer, 512 Batch size, 0.025 LR           0.702517          0.915612   \n",
              "SGD Optimizer, 128 Batch size, 0.025 LR           0.649886          0.875527   \n",
              "SGD Optimizer, 32 Batch size, 0.025 LR            0.693364          0.871308   \n",
              "\n",
              "                                          Total accuracy  \n",
              "Adam Optimizer, 512 Batch size, 0.1 LR          0.774333  \n",
              "Adam Optimizer, 128 Batch size, 0.1 LR          0.763000  \n",
              "Adam Optimizer, 32 Batch size, 0.1 LR           0.655667  \n",
              "Adam Optimizer, 512 Batch size, 0.025 LR        0.631667  \n",
              "Adam Optimizer, 128 Batch size, 0.025 LR        0.589667  \n",
              "Adam Optimizer, 32 Batch size, 0.025 LR         0.527667  \n",
              "SGD Optimizer, 512 Batch size, 0.01 LR          0.753000  \n",
              "SGD Optimizer, 128 Batch size, 0.01 LR          0.808333  \n",
              "SGD Optimizer, 32 Batch size, 0.01 LR           0.805333  \n",
              "SGD Optimizer, 512 Batch size, 0.025 LR         0.788000  \n",
              "SGD Optimizer, 128 Batch size, 0.025 LR         0.780667  \n",
              "SGD Optimizer, 32 Batch size, 0.025 LR          0.737667  "
            ],
            "text/html": [
              "\n",
              "  <div id=\"df-a1b6340b-4e1c-4a89-b80a-99dd02196f1e\" class=\"colab-df-container\">\n",
              "    <div>\n",
              "<style scoped>\n",
              "    .dataframe tbody tr th:only-of-type {\n",
              "        vertical-align: middle;\n",
              "    }\n",
              "\n",
              "    .dataframe tbody tr th {\n",
              "        vertical-align: top;\n",
              "    }\n",
              "\n",
              "    .dataframe thead th {\n",
              "        text-align: right;\n",
              "    }\n",
              "</style>\n",
              "<table border=\"1\" class=\"dataframe\">\n",
              "  <thead>\n",
              "    <tr style=\"text-align: right;\">\n",
              "      <th></th>\n",
              "      <th>Class 0 accuracy</th>\n",
              "      <th>Class 1 accuracy</th>\n",
              "      <th>Class 2 accuracy</th>\n",
              "      <th>Class 3 accuracy</th>\n",
              "      <th>Class 4 accuracy</th>\n",
              "      <th>Class 5 accuracy</th>\n",
              "      <th>Total accuracy</th>\n",
              "    </tr>\n",
              "  </thead>\n",
              "  <tbody>\n",
              "    <tr>\n",
              "      <th>Adam Optimizer, 512 Batch size, 0.1 LR</th>\n",
              "      <td>0.762745</td>\n",
              "      <td>0.814371</td>\n",
              "      <td>0.733333</td>\n",
              "      <td>0.660036</td>\n",
              "      <td>0.741419</td>\n",
              "      <td>0.953586</td>\n",
              "      <td>0.774333</td>\n",
              "    </tr>\n",
              "    <tr>\n",
              "      <th>Adam Optimizer, 128 Batch size, 0.1 LR</th>\n",
              "      <td>0.731373</td>\n",
              "      <td>0.816367</td>\n",
              "      <td>0.712381</td>\n",
              "      <td>0.728752</td>\n",
              "      <td>0.652174</td>\n",
              "      <td>0.938819</td>\n",
              "      <td>0.763000</td>\n",
              "    </tr>\n",
              "    <tr>\n",
              "      <th>Adam Optimizer, 32 Batch size, 0.1 LR</th>\n",
              "      <td>0.468627</td>\n",
              "      <td>0.724551</td>\n",
              "      <td>0.664762</td>\n",
              "      <td>0.676311</td>\n",
              "      <td>0.643021</td>\n",
              "      <td>0.761603</td>\n",
              "      <td>0.655667</td>\n",
              "    </tr>\n",
              "    <tr>\n",
              "      <th>Adam Optimizer, 512 Batch size, 0.025 LR</th>\n",
              "      <td>0.431373</td>\n",
              "      <td>0.828343</td>\n",
              "      <td>0.611429</td>\n",
              "      <td>0.569620</td>\n",
              "      <td>0.578947</td>\n",
              "      <td>0.782700</td>\n",
              "      <td>0.631667</td>\n",
              "    </tr>\n",
              "    <tr>\n",
              "      <th>Adam Optimizer, 128 Batch size, 0.025 LR</th>\n",
              "      <td>0.054902</td>\n",
              "      <td>0.714571</td>\n",
              "      <td>0.659048</td>\n",
              "      <td>0.679928</td>\n",
              "      <td>0.713959</td>\n",
              "      <td>0.736287</td>\n",
              "      <td>0.589667</td>\n",
              "    </tr>\n",
              "    <tr>\n",
              "      <th>Adam Optimizer, 32 Batch size, 0.025 LR</th>\n",
              "      <td>0.441176</td>\n",
              "      <td>0.481038</td>\n",
              "      <td>0.619048</td>\n",
              "      <td>0.345389</td>\n",
              "      <td>0.514874</td>\n",
              "      <td>0.793249</td>\n",
              "      <td>0.527667</td>\n",
              "    </tr>\n",
              "    <tr>\n",
              "      <th>SGD Optimizer, 512 Batch size, 0.01 LR</th>\n",
              "      <td>0.719608</td>\n",
              "      <td>0.788423</td>\n",
              "      <td>0.655238</td>\n",
              "      <td>0.773960</td>\n",
              "      <td>0.675057</td>\n",
              "      <td>0.907173</td>\n",
              "      <td>0.753000</td>\n",
              "    </tr>\n",
              "    <tr>\n",
              "      <th>SGD Optimizer, 128 Batch size, 0.01 LR</th>\n",
              "      <td>0.792157</td>\n",
              "      <td>0.880240</td>\n",
              "      <td>0.758095</td>\n",
              "      <td>0.828210</td>\n",
              "      <td>0.622426</td>\n",
              "      <td>0.953586</td>\n",
              "      <td>0.808333</td>\n",
              "    </tr>\n",
              "    <tr>\n",
              "      <th>SGD Optimizer, 32 Batch size, 0.01 LR</th>\n",
              "      <td>0.843137</td>\n",
              "      <td>0.816367</td>\n",
              "      <td>0.748571</td>\n",
              "      <td>0.699819</td>\n",
              "      <td>0.810069</td>\n",
              "      <td>0.934599</td>\n",
              "      <td>0.805333</td>\n",
              "    </tr>\n",
              "    <tr>\n",
              "      <th>SGD Optimizer, 512 Batch size, 0.025 LR</th>\n",
              "      <td>0.725490</td>\n",
              "      <td>0.868263</td>\n",
              "      <td>0.748571</td>\n",
              "      <td>0.768535</td>\n",
              "      <td>0.702517</td>\n",
              "      <td>0.915612</td>\n",
              "      <td>0.788000</td>\n",
              "    </tr>\n",
              "    <tr>\n",
              "      <th>SGD Optimizer, 128 Batch size, 0.025 LR</th>\n",
              "      <td>0.723529</td>\n",
              "      <td>0.860279</td>\n",
              "      <td>0.792381</td>\n",
              "      <td>0.772152</td>\n",
              "      <td>0.649886</td>\n",
              "      <td>0.875527</td>\n",
              "      <td>0.780667</td>\n",
              "    </tr>\n",
              "    <tr>\n",
              "      <th>SGD Optimizer, 32 Batch size, 0.025 LR</th>\n",
              "      <td>0.784314</td>\n",
              "      <td>0.706587</td>\n",
              "      <td>0.687619</td>\n",
              "      <td>0.690778</td>\n",
              "      <td>0.693364</td>\n",
              "      <td>0.871308</td>\n",
              "      <td>0.737667</td>\n",
              "    </tr>\n",
              "  </tbody>\n",
              "</table>\n",
              "</div>\n",
              "    <div class=\"colab-df-buttons\">\n",
              "\n",
              "  <div class=\"colab-df-container\">\n",
              "    <button class=\"colab-df-convert\" onclick=\"convertToInteractive('df-a1b6340b-4e1c-4a89-b80a-99dd02196f1e')\"\n",
              "            title=\"Convert this dataframe to an interactive table.\"\n",
              "            style=\"display:none;\">\n",
              "\n",
              "  <svg xmlns=\"http://www.w3.org/2000/svg\" height=\"24px\" viewBox=\"0 -960 960 960\">\n",
              "    <path d=\"M120-120v-720h720v720H120Zm60-500h600v-160H180v160Zm220 220h160v-160H400v160Zm0 220h160v-160H400v160ZM180-400h160v-160H180v160Zm440 0h160v-160H620v160ZM180-180h160v-160H180v160Zm440 0h160v-160H620v160Z\"/>\n",
              "  </svg>\n",
              "    </button>\n",
              "\n",
              "  <style>\n",
              "    .colab-df-container {\n",
              "      display:flex;\n",
              "      gap: 12px;\n",
              "    }\n",
              "\n",
              "    .colab-df-convert {\n",
              "      background-color: #E8F0FE;\n",
              "      border: none;\n",
              "      border-radius: 50%;\n",
              "      cursor: pointer;\n",
              "      display: none;\n",
              "      fill: #1967D2;\n",
              "      height: 32px;\n",
              "      padding: 0 0 0 0;\n",
              "      width: 32px;\n",
              "    }\n",
              "\n",
              "    .colab-df-convert:hover {\n",
              "      background-color: #E2EBFA;\n",
              "      box-shadow: 0px 1px 2px rgba(60, 64, 67, 0.3), 0px 1px 3px 1px rgba(60, 64, 67, 0.15);\n",
              "      fill: #174EA6;\n",
              "    }\n",
              "\n",
              "    .colab-df-buttons div {\n",
              "      margin-bottom: 4px;\n",
              "    }\n",
              "\n",
              "    [theme=dark] .colab-df-convert {\n",
              "      background-color: #3B4455;\n",
              "      fill: #D2E3FC;\n",
              "    }\n",
              "\n",
              "    [theme=dark] .colab-df-convert:hover {\n",
              "      background-color: #434B5C;\n",
              "      box-shadow: 0px 1px 3px 1px rgba(0, 0, 0, 0.15);\n",
              "      filter: drop-shadow(0px 1px 2px rgba(0, 0, 0, 0.3));\n",
              "      fill: #FFFFFF;\n",
              "    }\n",
              "  </style>\n",
              "\n",
              "    <script>\n",
              "      const buttonEl =\n",
              "        document.querySelector('#df-a1b6340b-4e1c-4a89-b80a-99dd02196f1e button.colab-df-convert');\n",
              "      buttonEl.style.display =\n",
              "        google.colab.kernel.accessAllowed ? 'block' : 'none';\n",
              "\n",
              "      async function convertToInteractive(key) {\n",
              "        const element = document.querySelector('#df-a1b6340b-4e1c-4a89-b80a-99dd02196f1e');\n",
              "        const dataTable =\n",
              "          await google.colab.kernel.invokeFunction('convertToInteractive',\n",
              "                                                    [key], {});\n",
              "        if (!dataTable) return;\n",
              "\n",
              "        const docLinkHtml = 'Like what you see? Visit the ' +\n",
              "          '<a target=\"_blank\" href=https://colab.research.google.com/notebooks/data_table.ipynb>data table notebook</a>'\n",
              "          + ' to learn more about interactive tables.';\n",
              "        element.innerHTML = '';\n",
              "        dataTable['output_type'] = 'display_data';\n",
              "        await google.colab.output.renderOutput(dataTable, element);\n",
              "        const docLink = document.createElement('div');\n",
              "        docLink.innerHTML = docLinkHtml;\n",
              "        element.appendChild(docLink);\n",
              "      }\n",
              "    </script>\n",
              "  </div>\n",
              "\n",
              "\n",
              "<div id=\"df-d2013290-b10a-4baa-be26-f8cca3bb9b75\">\n",
              "  <button class=\"colab-df-quickchart\" onclick=\"quickchart('df-d2013290-b10a-4baa-be26-f8cca3bb9b75')\"\n",
              "            title=\"Suggest charts\"\n",
              "            style=\"display:none;\">\n",
              "\n",
              "<svg xmlns=\"http://www.w3.org/2000/svg\" height=\"24px\"viewBox=\"0 0 24 24\"\n",
              "     width=\"24px\">\n",
              "    <g>\n",
              "        <path d=\"M19 3H5c-1.1 0-2 .9-2 2v14c0 1.1.9 2 2 2h14c1.1 0 2-.9 2-2V5c0-1.1-.9-2-2-2zM9 17H7v-7h2v7zm4 0h-2V7h2v10zm4 0h-2v-4h2v4z\"/>\n",
              "    </g>\n",
              "</svg>\n",
              "  </button>\n",
              "\n",
              "<style>\n",
              "  .colab-df-quickchart {\n",
              "      --bg-color: #E8F0FE;\n",
              "      --fill-color: #1967D2;\n",
              "      --hover-bg-color: #E2EBFA;\n",
              "      --hover-fill-color: #174EA6;\n",
              "      --disabled-fill-color: #AAA;\n",
              "      --disabled-bg-color: #DDD;\n",
              "  }\n",
              "\n",
              "  [theme=dark] .colab-df-quickchart {\n",
              "      --bg-color: #3B4455;\n",
              "      --fill-color: #D2E3FC;\n",
              "      --hover-bg-color: #434B5C;\n",
              "      --hover-fill-color: #FFFFFF;\n",
              "      --disabled-bg-color: #3B4455;\n",
              "      --disabled-fill-color: #666;\n",
              "  }\n",
              "\n",
              "  .colab-df-quickchart {\n",
              "    background-color: var(--bg-color);\n",
              "    border: none;\n",
              "    border-radius: 50%;\n",
              "    cursor: pointer;\n",
              "    display: none;\n",
              "    fill: var(--fill-color);\n",
              "    height: 32px;\n",
              "    padding: 0;\n",
              "    width: 32px;\n",
              "  }\n",
              "\n",
              "  .colab-df-quickchart:hover {\n",
              "    background-color: var(--hover-bg-color);\n",
              "    box-shadow: 0 1px 2px rgba(60, 64, 67, 0.3), 0 1px 3px 1px rgba(60, 64, 67, 0.15);\n",
              "    fill: var(--button-hover-fill-color);\n",
              "  }\n",
              "\n",
              "  .colab-df-quickchart-complete:disabled,\n",
              "  .colab-df-quickchart-complete:disabled:hover {\n",
              "    background-color: var(--disabled-bg-color);\n",
              "    fill: var(--disabled-fill-color);\n",
              "    box-shadow: none;\n",
              "  }\n",
              "\n",
              "  .colab-df-spinner {\n",
              "    border: 2px solid var(--fill-color);\n",
              "    border-color: transparent;\n",
              "    border-bottom-color: var(--fill-color);\n",
              "    animation:\n",
              "      spin 1s steps(1) infinite;\n",
              "  }\n",
              "\n",
              "  @keyframes spin {\n",
              "    0% {\n",
              "      border-color: transparent;\n",
              "      border-bottom-color: var(--fill-color);\n",
              "      border-left-color: var(--fill-color);\n",
              "    }\n",
              "    20% {\n",
              "      border-color: transparent;\n",
              "      border-left-color: var(--fill-color);\n",
              "      border-top-color: var(--fill-color);\n",
              "    }\n",
              "    30% {\n",
              "      border-color: transparent;\n",
              "      border-left-color: var(--fill-color);\n",
              "      border-top-color: var(--fill-color);\n",
              "      border-right-color: var(--fill-color);\n",
              "    }\n",
              "    40% {\n",
              "      border-color: transparent;\n",
              "      border-right-color: var(--fill-color);\n",
              "      border-top-color: var(--fill-color);\n",
              "    }\n",
              "    60% {\n",
              "      border-color: transparent;\n",
              "      border-right-color: var(--fill-color);\n",
              "    }\n",
              "    80% {\n",
              "      border-color: transparent;\n",
              "      border-right-color: var(--fill-color);\n",
              "      border-bottom-color: var(--fill-color);\n",
              "    }\n",
              "    90% {\n",
              "      border-color: transparent;\n",
              "      border-bottom-color: var(--fill-color);\n",
              "    }\n",
              "  }\n",
              "</style>\n",
              "\n",
              "  <script>\n",
              "    async function quickchart(key) {\n",
              "      const quickchartButtonEl =\n",
              "        document.querySelector('#' + key + ' button');\n",
              "      quickchartButtonEl.disabled = true;  // To prevent multiple clicks.\n",
              "      quickchartButtonEl.classList.add('colab-df-spinner');\n",
              "      try {\n",
              "        const charts = await google.colab.kernel.invokeFunction(\n",
              "            'suggestCharts', [key], {});\n",
              "      } catch (error) {\n",
              "        console.error('Error during call to suggestCharts:', error);\n",
              "      }\n",
              "      quickchartButtonEl.classList.remove('colab-df-spinner');\n",
              "      quickchartButtonEl.classList.add('colab-df-quickchart-complete');\n",
              "    }\n",
              "    (() => {\n",
              "      let quickchartButtonEl =\n",
              "        document.querySelector('#df-d2013290-b10a-4baa-be26-f8cca3bb9b75 button');\n",
              "      quickchartButtonEl.style.display =\n",
              "        google.colab.kernel.accessAllowed ? 'block' : 'none';\n",
              "    })();\n",
              "  </script>\n",
              "</div>\n",
              "\n",
              "  <div id=\"id_b938cb0b-eb14-4511-9525-bcb83c074f71\">\n",
              "    <style>\n",
              "      .colab-df-generate {\n",
              "        background-color: #E8F0FE;\n",
              "        border: none;\n",
              "        border-radius: 50%;\n",
              "        cursor: pointer;\n",
              "        display: none;\n",
              "        fill: #1967D2;\n",
              "        height: 32px;\n",
              "        padding: 0 0 0 0;\n",
              "        width: 32px;\n",
              "      }\n",
              "\n",
              "      .colab-df-generate:hover {\n",
              "        background-color: #E2EBFA;\n",
              "        box-shadow: 0px 1px 2px rgba(60, 64, 67, 0.3), 0px 1px 3px 1px rgba(60, 64, 67, 0.15);\n",
              "        fill: #174EA6;\n",
              "      }\n",
              "\n",
              "      [theme=dark] .colab-df-generate {\n",
              "        background-color: #3B4455;\n",
              "        fill: #D2E3FC;\n",
              "      }\n",
              "\n",
              "      [theme=dark] .colab-df-generate:hover {\n",
              "        background-color: #434B5C;\n",
              "        box-shadow: 0px 1px 3px 1px rgba(0, 0, 0, 0.15);\n",
              "        filter: drop-shadow(0px 1px 2px rgba(0, 0, 0, 0.3));\n",
              "        fill: #FFFFFF;\n",
              "      }\n",
              "    </style>\n",
              "    <button class=\"colab-df-generate\" onclick=\"generateWithVariable('df')\"\n",
              "            title=\"Generate code using this dataframe.\"\n",
              "            style=\"display:none;\">\n",
              "\n",
              "  <svg xmlns=\"http://www.w3.org/2000/svg\" height=\"24px\"viewBox=\"0 0 24 24\"\n",
              "       width=\"24px\">\n",
              "    <path d=\"M7,19H8.4L18.45,9,17,7.55,7,17.6ZM5,21V16.75L18.45,3.32a2,2,0,0,1,2.83,0l1.4,1.43a1.91,1.91,0,0,1,.58,1.4,1.91,1.91,0,0,1-.58,1.4L9.25,21ZM18.45,9,17,7.55Zm-12,3A5.31,5.31,0,0,0,4.9,8.1,5.31,5.31,0,0,0,1,6.5,5.31,5.31,0,0,0,4.9,4.9,5.31,5.31,0,0,0,6.5,1,5.31,5.31,0,0,0,8.1,4.9,5.31,5.31,0,0,0,12,6.5,5.46,5.46,0,0,0,6.5,12Z\"/>\n",
              "  </svg>\n",
              "    </button>\n",
              "    <script>\n",
              "      (() => {\n",
              "      const buttonEl =\n",
              "        document.querySelector('#id_b938cb0b-eb14-4511-9525-bcb83c074f71 button.colab-df-generate');\n",
              "      buttonEl.style.display =\n",
              "        google.colab.kernel.accessAllowed ? 'block' : 'none';\n",
              "\n",
              "      buttonEl.onclick = () => {\n",
              "        google.colab.notebook.generateWithVariable('df');\n",
              "      }\n",
              "      })();\n",
              "    </script>\n",
              "  </div>\n",
              "\n",
              "    </div>\n",
              "  </div>\n"
            ],
            "application/vnd.google.colaboratory.intrinsic+json": {
              "type": "dataframe",
              "variable_name": "df",
              "summary": "{\n  \"name\": \"df\",\n  \"rows\": 12,\n  \"fields\": [\n    {\n      \"column\": \"Class 0 accuracy\",\n      \"properties\": {\n        \"dtype\": \"number\",\n        \"std\": 0.22975481052696878,\n        \"min\": 0.054901960784313725,\n        \"max\": 0.8431372549019608,\n        \"num_unique_values\": 12,\n        \"samples\": [\n          0.7235294117647059,\n          0.7254901960784313,\n          0.7627450980392156\n        ],\n        \"semantic_type\": \"\",\n        \"description\": \"\"\n      }\n    },\n    {\n      \"column\": \"Class 1 accuracy\",\n      \"properties\": {\n        \"dtype\": \"number\",\n        \"std\": 0.1096834826957359,\n        \"min\": 0.4810379241516966,\n        \"max\": 0.8802395209580839,\n        \"num_unique_values\": 11,\n        \"samples\": [\n          0.4810379241516966,\n          0.8143712574850299,\n          0.8602794411177644\n        ],\n        \"semantic_type\": \"\",\n        \"description\": \"\"\n      }\n    },\n    {\n      \"column\": \"Class 2 accuracy\",\n      \"properties\": {\n        \"dtype\": \"number\",\n        \"std\": 0.05827710279780922,\n        \"min\": 0.6114285714285714,\n        \"max\": 0.7923809523809524,\n        \"num_unique_values\": 11,\n        \"samples\": [\n          0.6190476190476191,\n          0.7333333333333333,\n          0.7923809523809524\n        ],\n        \"semantic_type\": \"\",\n        \"description\": \"\"\n      }\n    },\n    {\n      \"column\": \"Class 3 accuracy\",\n      \"properties\": {\n        \"dtype\": \"number\",\n        \"std\": 0.1259429578182379,\n        \"min\": 0.3453887884267631,\n        \"max\": 0.8282097649186256,\n        \"num_unique_values\": 12,\n        \"samples\": [\n          0.7721518987341772,\n          0.7685352622061483,\n          0.6600361663652803\n        ],\n        \"semantic_type\": \"\",\n        \"description\": \"\"\n      }\n    },\n    {\n      \"column\": \"Class 4 accuracy\",\n      \"properties\": {\n        \"dtype\": \"number\",\n        \"std\": 0.076396222244398,\n        \"min\": 0.5148741418764302,\n        \"max\": 0.8100686498855835,\n        \"num_unique_values\": 12,\n        \"samples\": [\n          0.6498855835240275,\n          0.7025171624713958,\n          0.7414187643020596\n        ],\n        \"semantic_type\": \"\",\n        \"description\": \"\"\n      }\n    },\n    {\n      \"column\": \"Class 5 accuracy\",\n      \"properties\": {\n        \"dtype\": \"number\",\n        \"std\": 0.07948512838324528,\n        \"min\": 0.7362869198312236,\n        \"max\": 0.9535864978902954,\n        \"num_unique_values\": 11,\n        \"samples\": [\n          0.7932489451476793,\n          0.9535864978902954,\n          0.8755274261603375\n        ],\n        \"semantic_type\": \"\",\n        \"description\": \"\"\n      }\n    },\n    {\n      \"column\": \"Total accuracy\",\n      \"properties\": {\n        \"dtype\": \"number\",\n        \"std\": 0.09315655607306411,\n        \"min\": 0.5276666666666666,\n        \"max\": 0.8083333333333333,\n        \"num_unique_values\": 12,\n        \"samples\": [\n          0.7806666666666666,\n          0.788,\n          0.7743333333333333\n        ],\n        \"semantic_type\": \"\",\n        \"description\": \"\"\n      }\n    }\n  ]\n}"
            }
          },
          "metadata": {},
          "execution_count": 108
        }
      ]
    },
    {
      "cell_type": "markdown",
      "source": [
        "For model 1 that included 3 convolutional layers and 3 pooling layers, I tried different combinations of learning rates, optimizers, and batch sizes to study the effect of individual accuracies of each class and overall accuracy. The first optimizer that I used was the Adam optimizer, which adjusts the learning rate based on past gradients, leading to faster convergence. We see that for the adam optimizer, and a learning rate of 0.01, as the batch size decreases, the accuracy decreases as well. This is counter-intuitive, because we should usually expect better generalization (and thus better predictions on test data which means higher accuracy). But the reason we see this might be due to the slower convergence of models with smaller batch sizes and it qould require more epochs to achieve higher accuracies. When we see the learning rate for an adam optimizer go from 0.01 to 0.025 (an increase in the learning rate), the overall accuracies are smaller. This could be due to the fact that a larger learning rate leads to model to overshoot the optimum and leads to instability in training. The second optimizer I used was the stochastic gradient optimizer which has a fixed learning rate for all parameters. We can see that for all combinations of batch sizes and learning rates, the model that uses SGD optimizer has higher total accuracies than the model that used the Adam optimizer. Similar to the Adam optimizer though, the smaller learning rate of 0.01 did better than the learning rate of 0.025 for all batch sizes. We also see that there is little variation in accuracies for the different batch sizes for a SGD optimized model and fixed learning rates."
      ],
      "metadata": {
        "id": "lXnxDLUZPXxk"
      }
    },
    {
      "cell_type": "code",
      "source": [
        "#create second model with 6 convolutional layers and 3 pooling layers, with a dense layer and dropout layer\n",
        "model2 = tf.keras.models.Sequential()\n",
        "model2.add(tf.keras.layers.Conv2D(32, (3, 3), padding='same', activation='relu', input_shape=(IMG_SIZE[0], IMG_SIZE[1],3)))\n",
        "model2.add(tf.keras.layers.Conv2D(32, (3, 3), strides=(2, 2), padding='same', activation='relu'))\n",
        "model2.add(tf.keras.layers.MaxPooling2D(pool_size=(2, 2), strides=(2,2)))\n",
        "model2.add(tf.keras.layers.Conv2D(64, (3, 3), padding='same', activation='relu'))\n",
        "model2.add(tf.keras.layers.Conv2D(64, (3, 3), strides=(2, 2), padding='same', activation='relu'))\n",
        "model2.add(tf.keras.layers.MaxPooling2D(pool_size=(2, 2), strides=(2,2)))\n",
        "model2.add(tf.keras.layers.Conv2D(128, (3, 3), padding='same', activation='relu'))\n",
        "model2.add(tf.keras.layers.MaxPooling2D(pool_size=(2, 2), strides=(2,2)))\n",
        "model2.add(tf.keras.layers.Conv2D(128, (3, 3), strides=(2, 2), padding='same', activation='relu'))\n",
        "\n",
        "\n",
        "model2.add(tf.keras.layers.Flatten())\n",
        "model2.add(tf.keras.layers.Dense(256))\n",
        "model2.add(tf.keras.layers.Activation('relu'))\n",
        "model2.add(tf.keras.layers.Dropout(0.5))\n",
        "model2.add(tf.keras.layers.Dense(NUM_CLASSES))\n",
        "model2.add(tf.keras.layers.Activation('softmax'))\n",
        "\n",
        "model2.compile(loss='categorical_crossentropy', optimizer='adam', metrics=['accuracy'])\n",
        "#model2.compile(loss='categorical_crossentropy', optimizer=tf.keras.optimizers.SGD(learning_rate=0.01, momentum=0.9), metrics=['accuracy'])"
      ],
      "metadata": {
        "colab": {
          "base_uri": "https://localhost:8080/"
        },
        "id": "4VPNqRcNLUdR",
        "outputId": "846e56ae-8a83-4430-af95-e60fc13e0786"
      },
      "execution_count": 10,
      "outputs": [
        {
          "output_type": "stream",
          "name": "stderr",
          "text": [
            "/usr/local/lib/python3.10/dist-packages/keras/src/layers/convolutional/base_conv.py:107: UserWarning: Do not pass an `input_shape`/`input_dim` argument to a layer. When using Sequential models, prefer using an `Input(shape)` object as the first layer in the model instead.\n",
            "  super().__init__(activity_regularizer=activity_regularizer, **kwargs)\n"
          ]
        }
      ]
    },
    {
      "cell_type": "code",
      "source": [
        "cnn_model2 = model2\n",
        "# Train the model.\n",
        "cnn_model2.fit(\n",
        "    train_images,\n",
        "    train_labels,\n",
        "    batch_size=512,\n",
        "    epochs=20)\n"
      ],
      "metadata": {
        "colab": {
          "base_uri": "https://localhost:8080/"
        },
        "id": "XNo4drPKLZPb",
        "outputId": "a0616239-2204-4647-c9fc-f2658b13e3ca"
      },
      "execution_count": 11,
      "outputs": [
        {
          "output_type": "stream",
          "name": "stdout",
          "text": [
            "Epoch 1/20\n",
            "\u001b[1m28/28\u001b[0m \u001b[32m━━━━━━━━━━━━━━━━━━━━\u001b[0m\u001b[37m\u001b[0m \u001b[1m16s\u001b[0m 208ms/step - accuracy: 0.2667 - loss: 1.6852\n",
            "Epoch 2/20\n",
            "\u001b[1m28/28\u001b[0m \u001b[32m━━━━━━━━━━━━━━━━━━━━\u001b[0m\u001b[37m\u001b[0m \u001b[1m8s\u001b[0m 55ms/step - accuracy: 0.5342 - loss: 1.1910\n",
            "Epoch 3/20\n",
            "\u001b[1m28/28\u001b[0m \u001b[32m━━━━━━━━━━━━━━━━━━━━\u001b[0m\u001b[37m\u001b[0m \u001b[1m2s\u001b[0m 55ms/step - accuracy: 0.5849 - loss: 1.0393\n",
            "Epoch 4/20\n",
            "\u001b[1m28/28\u001b[0m \u001b[32m━━━━━━━━━━━━━━━━━━━━\u001b[0m\u001b[37m\u001b[0m \u001b[1m3s\u001b[0m 54ms/step - accuracy: 0.6205 - loss: 0.9740\n",
            "Epoch 5/20\n",
            "\u001b[1m28/28\u001b[0m \u001b[32m━━━━━━━━━━━━━━━━━━━━\u001b[0m\u001b[37m\u001b[0m \u001b[1m2s\u001b[0m 54ms/step - accuracy: 0.6489 - loss: 0.8994\n",
            "Epoch 6/20\n",
            "\u001b[1m28/28\u001b[0m \u001b[32m━━━━━━━━━━━━━━━━━━━━\u001b[0m\u001b[37m\u001b[0m \u001b[1m2s\u001b[0m 54ms/step - accuracy: 0.6694 - loss: 0.8589\n",
            "Epoch 7/20\n",
            "\u001b[1m28/28\u001b[0m \u001b[32m━━━━━━━━━━━━━━━━━━━━\u001b[0m\u001b[37m\u001b[0m \u001b[1m3s\u001b[0m 54ms/step - accuracy: 0.7011 - loss: 0.7993\n",
            "Epoch 8/20\n",
            "\u001b[1m28/28\u001b[0m \u001b[32m━━━━━━━━━━━━━━━━━━━━\u001b[0m\u001b[37m\u001b[0m \u001b[1m3s\u001b[0m 53ms/step - accuracy: 0.7253 - loss: 0.7393\n",
            "Epoch 9/20\n",
            "\u001b[1m28/28\u001b[0m \u001b[32m━━━━━━━━━━━━━━━━━━━━\u001b[0m\u001b[37m\u001b[0m \u001b[1m3s\u001b[0m 57ms/step - accuracy: 0.7366 - loss: 0.7115\n",
            "Epoch 10/20\n",
            "\u001b[1m28/28\u001b[0m \u001b[32m━━━━━━━━━━━━━━━━━━━━\u001b[0m\u001b[37m\u001b[0m \u001b[1m2s\u001b[0m 56ms/step - accuracy: 0.7615 - loss: 0.6648\n",
            "Epoch 11/20\n",
            "\u001b[1m28/28\u001b[0m \u001b[32m━━━━━━━━━━━━━━━━━━━━\u001b[0m\u001b[37m\u001b[0m \u001b[1m2s\u001b[0m 54ms/step - accuracy: 0.7713 - loss: 0.6370\n",
            "Epoch 12/20\n",
            "\u001b[1m28/28\u001b[0m \u001b[32m━━━━━━━━━━━━━━━━━━━━\u001b[0m\u001b[37m\u001b[0m \u001b[1m3s\u001b[0m 54ms/step - accuracy: 0.7830 - loss: 0.5974\n",
            "Epoch 13/20\n",
            "\u001b[1m28/28\u001b[0m \u001b[32m━━━━━━━━━━━━━━━━━━━━\u001b[0m\u001b[37m\u001b[0m \u001b[1m3s\u001b[0m 54ms/step - accuracy: 0.7932 - loss: 0.5810\n",
            "Epoch 14/20\n",
            "\u001b[1m28/28\u001b[0m \u001b[32m━━━━━━━━━━━━━━━━━━━━\u001b[0m\u001b[37m\u001b[0m \u001b[1m3s\u001b[0m 54ms/step - accuracy: 0.8046 - loss: 0.5483\n",
            "Epoch 15/20\n",
            "\u001b[1m28/28\u001b[0m \u001b[32m━━━━━━━━━━━━━━━━━━━━\u001b[0m\u001b[37m\u001b[0m \u001b[1m2s\u001b[0m 58ms/step - accuracy: 0.8097 - loss: 0.5483\n",
            "Epoch 16/20\n",
            "\u001b[1m28/28\u001b[0m \u001b[32m━━━━━━━━━━━━━━━━━━━━\u001b[0m\u001b[37m\u001b[0m \u001b[1m2s\u001b[0m 58ms/step - accuracy: 0.8208 - loss: 0.5053\n",
            "Epoch 17/20\n",
            "\u001b[1m28/28\u001b[0m \u001b[32m━━━━━━━━━━━━━━━━━━━━\u001b[0m\u001b[37m\u001b[0m \u001b[1m2s\u001b[0m 54ms/step - accuracy: 0.8238 - loss: 0.4918\n",
            "Epoch 18/20\n",
            "\u001b[1m28/28\u001b[0m \u001b[32m━━━━━━━━━━━━━━━━━━━━\u001b[0m\u001b[37m\u001b[0m \u001b[1m3s\u001b[0m 54ms/step - accuracy: 0.8410 - loss: 0.4587\n",
            "Epoch 19/20\n",
            "\u001b[1m28/28\u001b[0m \u001b[32m━━━━━━━━━━━━━━━━━━━━\u001b[0m\u001b[37m\u001b[0m \u001b[1m2s\u001b[0m 55ms/step - accuracy: 0.8519 - loss: 0.4279\n",
            "Epoch 20/20\n",
            "\u001b[1m28/28\u001b[0m \u001b[32m━━━━━━━━━━━━━━━━━━━━\u001b[0m\u001b[37m\u001b[0m \u001b[1m3s\u001b[0m 55ms/step - accuracy: 0.8528 - loss: 0.4244\n"
          ]
        },
        {
          "output_type": "execute_result",
          "data": {
            "text/plain": [
              "<keras.src.callbacks.history.History at 0x7c9ee2327d60>"
            ]
          },
          "metadata": {},
          "execution_count": 11
        }
      ]
    },
    {
      "cell_type": "code",
      "source": [
        "predictions2 = cnn_model2.predict(val_images)\n",
        "predicted_classes2 = np.argmax(predictions2, axis=1)\n",
        "true_classes2 = np.argmax(val_labels, axis=1)\n"
      ],
      "metadata": {
        "colab": {
          "base_uri": "https://localhost:8080/"
        },
        "id": "azEIOR8iZjHI",
        "outputId": "a51931d6-830f-410e-bd41-a7937da052c8"
      },
      "execution_count": 12,
      "outputs": [
        {
          "output_type": "stream",
          "name": "stdout",
          "text": [
            "\u001b[1m94/94\u001b[0m \u001b[32m━━━━━━━━━━━━━━━━━━━━\u001b[0m\u001b[37m\u001b[0m \u001b[1m2s\u001b[0m 9ms/step\n"
          ]
        }
      ]
    },
    {
      "cell_type": "code",
      "source": [
        "cm2 = conf_matrix = confusion_matrix(true_classes2, predicted_classes2)\n",
        "\n",
        "total_accuracy = accuracy_score(true_classes2, predicted_classes2)\n",
        "print(f\"Total Accuracy: {total_accuracy:.4f}\")\n",
        "print(f\"Confusion Matrix:\\n{conf_matrix}\")\n",
        "\n",
        "num_classes = cm2.shape[0]\n",
        "per_class_accuracy = {}\n",
        "\n",
        "for i in range(num_classes):\n",
        "    true_positives = cm2[i, i]\n",
        "    false_negatives = np.sum(cm2[i, :]) - true_positives\n",
        "    per_class_accuracy[i] = true_positives / (true_positives + false_negatives) if (true_positives + false_negatives) > 0 else 0\n",
        "\n",
        "# Print per-class accuracy\n",
        "for class_idx, accuracy in per_class_accuracy.items():\n",
        "    print(f\"Accuracy for class {class_idx}: {accuracy:.4f}\")"
      ],
      "metadata": {
        "colab": {
          "base_uri": "https://localhost:8080/"
        },
        "id": "MxC2_XhEZtAE",
        "outputId": "0b0bb193-c68d-4732-ba3c-17483cfd514e"
      },
      "execution_count": 13,
      "outputs": [
        {
          "output_type": "stream",
          "name": "stdout",
          "text": [
            "Total Accuracy: 0.7727\n",
            "Confusion Matrix:\n",
            "[[360   3  99  38   8   2]\n",
            " [ 11 416   7   6  38  23]\n",
            " [ 25   1 451  43   3   2]\n",
            " [ 36   6 148 357   2   4]\n",
            " [ 22  60  51   8 278  18]\n",
            " [  2   7   6   1   2 456]]\n",
            "Accuracy for class 0: 0.7059\n",
            "Accuracy for class 1: 0.8303\n",
            "Accuracy for class 2: 0.8590\n",
            "Accuracy for class 3: 0.6456\n",
            "Accuracy for class 4: 0.6362\n",
            "Accuracy for class 5: 0.9620\n"
          ]
        }
      ]
    },
    {
      "cell_type": "markdown",
      "source": [
        "Since we already tested different optimizers, learning rates, and batch sizes, I decided to only test to see how this model performed with the Adam optimizer, batch size of 512, and a learning rate of 0.01. We see that there is not much of a difference from the values we obtained from model 1 with the exact same hyperparamters. This in interesting because there is always a balance in adding more layers between overfitting or allowing a model to have a better fit."
      ],
      "metadata": {
        "id": "yGcpzIawYlJh"
      }
    },
    {
      "cell_type": "code",
      "source": [
        "import matplotlib.pyplot as plt"
      ],
      "metadata": {
        "id": "wr3sqFSGXTG0"
      },
      "execution_count": 24,
      "outputs": []
    },
    {
      "cell_type": "code",
      "source": [
        "plt.figure(figsize=(10, 5))\n",
        "img = val_images[0]\n",
        "true_label = class_names[true_classes[0]]\n",
        "predicted_label = class_names[predicted_classes[0]]\n",
        "plt.imshow(img)\n",
        "plt.title(f\"True: {true_label}\\nPred: {predicted_label}\")\n",
        "plt.axis('off')"
      ],
      "metadata": {
        "colab": {
          "base_uri": "https://localhost:8080/",
          "height": 483
        },
        "id": "BH3PQ7IQVcvZ",
        "outputId": "0a3de946-fe84-42d1-9bc8-ad3aa072e2db"
      },
      "execution_count": 25,
      "outputs": [
        {
          "output_type": "execute_result",
          "data": {
            "text/plain": [
              "(-0.5, 63.5, 63.5, -0.5)"
            ]
          },
          "metadata": {},
          "execution_count": 25
        },
        {
          "output_type": "display_data",
          "data": {
            "text/plain": [
              "<Figure size 1000x500 with 1 Axes>"
            ],
            "image/png": "[encoded data removed]"
          },
          "metadata": {}
        }
      ]
    },
    {
      "cell_type": "code",
      "source": [
        "plt.figure(figsize=(10, 5))\n",
        "img = val_images[5]\n",
        "true_label = class_names[true_classes[5]]\n",
        "predicted_label = class_names[predicted_classes[5]]\n",
        "plt.imshow(img)\n",
        "plt.title(f\"True: {true_label}\\nPred: {predicted_label}\")\n",
        "plt.axis('off')"
      ],
      "metadata": {
        "colab": {
          "base_uri": "https://localhost:8080/",
          "height": 483
        },
        "id": "abyhvTh7WPt3",
        "outputId": "3d8db4e0-75a6-4aff-c0b7-08ef46022e8f"
      },
      "execution_count": 26,
      "outputs": [
        {
          "output_type": "execute_result",
          "data": {
            "text/plain": [
              "(-0.5, 63.5, 63.5, -0.5)"
            ]
          },
          "metadata": {},
          "execution_count": 26
        },
        {
          "output_type": "display_data",
          "data": {
            "text/plain": [
              "<Figure size 1000x500 with 1 Axes>"
            ],
            "image/png": "[encoded data removed]"
          },
          "metadata": {}
        }
      ]
    }
  ]
}