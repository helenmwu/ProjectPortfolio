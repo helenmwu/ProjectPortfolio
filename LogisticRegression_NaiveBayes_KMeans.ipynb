{
  "nbformat": 4,
  "nbformat_minor": 0,
  "metadata": {
    "colab": {
      "provenance": []
    },
    "kernelspec": {
      "name": "python3",
      "display_name": "Python 3"
    },
    "language_info": {
      "name": "python"
    }
  },
  "cells": [
    {
      "cell_type": "code",
      "source": [
        "import pandas as pd\n",
        "import numpy as np\n",
        "from sklearn import metrics\n",
        "from sklearn.preprocessing import MinMaxScaler\n",
        "from sklearn.model_selection import train_test_split\n",
        "from sklearn.linear_model import LogisticRegression, LogisticRegressionCV\n",
        "from sklearn.metrics import accuracy_score, precision_score, recall_score, f1_score, mean_squared_error, roc_auc_score\n",
        "from sklearn.model_selection import KFold\n",
        "from sklearn.model_selection import cross_val_score\n",
        "from sklearn.naive_bayes import GaussianNB\n",
        "from sklearn.cluster import KMeans\n",
        "import cv2\n",
        "import math"
      ],
      "metadata": {
        "id": "WwPQbumiJECV"
      },
      "execution_count": 27,
      "outputs": []
    },
    {
      "cell_type": "markdown",
      "source": [
        "**Problem 1**"
      ],
      "metadata": {
        "id": "z8Tv3nAaIzLA"
      }
    },
    {
      "cell_type": "code",
      "source": [
        "df = pd.read_csv(\"WA_Fn-UseC_-Telco-Customer-Churn.csv\")\n",
        "df.set_index('customerID', inplace=True)\n",
        "df['TotalCharges'] = pd.to_numeric(df['TotalCharges'], errors='coerce')"
      ],
      "metadata": {
        "id": "bcyXXW9uJPUD"
      },
      "execution_count": 60,
      "outputs": []
    },
    {
      "cell_type": "markdown",
      "source": [
        "Create another instance of dataframe to test another preprocessing method"
      ],
      "metadata": {
        "id": "mKXp7g6B7XNc"
      }
    },
    {
      "cell_type": "code",
      "source": [
        "df2 = pd.read_csv(\"WA_Fn-UseC_-Telco-Customer-Churn.csv\")\n",
        "df2.set_index('customerID', inplace=True)\n",
        "df2['TotalCharges'] = pd.to_numeric(df2['TotalCharges'], errors='coerce')"
      ],
      "metadata": {
        "id": "EPK9OEq47VQY"
      },
      "execution_count": 61,
      "outputs": []
    },
    {
      "cell_type": "code",
      "source": [
        "X = df.drop([\"Churn\"], axis=1)\n",
        "y = df[\"Churn\"]\n",
        "\n",
        "X2 = df2.drop([\"Churn\"], axis=1)\n",
        "y2 = df2[\"Churn\"]"
      ],
      "metadata": {
        "id": "dovvxZyQUVKO"
      },
      "execution_count": 110,
      "outputs": []
    },
    {
      "cell_type": "code",
      "source": [
        "X_train, X_test, y_train, y_test = train_test_split(X, y, test_size=0.25, random_state=16)\n",
        "X_train2, X_test2, y_train2, y_test2 = train_test_split(X2, y2, test_size=0.25, random_state=16)"
      ],
      "metadata": {
        "id": "g4VMrOc6UCbt"
      },
      "execution_count": 111,
      "outputs": []
    },
    {
      "cell_type": "markdown",
      "source": [
        "For preprocessing, I performed One-Hot Encoding for all the categorical variables. I felt this was appropriate for the problem because if I simply replaced all values with 0,1,2,.. etc., this would suggest a natural ordering between the feature values which isn't true. For example, there is nothing that suggests Fiber Optic Internet Service is better than Cable. With One-Hot Encoding, dummy variables are created, with additional columns for each category, so that a 1 suggests the presence of that category, and 0 the absence. For the missing values in the numeric columns, for one instance,I chose to replace all the missing values with zeros. For the other instance, I decided to drop any columns with missing values. For replacing missing values with zeroes, this felt appropriate for the problem, since I noticed all the missing values only occured in the columns with numerical features. Since I do not want to lose effect that this feature has on whether or not the customer would leave, I chose to just replace the missing values with zero. For the instance where I dropped columns that contained missing values, I felt this would be a good approach because due to lack of domain knowledge, I did not want to erroneously fill in a value because it might introduce bias to my model and not be representative of the actual relationship between the variables.\n",
        "In addition, I chose to normalize only the features that were not categorical. Since total charges were on a different scale and thus a lot larger than values for tenure, I decided that scaling all numeric columns would allow my model to perform better and prevent bias from some variables being in larger ranges."
      ],
      "metadata": {
        "id": "Oc45Y-Evs3O_"
      }
    },
    {
      "cell_type": "code",
      "source": [
        "#replace the yes and no values with 1 and 0\n",
        "X_train = X_train.replace({'Yes': 1, 'No': 0})\n",
        "X_test = X_test.replace({'Yes': 1, 'No': 0})\n",
        "X_train2 = X_train2.replace({'Yes': 1, 'No': 0})\n",
        "X_test2 = X_test2.replace({'Yes': 1, 'No': 0})\n",
        "categorical_columns = [\n",
        "    'gender', 'InternetService', 'MultipleLines',\n",
        "    'OnlineSecurity', 'OnlineBackup', 'DeviceProtection',\n",
        "    'TechSupport', 'StreamingTV', 'StreamingMovies',\n",
        "    'Contract', 'PaymentMethod'\n",
        "]\n",
        "\n",
        "# One-hot encode categorical columns for each DataFrame\n",
        "X_train = pd.get_dummies(X_train, columns=categorical_columns, drop_first=True)\n",
        "X_test = pd.get_dummies(X_test, columns=categorical_columns, drop_first=True)\n",
        "X_train2 = pd.get_dummies(X_train2, columns=categorical_columns, drop_first=True)\n",
        "X_test2 = pd.get_dummies(X_test2, columns=categorical_columns, drop_first=True)\n",
        "\n",
        "# Ensure all DataFrames have the same columns by reindexing\n",
        "X_train, X_test = X_train.align(X_test, join='outer', axis=1, fill_value=0)\n",
        "X_train2, X_test2 = X_train2.align(X_test2, join='outer', axis=1, fill_value=0)\n",
        "\n",
        "#Transform false values to 0 and true values to 1 as a result of One-hot encoding\n",
        "X_train[X_train.select_dtypes(include='bool').columns] = X_train.select_dtypes(include='bool').astype(int)\n",
        "X_test[X_test.select_dtypes(include='bool').columns] = X_test.select_dtypes(include='bool').astype(int)\n",
        "X_train2[X_train2.select_dtypes(include='bool').columns] = X_train2.select_dtypes(include='bool').astype(int)\n",
        "X_test2[X_test2.select_dtypes(include='bool').columns] = X_test2.select_dtypes(include='bool').astype(int)\n",
        "\n",
        "\n",
        "numerical_columns = [\n",
        "    'tenure',\n",
        "    'MonthlyCharges',\n",
        "    'TotalCharges'\n",
        "]\n",
        "\n",
        "scaler = MinMaxScaler()\n",
        "\n",
        "## for first data frame only, replace missing values with zeroes\n",
        "for column in numerical_columns:\n",
        "    X_train[column] = X_train[column].fillna(0)\n",
        "    X_test[column] = X_test[column].fillna(0)\n",
        "    ## for both data frames, scale the numerical columns\n",
        "    X_train[numerical_columns] = scaler.fit_transform(X_train[numerical_columns])\n",
        "    X_test[numerical_columns] = scaler.transform(X_test[numerical_columns])\n",
        "    X_train2[numerical_columns] = scaler.fit_transform(X_train2[numerical_columns])\n",
        "    X_test2[numerical_columns] = scaler.transform(X_test2[numerical_columns])\n",
        "\n",
        "\n",
        "\n",
        "#for second data frame only, drop columns with missing values\n",
        "X_train2.dropna(inplace=True, axis = 1)\n",
        "X_test2.dropna(inplace=True, axis = 1)\n",
        "\n",
        "\n",
        "##for both data frames, replace the yes and no values with 0 and 1\n",
        "y_train = y_train.replace({'Yes': 1, 'No': 0})\n",
        "y_train2 = y_train2.replace({'Yes': 1, 'No': 0})\n",
        "y_test = y_test.replace({'Yes': 1, 'No': 0})\n",
        "y_test2 = y_test2.replace({'Yes': 1, 'No': 0})\n",
        "\n",
        "\n"
      ],
      "metadata": {
        "collapsed": true,
        "id": "4noOTviTYgX3",
        "colab": {
          "base_uri": "https://localhost:8080/"
        },
        "outputId": "6c437daf-0a6b-4289-ee47-bba3414479e0"
      },
      "execution_count": 112,
      "outputs": [
        {
          "output_type": "stream",
          "name": "stderr",
          "text": [
            "<ipython-input-112-0d6f6237fa7b>:2: FutureWarning: Downcasting behavior in `replace` is deprecated and will be removed in a future version. To retain the old behavior, explicitly call `result.infer_objects(copy=False)`. To opt-in to the future behavior, set `pd.set_option('future.no_silent_downcasting', True)`\n",
            "  X_train = X_train.replace({'Yes': 1, 'No': 0})\n",
            "<ipython-input-112-0d6f6237fa7b>:3: FutureWarning: Downcasting behavior in `replace` is deprecated and will be removed in a future version. To retain the old behavior, explicitly call `result.infer_objects(copy=False)`. To opt-in to the future behavior, set `pd.set_option('future.no_silent_downcasting', True)`\n",
            "  X_test = X_test.replace({'Yes': 1, 'No': 0})\n",
            "<ipython-input-112-0d6f6237fa7b>:4: FutureWarning: Downcasting behavior in `replace` is deprecated and will be removed in a future version. To retain the old behavior, explicitly call `result.infer_objects(copy=False)`. To opt-in to the future behavior, set `pd.set_option('future.no_silent_downcasting', True)`\n",
            "  X_train2 = X_train2.replace({'Yes': 1, 'No': 0})\n",
            "<ipython-input-112-0d6f6237fa7b>:5: FutureWarning: Downcasting behavior in `replace` is deprecated and will be removed in a future version. To retain the old behavior, explicitly call `result.infer_objects(copy=False)`. To opt-in to the future behavior, set `pd.set_option('future.no_silent_downcasting', True)`\n",
            "  X_test2 = X_test2.replace({'Yes': 1, 'No': 0})\n",
            "<ipython-input-112-0d6f6237fa7b>:56: FutureWarning: Downcasting behavior in `replace` is deprecated and will be removed in a future version. To retain the old behavior, explicitly call `result.infer_objects(copy=False)`. To opt-in to the future behavior, set `pd.set_option('future.no_silent_downcasting', True)`\n",
            "  y_train = y_train.replace({'Yes': 1, 'No': 0})\n",
            "<ipython-input-112-0d6f6237fa7b>:57: FutureWarning: Downcasting behavior in `replace` is deprecated and will be removed in a future version. To retain the old behavior, explicitly call `result.infer_objects(copy=False)`. To opt-in to the future behavior, set `pd.set_option('future.no_silent_downcasting', True)`\n",
            "  y_train2 = y_train2.replace({'Yes': 1, 'No': 0})\n",
            "<ipython-input-112-0d6f6237fa7b>:58: FutureWarning: Downcasting behavior in `replace` is deprecated and will be removed in a future version. To retain the old behavior, explicitly call `result.infer_objects(copy=False)`. To opt-in to the future behavior, set `pd.set_option('future.no_silent_downcasting', True)`\n",
            "  y_test = y_test.replace({'Yes': 1, 'No': 0})\n",
            "<ipython-input-112-0d6f6237fa7b>:59: FutureWarning: Downcasting behavior in `replace` is deprecated and will be removed in a future version. To retain the old behavior, explicitly call `result.infer_objects(copy=False)`. To opt-in to the future behavior, set `pd.set_option('future.no_silent_downcasting', True)`\n",
            "  y_test2 = y_test2.replace({'Yes': 1, 'No': 0})\n"
          ]
        }
      ]
    },
    {
      "cell_type": "code",
      "source": [
        "logreg = LogisticRegression(random_state=16, max_iter = 5000)\n",
        "logreg.fit(X_train, y_train)\n",
        "y_pred = logreg.predict(X_test)\n",
        "\n",
        "logreg2 = LogisticRegression(random_state=16, max_iter = 5000)\n",
        "logreg2.fit(X_train2, y_train2)\n",
        "y_pred2 = logreg2.predict(X_test2)"
      ],
      "metadata": {
        "id": "z8PRKPAXUx_V"
      },
      "execution_count": 120,
      "outputs": []
    },
    {
      "cell_type": "code",
      "source": [
        "print(\"Metrics for Missing Values Replaced with Zeroes\")\n",
        "\n",
        "accuracy = accuracy_score(y_test, y_pred)\n",
        "print(\"Accuracy:\", accuracy)\n",
        "\n",
        "precision = precision_score(y_test, y_pred)\n",
        "print(\"Precision:\", precision)\n",
        "\n",
        "recall = recall_score(y_test, y_pred)\n",
        "print(\"Recall (Sensitivity):\", recall)\n",
        "\n",
        "f1 = f1_score(y_test, y_pred)\n",
        "print(\"F1-Score:\", f1)\n",
        "\n",
        "cv_scores = cross_val_score(logreg, X_train, y_train, cv=5)\n",
        "mean_cv_score = cv_scores.mean()\n",
        "print(\"Mean Cross-Validation Score:\", mean_cv_score)\n",
        "\n",
        "roc_auc = metrics.roc_auc_score(y_test, logreg.predict(X_test))\n",
        "print(\"ROC-AUC Score:\", roc_auc)\n",
        "\n",
        "print(\"\\n\")\n",
        "print(\"Metrics for Columns with Missing Values Dropped\")\n",
        "\n",
        "accuracy = accuracy_score(y_test2, y_pred2)\n",
        "print(\"Accuracy:\", accuracy)\n",
        "\n",
        "precision = precision_score(y_test2, y_pred2)\n",
        "print(\"Precision:\", precision)\n",
        "\n",
        "recall = recall_score(y_test2, y_pred2)\n",
        "print(\"Recall (Sensitivity):\", recall)\n",
        "\n",
        "f1 = f1_score(y_test2, y_pred2)\n",
        "print(\"F1-Score:\", f1)\n",
        "\n",
        "cv_scores = cross_val_score(logreg, X_train2, y_train2, cv=5)\n",
        "mean_cv_score = cv_scores.mean()\n",
        "print(\"Mean Cross-Validation Score:\", mean_cv_score)\n",
        "\n",
        "roc_auc = metrics.roc_auc_score(y_test2, logreg2.predict(X_test2))\n",
        "print(\"ROC-AUC Score:\", roc_auc)"
      ],
      "metadata": {
        "colab": {
          "base_uri": "https://localhost:8080/"
        },
        "id": "6W3i-m3_w2Os",
        "outputId": "9d18818a-002d-49ab-9eff-6883a95f7805"
      },
      "execution_count": 121,
      "outputs": [
        {
          "output_type": "stream",
          "name": "stdout",
          "text": [
            "Metrics for Missing Values Replaced with Zeroes\n",
            "Accuracy: 0.7995457126632595\n",
            "Precision: 0.6259168704156479\n",
            "Recall (Sensitivity): 0.5614035087719298\n",
            "F1-Score: 0.5919075144508671\n",
            "Mean Cross-Validation Score: 0.8031055589002609\n",
            "ROC-AUC Score: 0.7220810647307925\n",
            "\n",
            "\n",
            "Metrics for Columns with Missing Values Dropped\n",
            "Accuracy: 0.7989778534923339\n",
            "Precision: 0.625615763546798\n",
            "Recall (Sensitivity): 0.5570175438596491\n",
            "F1-Score: 0.5893271461716937\n",
            "Mean Cross-Validation Score: 0.8019699119864683\n",
            "ROC-AUC Score: 0.7202712240371042\n"
          ]
        }
      ]
    },
    {
      "cell_type": "code",
      "source": [
        "bayes = GaussianNB()\n",
        "bayes.fit(X_train, y_train)\n",
        "y_pred = bayes.predict(X_test)\n",
        "\n",
        "bayes2 = GaussianNB()\n",
        "bayes2.fit(X_train2, y_train2)\n",
        "y_pred2 = bayes2.predict(X_test2)"
      ],
      "metadata": {
        "id": "0WM_B9mvjOz5"
      },
      "execution_count": 122,
      "outputs": []
    },
    {
      "cell_type": "code",
      "source": [
        "print(\"Metrics for Missing Values Replaced with Zeroes\")\n",
        "\n",
        "accuracy = accuracy_score(y_test, y_pred)\n",
        "print(\"Accuracy:\", accuracy)\n",
        "\n",
        "precision = precision_score(y_test, y_pred)\n",
        "print(\"Precision:\", precision)\n",
        "\n",
        "recall = recall_score(y_test, y_pred)\n",
        "print(\"Recall (Sensitivity):\", recall)\n",
        "\n",
        "f1 = f1_score(y_test, y_pred)\n",
        "print(\"F1-Score:\", f1)\n",
        "\n",
        "cv_scores = cross_val_score(bayes, X_train, y_train, cv=5)\n",
        "mean_cv_score = cv_scores.mean()\n",
        "print(\"Mean Cross-Validation Score:\", mean_cv_score)\n",
        "\n",
        "roc_auc = metrics.roc_auc_score(y_test, bayes.predict(X_test))\n",
        "print(\"ROC-AUC Score:\", roc_auc)\n",
        "\n",
        "\n",
        "print(\"\\n\")\n",
        "print(\"Metrics for Columns with Missing Values Dropped\")\n",
        "\n",
        "accuracy = accuracy_score(y_test2, y_pred2)\n",
        "print(\"Accuracy:\", accuracy)\n",
        "\n",
        "precision = precision_score(y_test2, y_pred2)\n",
        "print(\"Precision:\", precision)\n",
        "\n",
        "recall = recall_score(y_test2, y_pred2)\n",
        "print(\"Recall (Sensitivity):\", recall)\n",
        "\n",
        "f1 = f1_score(y_test2, y_pred2)\n",
        "print(\"F1-Score:\", f1)\n",
        "\n",
        "cv_scores = cross_val_score(logreg, X_train2, y_train2, cv=5)\n",
        "mean_cv_score = cv_scores.mean()\n",
        "print(\"Mean Cross-Validation Score:\", mean_cv_score)\n",
        "\n",
        "roc_auc = metrics.roc_auc_score(y_test2, logreg2.predict(X_test2))\n",
        "print(\"ROC-AUC Score:\", roc_auc)"
      ],
      "metadata": {
        "colab": {
          "base_uri": "https://localhost:8080/"
        },
        "id": "I_swaQ4BkOey",
        "outputId": "124c1906-fac3-4c15-d1fe-4517d69c3419"
      },
      "execution_count": 123,
      "outputs": [
        {
          "output_type": "stream",
          "name": "stdout",
          "text": [
            "Metrics for Missing Values Replaced with Zeroes\n",
            "Accuracy: 0.676320272572402\n",
            "Precision: 0.43817787418655096\n",
            "Recall (Sensitivity): 0.8859649122807017\n",
            "F1-Score: 0.5863570391872278\n",
            "Mean Cross-Validation Score: 0.6800480562483873\n",
            "ROC-AUC Score: 0.7445150231901594\n",
            "\n",
            "\n",
            "Metrics for Columns with Missing Values Dropped\n",
            "Accuracy: 0.6655309483248154\n",
            "Precision: 0.4291799787007455\n",
            "Recall (Sensitivity): 0.8837719298245614\n",
            "F1-Score: 0.5777777777777777\n",
            "Mean Cross-Validation Score: 0.8019699119864683\n",
            "ROC-AUC Score: 0.7202712240371042\n"
          ]
        }
      ]
    },
    {
      "cell_type": "markdown",
      "source": [
        "**Model Comparison**\n",
        "To first compare how different pre-processing methods affected the model performance, we see that for each model, it produced similar results. However, for the mean cross validation score in Naive Bayes, we received different values, which will be discussed further. For accuracy, the Logistic Regression model received an accuracy score of .79 and the Naive Bayes model received an accuracy score of .67. This means that when given the predictors, the Logistic Regression model did a better of job of predicting a customer as one who would leave the service and they did, or a customer as one who would not leave the service and they did not (true positive and true negatives). For precision, the Logistic Regression model also showed a higher precision with .635 (as opposed to the Naive Bayes model's precision of .456) which shows the percentage of churns that were correctly predicted. Since Naive Bayes model has a precision of less than half, that means it had more false positive cases (predicting a churn when there wasn't one), than true positives (predicting a churn and the customer did leave the service). For recall, the Naive Bayes model had a better score of .842. This means that this model had a higher amount of true positives (predicting a churn and there was one), than false negatives (predicting a customer would not leave, but they did). The Logistic Regression model had a slightly better F1 score, with .5986 as opposed to the Naive Bayes' model of .592, but both are not very high. Since the F1 score is a combination of how good the precision and recall was, since the Logistic Regression model had a better precision, but the Naive Bayes had a better recall, this makes sense why the F1 scores are pretty similar to each other. For the mean cross validation score of model, this aligned with the results from the accuracy, with the Logistic Regression model showing a better model accuracy. The mean cross validation score in the Naive Bayes model provided surprising results in terms of the differences in how they were pre-processed. The model that dropped columns with missing values had a mean cross validation score of around .80, while the model for missing values replaced with zeroes had a mean cross validation score of .70. This may mean that when columns with missing values are dropped, it is able to perform better on different subsets of the data. The mean cross validation scores for the Logistic Regression model were similar for the two different pre-processing methods, around .80. In addition, the ROC AUC score tells how well a model does at distinguishing between positive and negative classes. The two models had a similar ROC AUC score of around 70%. Based off of this, the Logistic Regression model is more suited for this dataset due to the higher accuracy, but the user should be mindful that it will predict a high amount of false negatives. In addition, the Logistic Regression model had a higher mean cross-validation score than the Naive Bayes model. Since the mean cross-validation score is calculated from different splits on the data, it is probably a better indicator of how the model will perform on the data, rather than any one of the other metrics alone.\n"
      ],
      "metadata": {
        "id": "gPJcUnmCYBvZ"
      }
    },
    {
      "cell_type": "code",
      "source": [
        "## Look at LogReg Coefficients to compare magnitudes of impact\n",
        "coefficients = logreg.coef_[0]\n",
        "coef_df = pd.DataFrame(zip(X_train.columns, coefficients), columns=['Feature', 'Coefficient'])\n",
        "#print(coef_df.sort_values(by='Coefficient', ascending=False))\n",
        "\n",
        "#To interpret the Naive Bayes model\n",
        "# Look at mean values for each feature and their associated class probabilities\n",
        "feature_means = bayes.theta_  # Shape (n_classes, n_features)\n",
        "feature_summary = pd.DataFrame({\n",
        "    'Feature': X_train.columns,\n",
        "    'Means (Class 0)': feature_means[0],\n",
        "    'Means (Class 1)': feature_means[1],\n",
        "\n",
        "})\n",
        "\n",
        "#print(feature_summary)"
      ],
      "metadata": {
        "id": "fJPZmFfvJA4v"
      },
      "execution_count": 132,
      "outputs": []
    },
    {
      "cell_type": "markdown",
      "source": [
        "**Insights Gained**\n",
        "Since the Logistic Regression from the two different pre-processing steps had similar performance metrics, I will only look at the coefficients for one of them. The magnitude of a coefficient is often a good indicator for the effect it had on the log odds of the outcome, the customer churn in this case. For the Logistic Regression model, the \"Total Charges\" and \"Internet Service - Fiber Optic\" variables had the biggest impact on increasing the log odds chances of a customer leaving the service. This means further investigation should be done to see if total charges can be reduced to lower the chances of them leaving the service and also why Fiber Optic Internet Service customers are most dissatisfied.\"Tenure\" and the \"Contract\" variable had the biggest impact on decreasing the log odds of a customer leaving the service. The tenure and contract variables makes sense, as the longer a customer has stayed with Telco, the less likely they are to leave. Since \"Total Charges\" was dropped in the second preprocessing instance, upon further investigation to the coefficients for that model, it looks the exact same just missing the total charges variable.\n",
        "From the Naive Bayes model, I chose to see the mean for the feature in the yes and no classes for churn. The results from this aligned with the results from the Logistic Regression model, where higher means for TotalCharges were associated with the customers who did leave the service."
      ],
      "metadata": {
        "id": "QEM2wpWwL3aU"
      }
    },
    {
      "cell_type": "markdown",
      "source": [
        "**Problem 2**"
      ],
      "metadata": {
        "id": "I91LX36mX96Y"
      }
    },
    {
      "cell_type": "code",
      "source": [
        "img = cv2.imread('test_image.png')\n",
        "height, width, channels = np.shape(img)\n",
        "pixels = img.reshape(height * width, channels)"
      ],
      "metadata": {
        "id": "kPVT_sLk0Wej"
      },
      "execution_count": 133,
      "outputs": []
    },
    {
      "cell_type": "markdown",
      "source": [
        "After getting the centroids from using the kmeans algorithm from sci-kit learn, I then calculated the euclidean distance between each pixel and the centroids to choose which color to assign that pixel to. I felt that Euclidean distance was an appropriate measure because since these are all on the same scales for the different values of RGB."
      ],
      "metadata": {
        "id": "d7jZx8slS24J"
      }
    },
    {
      "cell_type": "code",
      "source": [
        "def img_kmeans(k, img):\n",
        "  height, width, channels = np.shape(img)\n",
        "  pixels = img.reshape(height * width, channels)\n",
        "  kmeans = KMeans(n_clusters = k)\n",
        "  kmeans.fit(pixels)\n",
        "  colors = kmeans.cluster_centers_.astype(int)\n",
        "  new = np.empty_like(img)\n",
        "\n",
        "  for i in range(width):\n",
        "    for j in range(height):\n",
        "      pixel = img[j][i]\n",
        "      #calculate this distance with each centroid\n",
        "      newValue = colors[0]\n",
        "      min_distance = math.inf\n",
        "      for centroid in colors:\n",
        "        euclidean = np.linalg.norm(centroid - pixel)\n",
        "        if euclidean < min_distance:\n",
        "          newValue = centroid\n",
        "          min_distance = euclidean\n",
        "      new[j][i] = newValue # Assign a new value to the pixel\n",
        "\n",
        "  return new\n"
      ],
      "metadata": {
        "id": "uZOroYLX9HwA"
      },
      "execution_count": 135,
      "outputs": []
    },
    {
      "cell_type": "code",
      "source": [
        "img = cv2.imread('test_image.png')\n",
        "new = img_kmeans(2, img)\n",
        "cv2.imwrite('new_image.png', new)\n",
        "new"
      ],
      "metadata": {
        "id": "GT1f_kjJ96Sj",
        "colab": {
          "base_uri": "https://localhost:8080/",
          "height": 168
        },
        "outputId": "cf3ddd9d-ba9e-4fc2-a827-5a8b34ba2526"
      },
      "execution_count": 141,
      "outputs": [
        {
          "output_type": "execute_result",
          "data": {
            "text/plain": [
              "array([[[131, 173, 202],\n",
              "        [131, 173, 202],\n",
              "        [131, 173, 202],\n",
              "        ...,\n",
              "        [ 41,  47,  52],\n",
              "        [ 41,  47,  52],\n",
              "        [ 41,  47,  52]],\n",
              "\n",
              "       [[131, 173, 202],\n",
              "        [131, 173, 202],\n",
              "        [131, 173, 202],\n",
              "        ...,\n",
              "        [ 41,  47,  52],\n",
              "        [ 41,  47,  52],\n",
              "        [ 41,  47,  52]],\n",
              "\n",
              "       [[131, 173, 202],\n",
              "        [131, 173, 202],\n",
              "        [131, 173, 202],\n",
              "        ...,\n",
              "        [ 41,  47,  52],\n",
              "        [ 41,  47,  52],\n",
              "        [ 41,  47,  52]],\n",
              "\n",
              "       ...,\n",
              "\n",
              "       [[ 41,  47,  52],\n",
              "        [ 41,  47,  52],\n",
              "        [ 41,  47,  52],\n",
              "        ...,\n",
              "        [ 41,  47,  52],\n",
              "        [ 41,  47,  52],\n",
              "        [ 41,  47,  52]],\n",
              "\n",
              "       [[ 41,  47,  52],\n",
              "        [ 41,  47,  52],\n",
              "        [ 41,  47,  52],\n",
              "        ...,\n",
              "        [ 41,  47,  52],\n",
              "        [ 41,  47,  52],\n",
              "        [ 41,  47,  52]],\n",
              "\n",
              "       [[ 41,  47,  52],\n",
              "        [ 41,  47,  52],\n",
              "        [ 41,  47,  52],\n",
              "        ...,\n",
              "        [ 41,  47,  52],\n",
              "        [ 41,  47,  52],\n",
              "        [ 41,  47,  52]]], dtype=uint8)"
            ],
            "text/html": [
              "<style>\n",
              "      .ndarray_repr .ndarray_raw_data {\n",
              "        display: none;\n",
              "      }\n",
              "      .ndarray_repr.show_array .ndarray_raw_data {\n",
              "        display: block;\n",
              "      }\n",
              "      .ndarray_repr.show_array .ndarray_image_preview {\n",
              "        display: none;\n",
              "      }\n",
              "      </style>\n",
              "      <div id=\"id-ac93d673-c38d-446a-917f-d9d086bd98ca\" class=\"ndarray_repr\"><pre>ndarray (128, 128, 3) <button style=\"padding: 0 2px;\">show data</button></pre><img src=\"data:image/png;base64,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\" class=\"ndarray_image_preview\" /><pre class=\"ndarray_raw_data\">array([[[131, 173, 202],\n",
              "        [131, 173, 202],\n",
              "        [131, 173, 202],\n",
              "        ...,\n",
              "        [ 41,  47,  52],\n",
              "        [ 41,  47,  52],\n",
              "        [ 41,  47,  52]],\n",
              "\n",
              "       [[131, 173, 202],\n",
              "        [131, 173, 202],\n",
              "        [131, 173, 202],\n",
              "        ...,\n",
              "        [ 41,  47,  52],\n",
              "        [ 41,  47,  52],\n",
              "        [ 41,  47,  52]],\n",
              "\n",
              "       [[131, 173, 202],\n",
              "        [131, 173, 202],\n",
              "        [131, 173, 202],\n",
              "        ...,\n",
              "        [ 41,  47,  52],\n",
              "        [ 41,  47,  52],\n",
              "        [ 41,  47,  52]],\n",
              "\n",
              "       ...,\n",
              "\n",
              "       [[ 41,  47,  52],\n",
              "        [ 41,  47,  52],\n",
              "        [ 41,  47,  52],\n",
              "        ...,\n",
              "        [ 41,  47,  52],\n",
              "        [ 41,  47,  52],\n",
              "        [ 41,  47,  52]],\n",
              "\n",
              "       [[ 41,  47,  52],\n",
              "        [ 41,  47,  52],\n",
              "        [ 41,  47,  52],\n",
              "        ...,\n",
              "        [ 41,  47,  52],\n",
              "        [ 41,  47,  52],\n",
              "        [ 41,  47,  52]],\n",
              "\n",
              "       [[ 41,  47,  52],\n",
              "        [ 41,  47,  52],\n",
              "        [ 41,  47,  52],\n",
              "        ...,\n",
              "        [ 41,  47,  52],\n",
              "        [ 41,  47,  52],\n",
              "        [ 41,  47,  52]]], dtype=uint8)</pre></div><script>\n",
              "      (() => {\n",
              "      const titles = ['show data', 'hide data'];\n",
              "      let index = 0\n",
              "      document.querySelector('#id-ac93d673-c38d-446a-917f-d9d086bd98ca button').onclick = (e) => {\n",
              "        document.querySelector('#id-ac93d673-c38d-446a-917f-d9d086bd98ca').classList.toggle('show_array');\n",
              "        index = (++index) % 2;\n",
              "        document.querySelector('#id-ac93d673-c38d-446a-917f-d9d086bd98ca button').textContent = titles[index];\n",
              "        e.preventDefault();\n",
              "        e.stopPropagation();\n",
              "      }\n",
              "      })();\n",
              "    </script>"
            ]
          },
          "metadata": {},
          "execution_count": 141
        }
      ]
    },
    {
      "cell_type": "code",
      "source": [
        "from skimage.metrics import structural_similarity as ssim"
      ],
      "metadata": {
        "id": "G1_KiWUdGR7-"
      },
      "execution_count": 137,
      "outputs": []
    },
    {
      "cell_type": "code",
      "source": [
        "err = [0] * 20\n",
        "img = cv2.imread('test_image.png')\n",
        "for k in range(1,21):\n",
        "  new = img_kmeans(k, img)\n",
        "  similarity = ssim(img, new, win_size = 3, multichannel = True)\n",
        "  err[k-1] = similarity\n",
        "\n",
        "\n",
        "\n",
        "\n"
      ],
      "metadata": {
        "id": "bScBuh54Amib"
      },
      "execution_count": 138,
      "outputs": []
    },
    {
      "cell_type": "code",
      "source": [
        "import numpy as np\n",
        "import matplotlib.pyplot as plt\n",
        "\n",
        "\n",
        "k_values = list(range(1, 21))\n",
        "\n",
        "plt.bar(k_values, err, color='skyblue')\n",
        "plt.title('Number of Clusters (k) vs Similarity')\n",
        "plt.xlabel('Number of Clusters (k)')\n",
        "plt.ylabel('Similarity')\n",
        "plt.xticks(k_values)\n",
        "plt.grid(axis='y')\n",
        "\n",
        "\n",
        "plt.show()"
      ],
      "metadata": {
        "colab": {
          "base_uri": "https://localhost:8080/",
          "height": 472
        },
        "id": "gc2c8GIYDbjN",
        "outputId": "08f655cc-2f8f-4365-f6e5-957d10099b16"
      },
      "execution_count": 139,
      "outputs": [
        {
          "output_type": "display_data",
          "data": {
            "text/plain": [
              "<Figure size 640x480 with 1 Axes>"
            ],
            "image/png": "[encoded data removed]"
          },
          "metadata": {}
        }
      ]
    },
    {
      "cell_type": "markdown",
      "source": [
        "To experiment with different values of k, I decided to use structural similarity from skimage.metrics to evaluate how similar the compressed image is to the original image. This function computes the similarities between luminance, constrast, and structure which all contribute to the way we perceive images. The values for ssim range between -1 and 1, with -1 represeting perfect dissimilarity and 1 being basically identical. We see that as we increase the number of clusters, there initially is a huge jump, but then the increase in similarity starts to taper off. It is still becoming closer to 1, but not much of a difference. For this problem, I would say around 10 clusters is enough. Since the original test image does not have a huge variety of colors, 10 clusters would be enough to represent the image well."
      ],
      "metadata": {
        "id": "8OKgDrZCJQ0Z"
      }
    }
  ]
}