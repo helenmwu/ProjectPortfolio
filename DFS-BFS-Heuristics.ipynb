{
  "nbformat": 4,
  "nbformat_minor": 0,
  "metadata": {
    "colab": {
      "provenance": []
    },
    "kernelspec": {
      "name": "python3",
      "display_name": "Python 3"
    },
    "language_info": {
      "name": "python"
    }
  },
  "cells": [
    {
      "cell_type": "markdown",
      "source": [
        "Importing the necesssary packages"
      ],
      "metadata": {
        "id": "bEJhqalQuqGK"
      }
    },
    {
      "cell_type": "code",
      "execution_count": 126,
      "metadata": {
        "id": "7KcC0fTlS-6t"
      },
      "outputs": [],
      "source": [
        "import pandas as pd\n",
        "import re\n",
        "from collections import deque\n",
        "import time\n",
        "import math"
      ]
    },
    {
      "cell_type": "markdown",
      "source": [
        "I created two functions, one to store all the nodes and their positions, and another to store the edges between the nodes, along with their corresponding weights. For the edges, I opted for a dictionary, with values for each of its neighbors and their weights. Since this is an undirected graph, If there is an edge between A and B, B is in the adjacency list of A and A is in the adjacency list of B. To store the nodes, I used an array with tuples to store the x and y coordinates of each node. In addition,I created a find path function that will be used to reconstruct the path that was traversed in each of the search algorithms. In the algorithms, the predecessor of each node was kept track of so that once the goal is found, we can get the path that got us there from the start node."
      ],
      "metadata": {
        "id": "S_xjwKtMwCF2"
      }
    },
    {
      "cell_type": "code",
      "source": [
        "def create_edges(filename):\n",
        "  file = open(filename, \"r\")\n",
        "  edges = dict()\n",
        "  for each in file:\n",
        "    current = each.split(',')\n",
        "    edges.setdefault(current[0],[]).append((current[1], current[2].strip()))\n",
        "    edges.setdefault(current[1],[]).append((current[0], current[2].strip()))\n",
        "\n",
        "  file.close()\n",
        "  #for key in edges:\n",
        "    #edges[key] = sorted(edges[key], key=lambda x: extract_numeric_part(x[0]))\n",
        "  return edges\n",
        "\n",
        "def create_nodes(filename):\n",
        "  file = open(filename, \"r\")\n",
        "  nodes = []\n",
        "  for line in file:\n",
        "    current = line.split(',')\n",
        "    nodes.append((current[0], current[1], current[2].strip()))\n",
        "  file.close()\n",
        "\n",
        "  return nodes\n",
        "\n",
        "\n",
        "def findPath(dictionary, goal):\n",
        "  path = []\n",
        "  while goal is not None:\n",
        "    path.append(goal)\n",
        "    goal = dictionary[goal]\n",
        "  return path[::-1]"
      ],
      "metadata": {
        "id": "_h5OIaSODzDE"
      },
      "execution_count": 127,
      "outputs": []
    },
    {
      "cell_type": "markdown",
      "source": [
        "DFS Implementation:\n",
        "I chose to implement DFS with a recursive algorithm, passing in the parameters for edges, the current node that we are expanding, the goal node, the path dictionary, the frontier as an array of nodes yet to be expanded, and an array of the nodes that we have expanded. First, I check if the current node we are expanding is the goal, and if it is, return the path. If the current node is not in the dictionary of edges, this mean it has no neighbors (a dead end) so we remove this node from the path and return. Else, for each neighbor in the adjacency list for the current node, we check to see if the neighbor has been explored yet, and if not, we can append it to the frontier and also add the neighbor as a key to the current node in our path dictionary. We then recursively call dfs using this neighbor as the new current node, either until the goal node is found or we hit a dead end. Once this particular \"path of neighbors\" has all been explored, we can remove this node from the frontier."
      ],
      "metadata": {
        "id": "uA5N_2UjTtqQ"
      }
    },
    {
      "cell_type": "code",
      "source": [
        "def dfs(edges, current, goal, path, frontier, expanded):\n",
        "  expanded.append(current)\n",
        "  if current == goal:\n",
        "    return expanded, findPath(path, goal)\n",
        "  if current not in edges:\n",
        "    path.pop()\n",
        "    return\n",
        "  for nb, wt in edges[current]:\n",
        "    if nb not in expanded:\n",
        "      frontier.append(nb)\n",
        "      path[nb] = current\n",
        "      result = dfs(edges, nb, goal, path, frontier, expanded)\n",
        "      if result is not None:\n",
        "        return result\n",
        "\n"
      ],
      "metadata": {
        "collapsed": true,
        "id": "Iqf2to06aTGI"
      },
      "execution_count": 128,
      "outputs": []
    },
    {
      "cell_type": "markdown",
      "source": [
        "BFS Implementation: I implemented BFS with a recursive algorithm. The parameters are the dictionary of edges, the current node that we are expanding, the goal node, the path as a list of the nodes we have expanded thus far, the frontier of nodes that we have yet to expand, and a dictionary to reconstruct the path. I used deque from collections to implement a queue. The current node is the one that has been in the queue the longest and the current node is appended to the path. If the current node is equal to the goal node, then we return the path. Else, for each neighbor of the current node, we add all of these to the frontier if they are not already in the path, i.e. if they have not already been expanded. I also add the neighbor as the key to the current node so we can construct the path later on. Then we pass in the neighbor and call the bfs recursively until it finds the goal node, or the frontier becomes empty."
      ],
      "metadata": {
        "id": "cqM3xwq4bomH"
      }
    },
    {
      "cell_type": "code",
      "source": [
        "def bfs(edges, current, goal, expanded, frontier, path):\n",
        "    current = frontier.popleft()\n",
        "    expanded.append(current)\n",
        "    if current == goal:\n",
        "      return expanded, findPath(path, goal)\n",
        "    for nb, wt in edges[current]:\n",
        "      if nb not in expanded and nb not in frontier:\n",
        "        frontier.append(nb)\n",
        "        path[nb] = current\n",
        "    result = bfs(edges, nb, goal, expanded, frontier, path)\n",
        "    if result is not None:\n",
        "      return result\n",
        "\n",
        "    return False\n"
      ],
      "metadata": {
        "id": "3Iso-KLGMUc2"
      },
      "execution_count": 129,
      "outputs": []
    },
    {
      "cell_type": "markdown",
      "source": [
        "Creating Data Frames to Compare Later"
      ],
      "metadata": {
        "id": "E6UhvMzK36_V"
      }
    },
    {
      "cell_type": "code",
      "source": [
        "test1 = pd.DataFrame(columns = ['Nodes Expanded', 'Time'])\n",
        "test2 = pd.DataFrame(columns = ['Nodes Expanded', 'Time'])\n",
        "test3 = pd.DataFrame(columns = ['Nodes Expanded', 'Time'])"
      ],
      "metadata": {
        "id": "OPd1mwvIUH0U"
      },
      "execution_count": 130,
      "outputs": []
    },
    {
      "cell_type": "markdown",
      "source": [
        "**Test Case 1 - DFS**\n",
        "I established the dictionary of edges and the array of nodes. I assigned the start node to be the first node in the nodes file and the goal node to be the last node in the node file. The frontier and the expanded array is empty. The path dictionary is instantiated with our start node."
      ],
      "metadata": {
        "id": "iU4KgmcWaqJj"
      }
    },
    {
      "cell_type": "code",
      "source": [
        "edges = create_edges('TestCase_01_EdgeList.txt')\n",
        "nodes = create_nodes('TestCase_01_NodeID.csv')\n",
        "\n",
        "start = nodes[0][0]\n",
        "goal = nodes[len(nodes)-1][0]\n",
        "frontier = []\n",
        "expanded = []\n",
        "path = {start: None}\n",
        "\n",
        "t1 = time.time()\n",
        "expanded, path = (dfs(edges, start,goal, path,frontier, expanded))\n",
        "t2 = time.time()\n",
        "print(expanded)\n",
        "print(\"The number of nodes expanded from the frontier is:\", len(expanded))\n",
        "print(\"Time:\", t2 - t1)\n",
        "test1.loc['DFS'] = [len(expanded), t2 - t1]\n",
        "\n",
        "\n",
        "\n"
      ],
      "metadata": {
        "colab": {
          "base_uri": "https://localhost:8080/"
        },
        "id": "IXyIpc9GJ-i5",
        "outputId": "eddab5e4-492b-442f-8eed-22e0f60b6e44"
      },
      "execution_count": 131,
      "outputs": [
        {
          "output_type": "stream",
          "name": "stdout",
          "text": [
            "['N_0', 'N_1', 'N_6', 'N_5', 'N_10', 'N_11', 'N_16', 'N_15', 'N_20', 'N_21', 'N_7', 'N_12', 'N_13', 'N_14', 'N_8', 'N_9', 'N_4', 'N_18', 'N_19', 'N_24']\n",
            "The number of nodes expanded from the frontier is: 20\n",
            "Time: 0.00015878677368164062\n"
          ]
        }
      ]
    },
    {
      "cell_type": "markdown",
      "source": [
        "**Test Case 1 - BFS**\n",
        "After establishing the dictionary of edges and the array of nodes, I instantiate the start variable with the first node in the array of nodes, and the goal node as the last node in the array of nodes. I created the frontier as a queue and added the start node to the frontier, created an array to keep track of the nodes expanded, as well as instantiating a dictionary to keep track of the path."
      ],
      "metadata": {
        "id": "QZTUn4rbctyE"
      }
    },
    {
      "cell_type": "code",
      "source": [
        "edges = create_edges('TestCase_01_EdgeList.txt')\n",
        "nodes = create_nodes('TestCase_01_NodeID.csv')\n",
        "\n",
        "start = nodes[0][0]\n",
        "goal = nodes[len(nodes)-1][0]\n",
        "frontier = deque()\n",
        "frontier.append(start)\n",
        "path = {start: None}\n",
        "expanded = []\n",
        "\n",
        "t1 = time.time()\n",
        "expanded, path = (bfs(edges, start, goal, expanded, frontier, path))\n",
        "print(expanded)\n",
        "t2 = time.time()\n",
        "print(\"The number of nodes expanded from the frontier is:\", len(expanded))\n",
        "print(\"Time:\", t2 - t1)\n",
        "\n",
        "test1.loc['BFS'] = [len(expanded), t2 - t1]\n",
        "\n"
      ],
      "metadata": {
        "colab": {
          "base_uri": "https://localhost:8080/"
        },
        "id": "vsM1PGxANB0F",
        "outputId": "ae0186eb-23d9-45a1-aec3-41e9cb9e7f12"
      },
      "execution_count": 132,
      "outputs": [
        {
          "output_type": "stream",
          "name": "stdout",
          "text": [
            "['N_0', 'N_1', 'N_6', 'N_2', 'N_5', 'N_7', 'N_3', 'N_10', 'N_12', 'N_11', 'N_15', 'N_13', 'N_17', 'N_16', 'N_20', 'N_14', 'N_8', 'N_18', 'N_22', 'N_21', 'N_9', 'N_19', 'N_23', 'N_4', 'N_24']\n",
            "The number of nodes expanded from the frontier is: 25\n",
            "Time: 0.002313375473022461\n"
          ]
        }
      ]
    },
    {
      "cell_type": "markdown",
      "source": [
        "**Test Case 2 - DFS**"
      ],
      "metadata": {
        "id": "5iFZfCb9f6gj"
      }
    },
    {
      "cell_type": "code",
      "source": [
        "edges = create_edges('TestCase_02_EdgeList.txt')\n",
        "nodes = create_nodes('TestCase_02_NodeID.csv')\n",
        "\n",
        "start = nodes[0][0]\n",
        "goal = nodes[len(nodes)-1][0]\n",
        "frontier = []\n",
        "expanded = []\n",
        "path = {start: None}\n",
        "\n",
        "t1 = time.time()\n",
        "expanded, path = (dfs(edges, start,goal,path, frontier, expanded))\n",
        "t2 = time.time()\n",
        "print(expanded)\n",
        "print(\"The number of nodes expanded from the frontier is:\", len(expanded))\n",
        "print(\"Time:\", t2 - t1)\n",
        "\n",
        "test2.loc['DFS'] = [len(expanded), t2 - t1]"
      ],
      "metadata": {
        "colab": {
          "base_uri": "https://localhost:8080/"
        },
        "id": "IHLgvIRVeBQU",
        "outputId": "28f05889-20d8-4af3-a952-1ecde8ff49d4"
      },
      "execution_count": 133,
      "outputs": [
        {
          "output_type": "stream",
          "name": "stdout",
          "text": [
            "['N_0', 'N_10', 'N_20', 'N_11', 'N_1', 'N_2', 'N_3', 'N_4', 'N_13', 'N_14', 'N_23', 'N_33', 'N_24', 'N_34', 'N_35', 'N_45', 'N_55', 'N_44', 'N_54', 'N_64', 'N_43', 'N_53', 'N_63', 'N_42', 'N_32', 'N_31', 'N_41', 'N_51', 'N_50', 'N_61', 'N_60', 'N_71', 'N_81', 'N_91', 'N_90', 'N_80', 'N_70', 'N_72', 'N_82', 'N_62', 'N_30', 'N_40', 'N_21', 'N_52', 'N_36', 'N_46', 'N_56', 'N_66', 'N_57', 'N_67', 'N_68', 'N_69', 'N_78', 'N_79', 'N_89', 'N_99']\n",
            "The number of nodes expanded from the frontier is: 56\n",
            "Time: 0.0003788471221923828\n"
          ]
        }
      ]
    },
    {
      "cell_type": "markdown",
      "source": [
        "**Test Case 2 - BFS**"
      ],
      "metadata": {
        "id": "q_UAj_vYf-3D"
      }
    },
    {
      "cell_type": "code",
      "source": [
        "edges = create_edges('TestCase_02_EdgeList.txt')\n",
        "nodes = create_nodes('TestCase_02_NodeID.csv')\n",
        "\n",
        "start = nodes[0][0]\n",
        "goal = nodes[len(nodes)-1][0]\n",
        "frontier = deque()\n",
        "frontier.append(start)\n",
        "path = {start: None}\n",
        "expanded = []\n",
        "\n",
        "t1 = time.time()\n",
        "expanded, path = (bfs(edges, start, goal, expanded, frontier, path))\n",
        "t2 = time.time()\n",
        "print(expanded)\n",
        "print(\"The number of nodes expanded from the frontier is:\", len(expanded))\n",
        "print(\"Time:\", t2 - t1)\n",
        "test2.loc['BFS'] = [len(expanded), t2 - t1]"
      ],
      "metadata": {
        "colab": {
          "base_uri": "https://localhost:8080/"
        },
        "id": "GkL8718HgDBB",
        "outputId": "ab5db601-5ee0-48c5-ac53-0be474a47ff6"
      },
      "execution_count": 134,
      "outputs": [
        {
          "output_type": "stream",
          "name": "stdout",
          "text": [
            "['N_0', 'N_10', 'N_20', 'N_11', 'N_1', 'N_2', 'N_3', 'N_12', 'N_4', 'N_13', 'N_14', 'N_23', 'N_33', 'N_24', 'N_22', 'N_34', 'N_25', 'N_35', 'N_15', 'N_26', 'N_45', 'N_36', 'N_16', 'N_55', 'N_44', 'N_46', 'N_37', 'N_6', 'N_54', 'N_43', 'N_56', 'N_47', 'N_27', 'N_38', 'N_5', 'N_64', 'N_53', 'N_42', 'N_66', 'N_57', 'N_28', 'N_17', 'N_48', 'N_63', 'N_32', 'N_52', 'N_67', 'N_58', 'N_18', 'N_31', 'N_68', 'N_59', 'N_8', 'N_41', 'N_30', 'N_21', 'N_69', 'N_78', 'N_49', 'N_7', 'N_9', 'N_51', 'N_40', 'N_79', 'N_77', 'N_19', 'N_50', 'N_61', 'N_89', 'N_87', 'N_29', 'N_60', 'N_71', 'N_99']\n",
            "The number of nodes expanded from the frontier is: 74\n",
            "Time: 0.000518798828125\n"
          ]
        }
      ]
    },
    {
      "cell_type": "markdown",
      "source": [
        "**Test Case 3 - DFS**"
      ],
      "metadata": {
        "id": "WMj3t66KgK6Y"
      }
    },
    {
      "cell_type": "code",
      "source": [
        "edges = create_edges('TestCase_03_EdgeList.txt')\n",
        "nodes = create_nodes('TestCase_03_NodeID.csv')\n",
        "\n",
        "start = nodes[0][0]\n",
        "goal = nodes[len(nodes)-1][0]\n",
        "frontier = []\n",
        "expanded = []\n",
        "path = {start: None}\n",
        "\n",
        "t1 = time.time()\n",
        "expanded, path = (dfs(edges, start,goal, path,frontier, expanded))\n",
        "t2 = time.time()\n",
        "print(expanded)\n",
        "print(\"The number of nodes expanded from the frontier is:\", len(expanded))\n",
        "print(\"Time:\", t2 - t1)\n",
        "test3.loc['DFS'] = [len(expanded), t2 - t1]"
      ],
      "metadata": {
        "colab": {
          "base_uri": "https://localhost:8080/"
        },
        "id": "v-H8xsfZgJfe",
        "outputId": "2ce12202-90f8-438d-a00d-a5bc63a9617b"
      },
      "execution_count": 135,
      "outputs": [
        {
          "output_type": "stream",
          "name": "stdout",
          "text": [
            "['N_0', 'N_1', 'N_2', 'N_102', 'N_100', 'N_200', 'N_300', 'N_400', 'N_500', 'N_501', 'N_600', 'N_401', 'N_301', 'N_302', 'N_402', 'N_502', 'N_602', 'N_601', 'N_603', 'N_503', 'N_504', 'N_404', 'N_403', 'N_303', 'N_304', 'N_203', 'N_204', 'N_205', 'N_305', 'N_206', 'N_306', 'N_406', 'N_405', 'N_505', 'N_506', 'N_606', 'N_607', 'N_707', 'N_807', 'N_608', 'N_708', 'N_808', 'N_908', 'N_909', 'N_910', 'N_907', 'N_809', 'N_810', 'N_709', 'N_609', 'N_610', 'N_611', 'N_711', 'N_712', 'N_713', 'N_813', 'N_812', 'N_912', 'N_913', 'N_914', 'N_710', 'N_811', 'N_911', 'N_407', 'N_207', 'N_107', 'N_108', 'N_208', 'N_209', 'N_309', 'N_310', 'N_311', 'N_211', 'N_312', 'N_412', 'N_411', 'N_410', 'N_409', 'N_509', 'N_508', 'N_507', 'N_408', 'N_510', 'N_511', 'N_308', 'N_8', 'N_9', 'N_10', 'N_109', 'N_110', 'N_111', 'N_11', 'N_12', 'N_112', 'N_212', 'N_213', 'N_113', 'N_114', 'N_14', 'N_13', 'N_115', 'N_15', 'N_116', 'N_117', 'N_217', 'N_218', 'N_317', 'N_318', 'N_418', 'N_419', 'N_519', 'N_420', 'N_518', 'N_17', 'N_16', 'N_18', 'N_118', 'N_119', 'N_19', 'N_20', 'N_21', 'N_121', 'N_122', 'N_222', 'N_221', 'N_322', 'N_321', 'N_421', 'N_323', 'N_324', 'N_325', 'N_423', 'N_424', 'N_524', 'N_523', 'N_525', 'N_625', 'N_624', 'N_623', 'N_725', 'N_425', 'N_426', 'N_422', 'N_522', 'N_622', 'N_521', 'N_520', 'N_620', 'N_621', 'N_123', 'N_223', 'N_124', 'N_125', 'N_225', 'N_226', 'N_126', 'N_127', 'N_227', 'N_228', 'N_128', 'N_129', 'N_229', 'N_329', 'N_130', 'N_230', 'N_231', 'N_330', 'N_430', 'N_429', 'N_529', 'N_629', 'N_630', 'N_631', 'N_731', 'N_831', 'N_730', 'N_830', 'N_628', 'N_627', 'N_727', 'N_827', 'N_927', 'N_926', 'N_925', 'N_825', 'N_824', 'N_924', 'N_724', 'N_723', 'N_823', 'N_822', 'N_922', 'N_923', 'N_928', 'N_826', 'N_726', 'N_728', 'N_828', 'N_331', 'N_332', 'N_232', 'N_333', 'N_233', 'N_234', 'N_235', 'N_135', 'N_35', 'N_36', 'N_37', 'N_38', 'N_138', 'N_139', 'N_239', 'N_238', 'N_339', 'N_338', 'N_340', 'N_341', 'N_140', 'N_40', 'N_41', 'N_141', 'N_241', 'N_42', 'N_142', 'N_242', 'N_243', 'N_244', 'N_144', 'N_145', 'N_45', 'N_46', 'N_146', 'N_147', 'N_148', 'N_149', 'N_249', 'N_248', 'N_349', 'N_348', 'N_449', 'N_450', 'N_550', 'N_549', 'N_649', 'N_749', 'N_849', 'N_650', 'N_750', 'N_651', 'N_751', 'N_851', 'N_951', 'N_952', 'N_850', 'N_551', 'N_451', 'N_351', 'N_352', 'N_252', 'N_253', 'N_153', 'N_53', 'N_54', 'N_55', 'N_155', 'N_156', 'N_256', 'N_356', 'N_456', 'N_455', 'N_454', 'N_556', 'N_557', 'N_657', 'N_757', 'N_658', 'N_555', 'N_655', 'N_755', 'N_754', 'N_854', 'N_753', 'N_855', 'N_955', 'N_956', 'N_957', 'N_656', 'N_756', 'N_856', 'N_857', 'N_654', 'N_357', 'N_257', 'N_457', 'N_157', 'N_158', 'N_159', 'N_59', 'N_60', 'N_61', 'N_62', 'N_162', 'N_161', 'N_262', 'N_163', 'N_164', 'N_165', 'N_65', 'N_64', 'N_66', 'N_67', 'N_167', 'N_267', 'N_367', 'N_168', 'N_169', 'N_69', 'N_70', 'N_170', 'N_71', 'N_72', 'N_172', 'N_173', 'N_273', 'N_373', 'N_473', 'N_272', 'N_372', 'N_472', 'N_471', 'N_571', 'N_572', 'N_672', 'N_671', 'N_771', 'N_772', 'N_773', 'N_871', 'N_971', 'N_972', 'N_870', 'N_970', 'N_969', 'N_869', 'N_770', 'N_769', 'N_669', 'N_670', 'N_673', 'N_73', 'N_74', 'N_75', 'N_76', 'N_77', 'N_177', 'N_277', 'N_377', 'N_376', 'N_476', 'N_477', 'N_577', 'N_677', 'N_678', 'N_578', 'N_478', 'N_579', 'N_679', 'N_680', 'N_681', 'N_682', 'N_582', 'N_581', 'N_482', 'N_382', 'N_383', 'N_384', 'N_484', 'N_483', 'N_583', 'N_485', 'N_486', 'N_586', 'N_686', 'N_786', 'N_886', 'N_887', 'N_687', 'N_688', 'N_788', 'N_787', 'N_789', 'N_689', 'N_589', 'N_790', 'N_890', 'N_990', 'N_791', 'N_691', 'N_692', 'N_792', 'N_892', 'N_893', 'N_793', 'N_992', 'N_991', 'N_891', 'N_993', 'N_994', 'N_995', 'N_996', 'N_693', 'N_694', 'N_594', 'N_794', 'N_795', 'N_796', 'N_797', 'N_896', 'N_895', 'N_897', 'N_997', 'N_998', 'N_999']\n",
            "The number of nodes expanded from the frontier is: 424\n",
            "Time: 0.00677943229675293\n"
          ]
        }
      ]
    },
    {
      "cell_type": "markdown",
      "source": [
        "**Test Case 3 - BFS**\n"
      ],
      "metadata": {
        "id": "9HlmndUWgSsi"
      }
    },
    {
      "cell_type": "code",
      "source": [
        "edges = create_edges('TestCase_03_EdgeList.txt')\n",
        "nodes = create_nodes('TestCase_03_NodeID.csv')\n",
        "\n",
        "start = nodes[0][0]\n",
        "goal = nodes[len(nodes)-1][0]\n",
        "frontier = deque()\n",
        "frontier.append(start)\n",
        "path = {start: None}\n",
        "expanded = []\n",
        "try:\n",
        "  t1 = time.time()\n",
        "  expanded, path = (bfs(edges, start, goal, expanded, frontier, path))\n",
        "  t2 = time.time()\n",
        "  print(path)\n",
        "  print(\"The number of nodes expanded from the frontier is:\", len(expanded))\n",
        "  print(\"Time:\", t2 - t1)\n",
        "  test3.loc['BFS'] = [len(expanded), t2 - t1]\n",
        "except:\n",
        "  print(\"reached maximum recursion depth!\")\n",
        "  test3.loc['BFS'] = ['NA', 'NA']"
      ],
      "metadata": {
        "colab": {
          "base_uri": "https://localhost:8080/"
        },
        "collapsed": true,
        "id": "9GxRdS9SgXsB",
        "outputId": "31e34060-c7bd-40f6-9a9e-2393a3ee9ae7"
      },
      "execution_count": 136,
      "outputs": [
        {
          "output_type": "stream",
          "name": "stdout",
          "text": [
            "reached maximum recursion depth!\n"
          ]
        }
      ]
    },
    {
      "cell_type": "markdown",
      "source": [
        "**Preparing Functions for Algorithm**\n",
        "To apply the heuristic, I wanted to be able to access the nodes in a different way, but I rewrote the edges function just for consistency sake. For the nodes, I opted for a dictionary, that way I can store both the coordinates and the distance function later. Since this was processed different as a dictionary, to be able to determine the start node and goal node, I had to do this differently and wrote separate functions to parse through the file again the access the first line for the start node and the last line for the goal node."
      ],
      "metadata": {
        "id": "KsU8DccZuddG"
      }
    },
    {
      "cell_type": "code",
      "source": [
        "def create_edges1(filename):\n",
        "  file = open(filename, \"r\")\n",
        "  edges = dict()\n",
        "  for each in file:\n",
        "    current = each.split(',')\n",
        "    edges.setdefault(current[0],[]).append((current[1], current[2].strip()))\n",
        "    edges.setdefault(current[1],[]).append((current[0], current[2].strip()))\n",
        "\n",
        "  file.close()\n",
        "\n",
        "  return edges\n",
        "\n",
        "def create_nodes1(filename):\n",
        "  file = open(filename, \"r\")\n",
        "  nodes = dict()\n",
        "  for line in file:\n",
        "    current = line.split(',')\n",
        "    nodes.setdefault(current[0], []).append((current[1], current[2].strip()))\n",
        "  file.close()\n",
        "\n",
        "  return nodes\n",
        "\n",
        "def get_goal(filename):\n",
        "    file = open(filename, \"r\")\n",
        "    lastline = (list(file)[-1])\n",
        "    goal = lastline.split(',')[0]\n",
        "    file.close()\n",
        "    return goal\n",
        "\n",
        "def get_start(filename):\n",
        "    file = open(filename, \"r\")\n",
        "    firstline = (list(file)[0])\n",
        "    start = firstline.split(',')[0]\n",
        "    file.close()\n",
        "    return start"
      ],
      "metadata": {
        "id": "2aKQX6Ibucq-"
      },
      "execution_count": 137,
      "outputs": []
    },
    {
      "cell_type": "markdown",
      "source": [
        "**Heuristic 1 - Euclidean Distance** I wrote a function to be able to add the straight line distance of each node to the goal node. I thought this would be useful as it ensures that we will never be choosing a node that is going farther away from the goal node, when there is a better option available. I used the formula, taking the square root of the sum of the squares of the differences between the x and the y coordinates of the current node and the goal node. I then added this computed distance as a value for the node in the dictionary. This is an admissible heuristic, since it calculates the straight line distance from that node to the goal node, this will always be shorter than the actual path (if there is one) from that node to the goal node, since the list of edges will only allow forward, right, left, or back \"movements\", and the straight line will always be shorter (pythagorean theorem). Since our heuristic will never overestimate the cost, this heuristic is admissible."
      ],
      "metadata": {
        "id": "DPRdF5c19NFJ"
      }
    },
    {
      "cell_type": "code",
      "source": [
        "def euclidean(nodes, goal):\n",
        "\n",
        "  goal_x = nodes[goal][0][0]\n",
        "  goal_y = nodes[goal][0][1]\n",
        "\n",
        "  for node in nodes:\n",
        "    path = {node: None}\n",
        "    expanded, path = dfs(edges, node,goal, path, [], [])\n",
        "    if path is not None:\n",
        "      actual = len(path)\n",
        "    else:\n",
        "      actual = math.inf\n",
        "    calculated = math.sqrt(math.pow((int(nodes[node][0][0]) - int(goal_x)),2) + math.pow((int(nodes[node][0][1]) - int(goal_y)),2))\n",
        "    distance = calculated + actual\n",
        "    nodes[node].append(distance)\n",
        "  return nodes"
      ],
      "metadata": {
        "id": "tgSMH44wvk4S"
      },
      "execution_count": 138,
      "outputs": []
    },
    {
      "cell_type": "markdown",
      "source": [
        "**A* - Heuristic 1**\n",
        "With the new information of the straightline distance between each node and the goal node. I augmented the frontier, so that it is sorted by the distances, with the node with the shortest distance to be expanded next at every step. This function calls itself recursively with the sorted frontier so that it is always progressively adding to the path the node that is closest to the goal node."
      ],
      "metadata": {
        "id": "mPzRkRXV9gA_"
      }
    },
    {
      "cell_type": "code",
      "source": [
        "def heuristic1(edges, current, goal, path, frontier, expanded):\n",
        "    expanded.append(current)\n",
        "    if current == goal:\n",
        "      return expanded, findPath(path, goal)\n",
        "    if current not in edges:\n",
        "      return\n",
        "    for nb, wt in edges[current]:\n",
        "      if nb not in frontier and nb not in path:\n",
        "        frontier.append(nb)\n",
        "        path[nb] = current\n",
        "    frontier.pop(0)\n",
        "    frontier.sort(key=lambda x: nodes[x][1])\n",
        "\n",
        "    result = heuristic1(edges, frontier[0], goal, path, frontier, expanded)\n",
        "    if result is not None:\n",
        "        return result\n",
        "\n",
        "    # Backtrack: remove the current node from the path and the frontier\n",
        "    path.pop()\n",
        "    if current in frontier:\n",
        "        frontier.remove(current)\n",
        "\n",
        "\n",
        "    return False\n",
        "\n",
        "def findPath(dictionary, goal):\n",
        "  path = []\n",
        "  while goal is not None:\n",
        "    path.append(goal)\n",
        "    goal = dictionary[goal]\n",
        "  return path[::-1]"
      ],
      "metadata": {
        "id": "yLdtDuoXz9D3"
      },
      "execution_count": 139,
      "outputs": []
    },
    {
      "cell_type": "markdown",
      "source": [
        "**Test Case 1 - A* Heuristic 1**"
      ],
      "metadata": {
        "id": "EPh3IPmC-ep1"
      }
    },
    {
      "cell_type": "code",
      "source": [
        "edges = create_edges1('TestCase_01_EdgeList.txt')\n",
        "nodes = create_nodes1('TestCase_01_NodeID.csv')\n",
        "goal = get_goal('TestCase_01_NodeID.csv')\n",
        "start = get_start('TestCase_01_NodeID.csv')\n",
        "frontier = []\n",
        "frontier.append(start)\n",
        "euclidean(nodes, goal)\n",
        "expanded = []\n",
        "path = {start: None}\n",
        "\n",
        "t1 = time.time()\n",
        "expanded, path = heuristic1(edges, start, goal, path, frontier, expanded)\n",
        "t2 = time.time()\n",
        "\n",
        "print(expanded)\n",
        "print(\"The number of nodes expanded from the frontier is:\", len(expanded))\n",
        "print(\"Time:\", t2 - t1)\n",
        "\n",
        "test1.loc['Eucliean'] = [len(expanded), t2 - t1]\n",
        "\n"
      ],
      "metadata": {
        "colab": {
          "base_uri": "https://localhost:8080/"
        },
        "collapsed": true,
        "id": "x09vSXfoxVbJ",
        "outputId": "43270155-a623-4931-93f6-bb16773b797c"
      },
      "execution_count": 140,
      "outputs": [
        {
          "output_type": "stream",
          "name": "stdout",
          "text": [
            "['N_0', 'N_1', 'N_6', 'N_7', 'N_12', 'N_13', 'N_18', 'N_19', 'N_24']\n",
            "The number of nodes expanded from the frontier is: 9\n",
            "Time: 0.00016498565673828125\n"
          ]
        }
      ]
    },
    {
      "cell_type": "markdown",
      "source": [
        "**Test Case 2 - A* Heuristic 1**"
      ],
      "metadata": {
        "id": "Pad7FIdBnCbV"
      }
    },
    {
      "cell_type": "code",
      "source": [
        "edges = create_edges1('TestCase_02_EdgeList.txt')\n",
        "nodes = create_nodes1('TestCase_02_NodeID.csv')\n",
        "goal = get_goal('TestCase_02_NodeID.csv')\n",
        "start = get_start('TestCase_02_NodeID.csv')\n",
        "frontier = []\n",
        "frontier.append(start)\n",
        "euclidean(nodes, goal)\n",
        "expanded = []\n",
        "path = {start: None}\n",
        "t1 = time.time()\n",
        "expanded, path = heuristic1(edges, start, goal, path, frontier, expanded)\n",
        "t2 = time.time()\n",
        "print(expanded)\n",
        "print(\"The number of nodes expanded from the frontier is:\", len(expanded))\n",
        "print(\"Time:\", t2 - t1)\n",
        "\n",
        "test2.loc['Euclidean'] = [len(expanded), t2 - t1]"
      ],
      "metadata": {
        "colab": {
          "base_uri": "https://localhost:8080/"
        },
        "collapsed": true,
        "id": "FQTbfk6TnAY3",
        "outputId": "4a1053aa-9fad-4bb3-f544-5b3517a937e3"
      },
      "execution_count": 141,
      "outputs": [
        {
          "output_type": "stream",
          "name": "stdout",
          "text": [
            "['N_0', 'N_10', 'N_11', 'N_1', 'N_2', 'N_3', 'N_13', 'N_23', 'N_24', 'N_34', 'N_35', 'N_36', 'N_46', 'N_56', 'N_57', 'N_67', 'N_68', 'N_78', 'N_79', 'N_89', 'N_99']\n",
            "The number of nodes expanded from the frontier is: 21\n",
            "Time: 0.00026154518127441406\n"
          ]
        }
      ]
    },
    {
      "cell_type": "markdown",
      "source": [
        "**Test Case 3 - A* Heuristic 1**"
      ],
      "metadata": {
        "id": "DUS1jVk8sGSz"
      }
    },
    {
      "cell_type": "code",
      "source": [
        "edges = create_edges1('TestCase_03_EdgeList.txt')\n",
        "nodes = create_nodes1('TestCase_03_NodeID.csv')\n",
        "goal = get_goal('TestCase_03_NodeID.csv')\n",
        "start = get_start('TestCase_03_NodeID.csv')\n",
        "frontier = []\n",
        "frontier.append(start)\n",
        "euclidean(nodes, goal)\n",
        "path = {start: None}\n",
        "t1 = time.time()\n",
        "expanded, path = heuristic1(edges, start, goal, path, frontier, expanded)\n",
        "t2 = time.time()\n",
        "print(expanded)\n",
        "print(\"The number of nodes expanded from the frontier is:\", len(expanded))\n",
        "print(\"Time:\", t2 - t1)\n",
        "\n",
        "test3.loc['Euclidean'] = [len(expanded), t2 - t1]"
      ],
      "metadata": {
        "collapsed": true,
        "id": "_eUOHm2rnQgK",
        "colab": {
          "base_uri": "https://localhost:8080/"
        },
        "outputId": "3a1059d0-8de3-46d5-ac9d-43a921035c6f"
      },
      "execution_count": 142,
      "outputs": [
        {
          "output_type": "stream",
          "name": "stdout",
          "text": [
            "['N_0', 'N_10', 'N_11', 'N_1', 'N_2', 'N_3', 'N_13', 'N_23', 'N_24', 'N_34', 'N_35', 'N_36', 'N_46', 'N_56', 'N_57', 'N_67', 'N_68', 'N_78', 'N_79', 'N_89', 'N_99', 'N_0', 'N_100', 'N_200', 'N_300', 'N_301', 'N_302', 'N_402', 'N_502', 'N_602', 'N_603', 'N_503', 'N_403', 'N_303', 'N_203', 'N_204', 'N_205', 'N_206', 'N_207', 'N_107', 'N_108', 'N_109', 'N_110', 'N_111', 'N_112', 'N_212', 'N_213', 'N_113', 'N_114', 'N_115', 'N_116', 'N_117', 'N_17', 'N_18', 'N_19', 'N_20', 'N_21', 'N_121', 'N_122', 'N_123', 'N_124', 'N_125', 'N_225', 'N_226', 'N_126', 'N_127', 'N_227', 'N_228', 'N_128', 'N_129', 'N_130', 'N_230', 'N_330', 'N_331', 'N_332', 'N_333', 'N_233', 'N_234', 'N_235', 'N_135', 'N_35', 'N_36', 'N_37', 'N_38', 'N_138', 'N_139', 'N_140', 'N_40', 'N_41', 'N_42', 'N_142', 'N_242', 'N_243', 'N_244', 'N_144', 'N_145', 'N_45', 'N_46', 'N_146', 'N_147', 'N_148', 'N_149', 'N_249', 'N_349', 'N_449', 'N_450', 'N_550', 'N_551', 'N_451', 'N_351', 'N_352', 'N_252', 'N_253', 'N_153', 'N_53', 'N_54', 'N_55', 'N_155', 'N_156', 'N_157', 'N_158', 'N_159', 'N_59', 'N_60', 'N_61', 'N_62', 'N_162', 'N_163', 'N_164', 'N_165', 'N_65', 'N_66', 'N_67', 'N_167', 'N_168', 'N_169', 'N_69', 'N_70', 'N_71', 'N_72', 'N_73', 'N_74', 'N_75', 'N_76', 'N_77', 'N_177', 'N_277', 'N_377', 'N_376', 'N_476', 'N_477', 'N_577', 'N_578', 'N_579', 'N_679', 'N_680', 'N_681', 'N_682', 'N_582', 'N_482', 'N_382', 'N_383', 'N_384', 'N_484', 'N_485', 'N_486', 'N_586', 'N_686', 'N_687', 'N_688', 'N_788', 'N_789', 'N_790', 'N_791', 'N_691', 'N_692', 'N_693', 'N_694', 'N_794', 'N_795', 'N_796', 'N_896', 'N_897', 'N_997', 'N_998', 'N_999']\n",
            "The number of nodes expanded from the frontier is: 186\n",
            "Time: 0.0019526481628417969\n"
          ]
        }
      ]
    },
    {
      "cell_type": "markdown",
      "source": [
        "**Heuristic 2** For my second heuristic to test for my informed search, I chose to use the manhattan distance to calculate the distance between each node and the goal node and add this information to each node.I felt this was useful because this would allow the algorithm to ensure that it was never straying farther away from the goal node. The manhattan distance is calculated as the sum of the absolute value of the corresponding coordinates or two points. Since this calculates the distance using up, down, right, and left movements, this mimics the movement of the grid. The calculated distance may be equal to the actual distance, but it will never be greater than. Thus, since our herustic never overestimates the cost, this is an admissible heuristic."
      ],
      "metadata": {
        "id": "3MQ6NCrQPTcO"
      }
    },
    {
      "cell_type": "code",
      "source": [
        "def manhattan(nodes, goal):\n",
        "\n",
        "  goal_x = nodes[goal][0][0]\n",
        "  goal_y = nodes[goal][0][1]\n",
        "  for node in nodes:\n",
        "    path = {node: None}\n",
        "    expanded, path = dfs(edges, node,goal, path, [], [])\n",
        "    if path is not None:\n",
        "      actual = len(path)\n",
        "    else:\n",
        "      actual = math.inf\n",
        "    calculated = abs(int(nodes[node][0][0]) - int(goal_x)) + abs(int(nodes[node][0][1]) - int(goal_y))\n",
        "    distance = calculated + actual\n",
        "    nodes[node].append(distance)\n",
        "  return nodes"
      ],
      "metadata": {
        "id": "1elw1e_oNzfU"
      },
      "execution_count": 143,
      "outputs": []
    },
    {
      "cell_type": "markdown",
      "source": [
        "**Test Case 1 - A* Heuristic 2**"
      ],
      "metadata": {
        "id": "V3o1UvvbOs9e"
      }
    },
    {
      "cell_type": "code",
      "source": [
        "edges = create_edges1('TestCase_01_EdgeList.txt')\n",
        "nodes = create_nodes1('TestCase_01_NodeID.csv')\n",
        "goal = get_goal('TestCase_01_NodeID.csv')\n",
        "start = get_start('TestCase_01_NodeID.csv')\n",
        "frontier = []\n",
        "frontier.append(start)\n",
        "manhattan(nodes, goal)\n",
        "path = {start: None}\n",
        "expanded = []\n",
        "\n",
        "t1 = time.time()\n",
        "expanded, path = heuristic1(edges, start, goal, path, frontier, expanded)\n",
        "t2 = time.time()\n",
        "\n",
        "print(expanded)\n",
        "print(\"The number of nodes expanded from the frontier is:\", len(expanded))\n",
        "print(\"Time:\", t2 - t1)\n",
        "\n",
        "test1.loc['Manhattan'] = [len(expanded), t2 - t1]\n"
      ],
      "metadata": {
        "colab": {
          "base_uri": "https://localhost:8080/"
        },
        "id": "3s9jamaQOMmZ",
        "outputId": "324634a9-1d17-4acb-e828-22ba1d1619d5"
      },
      "execution_count": 144,
      "outputs": [
        {
          "output_type": "stream",
          "name": "stdout",
          "text": [
            "['N_0', 'N_1', 'N_6', 'N_7', 'N_12', 'N_13', 'N_18', 'N_19', 'N_24']\n",
            "The number of nodes expanded from the frontier is: 9\n",
            "Time: 0.00014519691467285156\n"
          ]
        }
      ]
    },
    {
      "cell_type": "markdown",
      "source": [
        "**Test Case 2 - A* Heuristic 2**"
      ],
      "metadata": {
        "id": "wEK_UKlqO5TQ"
      }
    },
    {
      "cell_type": "code",
      "source": [
        "edges = create_edges1('TestCase_02_EdgeList.txt')\n",
        "nodes = create_nodes1('TestCase_02_NodeID.csv')\n",
        "goal = get_goal('TestCase_02_NodeID.csv')\n",
        "start = get_start('TestCase_02_NodeID.csv')\n",
        "frontier = []\n",
        "frontier.append(start)\n",
        "manhattan(nodes, goal)\n",
        "path = {start:None}\n",
        "expanded = []\n",
        "\n",
        "\n",
        "\n",
        "t1 = time.time()\n",
        "expanded, path = heuristic1(edges, start, goal, path, frontier, expanded)\n",
        "t2 = time.time()\n",
        "print(expanded)\n",
        "print(\"The number of nodes expanded from the frontier is:\", len(expanded))\n",
        "print(\"Time:\", t2 - t1)\n",
        "\n",
        "test2.loc['Manhattan'] = [len(expanded), t2 - t1]"
      ],
      "metadata": {
        "colab": {
          "base_uri": "https://localhost:8080/"
        },
        "id": "4NXTIPYcO0J4",
        "outputId": "54755201-1f88-4b93-dd4b-ae50296f225e"
      },
      "execution_count": 145,
      "outputs": [
        {
          "output_type": "stream",
          "name": "stdout",
          "text": [
            "['N_0', 'N_10', 'N_11', 'N_1', 'N_2', 'N_3', 'N_13', 'N_23', 'N_24', 'N_34', 'N_35', 'N_36', 'N_46', 'N_56', 'N_57', 'N_67', 'N_68', 'N_78', 'N_79', 'N_89', 'N_99']\n",
            "The number of nodes expanded from the frontier is: 21\n",
            "Time: 0.00014543533325195312\n"
          ]
        }
      ]
    },
    {
      "cell_type": "markdown",
      "source": [
        "**Test Case 3 - A* Heuristic 2**"
      ],
      "metadata": {
        "id": "_8j5VfgGPFLz"
      }
    },
    {
      "cell_type": "code",
      "source": [
        "edges = create_edges1('TestCase_03_EdgeList.txt')\n",
        "nodes = create_nodes1('TestCase_03_NodeID.csv')\n",
        "goal = get_goal('TestCase_03_NodeID.csv')\n",
        "start = get_start('TestCase_03_NodeID.csv')\n",
        "frontier = []\n",
        "frontier.append(start)\n",
        "manhattan(nodes, goal)\n",
        "path = {start:None}\n",
        "expanded = []\n",
        "\n",
        "\n",
        "t1 = time.time()\n",
        "expanded, path = heuristic1(edges, start, goal, path, frontier, expanded)\n",
        "t2 = time.time()\n",
        "print(expanded)\n",
        "print(\"The number of nodes expanded from the frontier is:\", len(expanded))\n",
        "print(\"Time\", t2 - t1)\n",
        "\n",
        "test3.loc['Manhattan'] = [len(expanded), t2 - t1]"
      ],
      "metadata": {
        "colab": {
          "base_uri": "https://localhost:8080/"
        },
        "id": "y6Kr5A2yO_S7",
        "outputId": "b2606700-88a2-4bd1-c349-9bd21925869f"
      },
      "execution_count": 146,
      "outputs": [
        {
          "output_type": "stream",
          "name": "stdout",
          "text": [
            "['N_0', 'N_100', 'N_200', 'N_300', 'N_301', 'N_302', 'N_402', 'N_502', 'N_602', 'N_603', 'N_503', 'N_703', 'N_604', 'N_504', 'N_403', 'N_803', 'N_704', 'N_605', 'N_303', 'N_903', 'N_804', 'N_705', 'N_304', 'N_203', 'N_204', 'N_205', 'N_206', 'N_207', 'N_107', 'N_108', 'N_109', 'N_110', 'N_111', 'N_112', 'N_212', 'N_213', 'N_113', 'N_114', 'N_115', 'N_116', 'N_117', 'N_217', 'N_17', 'N_18', 'N_19', 'N_20', 'N_21', 'N_121', 'N_122', 'N_123', 'N_124', 'N_125', 'N_225', 'N_226', 'N_126', 'N_127', 'N_227', 'N_228', 'N_128', 'N_129', 'N_130', 'N_230', 'N_330', 'N_331', 'N_332', 'N_333', 'N_233', 'N_234', 'N_235', 'N_135', 'N_35', 'N_36', 'N_37', 'N_38', 'N_138', 'N_139', 'N_140', 'N_40', 'N_41', 'N_42', 'N_142', 'N_242', 'N_243', 'N_244', 'N_144', 'N_145', 'N_45', 'N_46', 'N_146', 'N_147', 'N_148', 'N_149', 'N_249', 'N_349', 'N_449', 'N_450', 'N_550', 'N_551', 'N_451', 'N_351', 'N_352', 'N_252', 'N_253', 'N_153', 'N_53', 'N_54', 'N_55', 'N_155', 'N_156', 'N_157', 'N_158', 'N_159', 'N_59', 'N_60', 'N_61', 'N_62', 'N_162', 'N_163', 'N_164', 'N_165', 'N_65', 'N_66', 'N_67', 'N_167', 'N_168', 'N_169', 'N_69', 'N_70', 'N_71', 'N_72', 'N_73', 'N_74', 'N_75', 'N_76', 'N_77', 'N_177', 'N_277', 'N_377', 'N_376', 'N_476', 'N_477', 'N_577', 'N_578', 'N_579', 'N_679', 'N_680', 'N_681', 'N_682', 'N_582', 'N_482', 'N_382', 'N_383', 'N_384', 'N_484', 'N_485', 'N_486', 'N_586', 'N_686', 'N_687', 'N_688', 'N_788', 'N_789', 'N_790', 'N_791', 'N_691', 'N_692', 'N_693', 'N_694', 'N_794', 'N_795', 'N_796', 'N_896', 'N_897', 'N_997', 'N_998', 'N_999']\n",
            "The number of nodes expanded from the frontier is: 176\n",
            "Time 0.0019867420196533203\n"
          ]
        }
      ]
    },
    {
      "cell_type": "markdown",
      "source": [
        "**Comparisons**"
      ],
      "metadata": {
        "id": "FmtZPvPAT0O6"
      }
    },
    {
      "cell_type": "code",
      "source": [
        "test1"
      ],
      "metadata": {
        "colab": {
          "base_uri": "https://localhost:8080/",
          "height": 175
        },
        "id": "RGFX9mfKU_hg",
        "outputId": "1ef2ed3d-23a7-429b-bffd-e7e1db6ed69d"
      },
      "execution_count": 147,
      "outputs": [
        {
          "output_type": "execute_result",
          "data": {
            "text/plain": [
              "           Nodes Expanded      Time\n",
              "DFS                  20.0  0.000159\n",
              "BFS                  25.0  0.002313\n",
              "Eucliean              9.0  0.000165\n",
              "Manhattan             9.0  0.000145"
            ],
            "text/html": [
              "\n",
              "  <div id=\"df-d89bed2b-d2f9-44b9-9089-c5e464bae451\" class=\"colab-df-container\">\n",
              "    <div>\n",
              "<style scoped>\n",
              "    .dataframe tbody tr th:only-of-type {\n",
              "        vertical-align: middle;\n",
              "    }\n",
              "\n",
              "    .dataframe tbody tr th {\n",
              "        vertical-align: top;\n",
              "    }\n",
              "\n",
              "    .dataframe thead th {\n",
              "        text-align: right;\n",
              "    }\n",
              "</style>\n",
              "<table border=\"1\" class=\"dataframe\">\n",
              "  <thead>\n",
              "    <tr style=\"text-align: right;\">\n",
              "      <th></th>\n",
              "      <th>Nodes Expanded</th>\n",
              "      <th>Time</th>\n",
              "    </tr>\n",
              "  </thead>\n",
              "  <tbody>\n",
              "    <tr>\n",
              "      <th>DFS</th>\n",
              "      <td>20.0</td>\n",
              "      <td>0.000159</td>\n",
              "    </tr>\n",
              "    <tr>\n",
              "      <th>BFS</th>\n",
              "      <td>25.0</td>\n",
              "      <td>0.002313</td>\n",
              "    </tr>\n",
              "    <tr>\n",
              "      <th>Eucliean</th>\n",
              "      <td>9.0</td>\n",
              "      <td>0.000165</td>\n",
              "    </tr>\n",
              "    <tr>\n",
              "      <th>Manhattan</th>\n",
              "      <td>9.0</td>\n",
              "      <td>0.000145</td>\n",
              "    </tr>\n",
              "  </tbody>\n",
              "</table>\n",
              "</div>\n",
              "    <div class=\"colab-df-buttons\">\n",
              "\n",
              "  <div class=\"colab-df-container\">\n",
              "    <button class=\"colab-df-convert\" onclick=\"convertToInteractive('df-d89bed2b-d2f9-44b9-9089-c5e464bae451')\"\n",
              "            title=\"Convert this dataframe to an interactive table.\"\n",
              "            style=\"display:none;\">\n",
              "\n",
              "  <svg xmlns=\"http://www.w3.org/2000/svg\" height=\"24px\" viewBox=\"0 -960 960 960\">\n",
              "    <path d=\"M120-120v-720h720v720H120Zm60-500h600v-160H180v160Zm220 220h160v-160H400v160Zm0 220h160v-160H400v160ZM180-400h160v-160H180v160Zm440 0h160v-160H620v160ZM180-180h160v-160H180v160Zm440 0h160v-160H620v160Z\"/>\n",
              "  </svg>\n",
              "    </button>\n",
              "\n",
              "  <style>\n",
              "    .colab-df-container {\n",
              "      display:flex;\n",
              "      gap: 12px;\n",
              "    }\n",
              "\n",
              "    .colab-df-convert {\n",
              "      background-color: #E8F0FE;\n",
              "      border: none;\n",
              "      border-radius: 50%;\n",
              "      cursor: pointer;\n",
              "      display: none;\n",
              "      fill: #1967D2;\n",
              "      height: 32px;\n",
              "      padding: 0 0 0 0;\n",
              "      width: 32px;\n",
              "    }\n",
              "\n",
              "    .colab-df-convert:hover {\n",
              "      background-color: #E2EBFA;\n",
              "      box-shadow: 0px 1px 2px rgba(60, 64, 67, 0.3), 0px 1px 3px 1px rgba(60, 64, 67, 0.15);\n",
              "      fill: #174EA6;\n",
              "    }\n",
              "\n",
              "    .colab-df-buttons div {\n",
              "      margin-bottom: 4px;\n",
              "    }\n",
              "\n",
              "    [theme=dark] .colab-df-convert {\n",
              "      background-color: #3B4455;\n",
              "      fill: #D2E3FC;\n",
              "    }\n",
              "\n",
              "    [theme=dark] .colab-df-convert:hover {\n",
              "      background-color: #434B5C;\n",
              "      box-shadow: 0px 1px 3px 1px rgba(0, 0, 0, 0.15);\n",
              "      filter: drop-shadow(0px 1px 2px rgba(0, 0, 0, 0.3));\n",
              "      fill: #FFFFFF;\n",
              "    }\n",
              "  </style>\n",
              "\n",
              "    <script>\n",
              "      const buttonEl =\n",
              "        document.querySelector('#df-d89bed2b-d2f9-44b9-9089-c5e464bae451 button.colab-df-convert');\n",
              "      buttonEl.style.display =\n",
              "        google.colab.kernel.accessAllowed ? 'block' : 'none';\n",
              "\n",
              "      async function convertToInteractive(key) {\n",
              "        const element = document.querySelector('#df-d89bed2b-d2f9-44b9-9089-c5e464bae451');\n",
              "        const dataTable =\n",
              "          await google.colab.kernel.invokeFunction('convertToInteractive',\n",
              "                                                    [key], {});\n",
              "        if (!dataTable) return;\n",
              "\n",
              "        const docLinkHtml = 'Like what you see? Visit the ' +\n",
              "          '<a target=\"_blank\" href=https://colab.research.google.com/notebooks/data_table.ipynb>data table notebook</a>'\n",
              "          + ' to learn more about interactive tables.';\n",
              "        element.innerHTML = '';\n",
              "        dataTable['output_type'] = 'display_data';\n",
              "        await google.colab.output.renderOutput(dataTable, element);\n",
              "        const docLink = document.createElement('div');\n",
              "        docLink.innerHTML = docLinkHtml;\n",
              "        element.appendChild(docLink);\n",
              "      }\n",
              "    </script>\n",
              "  </div>\n",
              "\n",
              "\n",
              "<div id=\"df-d34aaea6-0339-4f44-a0c5-dab41ee524b9\">\n",
              "  <button class=\"colab-df-quickchart\" onclick=\"quickchart('df-d34aaea6-0339-4f44-a0c5-dab41ee524b9')\"\n",
              "            title=\"Suggest charts\"\n",
              "            style=\"display:none;\">\n",
              "\n",
              "<svg xmlns=\"http://www.w3.org/2000/svg\" height=\"24px\"viewBox=\"0 0 24 24\"\n",
              "     width=\"24px\">\n",
              "    <g>\n",
              "        <path d=\"M19 3H5c-1.1 0-2 .9-2 2v14c0 1.1.9 2 2 2h14c1.1 0 2-.9 2-2V5c0-1.1-.9-2-2-2zM9 17H7v-7h2v7zm4 0h-2V7h2v10zm4 0h-2v-4h2v4z\"/>\n",
              "    </g>\n",
              "</svg>\n",
              "  </button>\n",
              "\n",
              "<style>\n",
              "  .colab-df-quickchart {\n",
              "      --bg-color: #E8F0FE;\n",
              "      --fill-color: #1967D2;\n",
              "      --hover-bg-color: #E2EBFA;\n",
              "      --hover-fill-color: #174EA6;\n",
              "      --disabled-fill-color: #AAA;\n",
              "      --disabled-bg-color: #DDD;\n",
              "  }\n",
              "\n",
              "  [theme=dark] .colab-df-quickchart {\n",
              "      --bg-color: #3B4455;\n",
              "      --fill-color: #D2E3FC;\n",
              "      --hover-bg-color: #434B5C;\n",
              "      --hover-fill-color: #FFFFFF;\n",
              "      --disabled-bg-color: #3B4455;\n",
              "      --disabled-fill-color: #666;\n",
              "  }\n",
              "\n",
              "  .colab-df-quickchart {\n",
              "    background-color: var(--bg-color);\n",
              "    border: none;\n",
              "    border-radius: 50%;\n",
              "    cursor: pointer;\n",
              "    display: none;\n",
              "    fill: var(--fill-color);\n",
              "    height: 32px;\n",
              "    padding: 0;\n",
              "    width: 32px;\n",
              "  }\n",
              "\n",
              "  .colab-df-quickchart:hover {\n",
              "    background-color: var(--hover-bg-color);\n",
              "    box-shadow: 0 1px 2px rgba(60, 64, 67, 0.3), 0 1px 3px 1px rgba(60, 64, 67, 0.15);\n",
              "    fill: var(--button-hover-fill-color);\n",
              "  }\n",
              "\n",
              "  .colab-df-quickchart-complete:disabled,\n",
              "  .colab-df-quickchart-complete:disabled:hover {\n",
              "    background-color: var(--disabled-bg-color);\n",
              "    fill: var(--disabled-fill-color);\n",
              "    box-shadow: none;\n",
              "  }\n",
              "\n",
              "  .colab-df-spinner {\n",
              "    border: 2px solid var(--fill-color);\n",
              "    border-color: transparent;\n",
              "    border-bottom-color: var(--fill-color);\n",
              "    animation:\n",
              "      spin 1s steps(1) infinite;\n",
              "  }\n",
              "\n",
              "  @keyframes spin {\n",
              "    0% {\n",
              "      border-color: transparent;\n",
              "      border-bottom-color: var(--fill-color);\n",
              "      border-left-color: var(--fill-color);\n",
              "    }\n",
              "    20% {\n",
              "      border-color: transparent;\n",
              "      border-left-color: var(--fill-color);\n",
              "      border-top-color: var(--fill-color);\n",
              "    }\n",
              "    30% {\n",
              "      border-color: transparent;\n",
              "      border-left-color: var(--fill-color);\n",
              "      border-top-color: var(--fill-color);\n",
              "      border-right-color: var(--fill-color);\n",
              "    }\n",
              "    40% {\n",
              "      border-color: transparent;\n",
              "      border-right-color: var(--fill-color);\n",
              "      border-top-color: var(--fill-color);\n",
              "    }\n",
              "    60% {\n",
              "      border-color: transparent;\n",
              "      border-right-color: var(--fill-color);\n",
              "    }\n",
              "    80% {\n",
              "      border-color: transparent;\n",
              "      border-right-color: var(--fill-color);\n",
              "      border-bottom-color: var(--fill-color);\n",
              "    }\n",
              "    90% {\n",
              "      border-color: transparent;\n",
              "      border-bottom-color: var(--fill-color);\n",
              "    }\n",
              "  }\n",
              "</style>\n",
              "\n",
              "  <script>\n",
              "    async function quickchart(key) {\n",
              "      const quickchartButtonEl =\n",
              "        document.querySelector('#' + key + ' button');\n",
              "      quickchartButtonEl.disabled = true;  // To prevent multiple clicks.\n",
              "      quickchartButtonEl.classList.add('colab-df-spinner');\n",
              "      try {\n",
              "        const charts = await google.colab.kernel.invokeFunction(\n",
              "            'suggestCharts', [key], {});\n",
              "      } catch (error) {\n",
              "        console.error('Error during call to suggestCharts:', error);\n",
              "      }\n",
              "      quickchartButtonEl.classList.remove('colab-df-spinner');\n",
              "      quickchartButtonEl.classList.add('colab-df-quickchart-complete');\n",
              "    }\n",
              "    (() => {\n",
              "      let quickchartButtonEl =\n",
              "        document.querySelector('#df-d34aaea6-0339-4f44-a0c5-dab41ee524b9 button');\n",
              "      quickchartButtonEl.style.display =\n",
              "        google.colab.kernel.accessAllowed ? 'block' : 'none';\n",
              "    })();\n",
              "  </script>\n",
              "</div>\n",
              "\n",
              "  <div id=\"id_81856f58-20e0-4887-b6a9-c0b3ec2da4dc\">\n",
              "    <style>\n",
              "      .colab-df-generate {\n",
              "        background-color: #E8F0FE;\n",
              "        border: none;\n",
              "        border-radius: 50%;\n",
              "        cursor: pointer;\n",
              "        display: none;\n",
              "        fill: #1967D2;\n",
              "        height: 32px;\n",
              "        padding: 0 0 0 0;\n",
              "        width: 32px;\n",
              "      }\n",
              "\n",
              "      .colab-df-generate:hover {\n",
              "        background-color: #E2EBFA;\n",
              "        box-shadow: 0px 1px 2px rgba(60, 64, 67, 0.3), 0px 1px 3px 1px rgba(60, 64, 67, 0.15);\n",
              "        fill: #174EA6;\n",
              "      }\n",
              "\n",
              "      [theme=dark] .colab-df-generate {\n",
              "        background-color: #3B4455;\n",
              "        fill: #D2E3FC;\n",
              "      }\n",
              "\n",
              "      [theme=dark] .colab-df-generate:hover {\n",
              "        background-color: #434B5C;\n",
              "        box-shadow: 0px 1px 3px 1px rgba(0, 0, 0, 0.15);\n",
              "        filter: drop-shadow(0px 1px 2px rgba(0, 0, 0, 0.3));\n",
              "        fill: #FFFFFF;\n",
              "      }\n",
              "    </style>\n",
              "    <button class=\"colab-df-generate\" onclick=\"generateWithVariable('test1')\"\n",
              "            title=\"Generate code using this dataframe.\"\n",
              "            style=\"display:none;\">\n",
              "\n",
              "  <svg xmlns=\"http://www.w3.org/2000/svg\" height=\"24px\"viewBox=\"0 0 24 24\"\n",
              "       width=\"24px\">\n",
              "    <path d=\"M7,19H8.4L18.45,9,17,7.55,7,17.6ZM5,21V16.75L18.45,3.32a2,2,0,0,1,2.83,0l1.4,1.43a1.91,1.91,0,0,1,.58,1.4,1.91,1.91,0,0,1-.58,1.4L9.25,21ZM18.45,9,17,7.55Zm-12,3A5.31,5.31,0,0,0,4.9,8.1,5.31,5.31,0,0,0,1,6.5,5.31,5.31,0,0,0,4.9,4.9,5.31,5.31,0,0,0,6.5,1,5.31,5.31,0,0,0,8.1,4.9,5.31,5.31,0,0,0,12,6.5,5.46,5.46,0,0,0,6.5,12Z\"/>\n",
              "  </svg>\n",
              "    </button>\n",
              "    <script>\n",
              "      (() => {\n",
              "      const buttonEl =\n",
              "        document.querySelector('#id_81856f58-20e0-4887-b6a9-c0b3ec2da4dc button.colab-df-generate');\n",
              "      buttonEl.style.display =\n",
              "        google.colab.kernel.accessAllowed ? 'block' : 'none';\n",
              "\n",
              "      buttonEl.onclick = () => {\n",
              "        google.colab.notebook.generateWithVariable('test1');\n",
              "      }\n",
              "      })();\n",
              "    </script>\n",
              "  </div>\n",
              "\n",
              "    </div>\n",
              "  </div>\n"
            ],
            "application/vnd.google.colaboratory.intrinsic+json": {
              "type": "dataframe",
              "variable_name": "test1",
              "summary": "{\n  \"name\": \"test1\",\n  \"rows\": 4,\n  \"fields\": [\n    {\n      \"column\": \"Nodes Expanded\",\n      \"properties\": {\n        \"dtype\": \"number\",\n        \"std\": 8.05708797684788,\n        \"min\": 9.0,\n        \"max\": 25.0,\n        \"num_unique_values\": 3,\n        \"samples\": [\n          20.0,\n          25.0,\n          9.0\n        ],\n        \"semantic_type\": \"\",\n        \"description\": \"\"\n      }\n    },\n    {\n      \"column\": \"Time\",\n      \"properties\": {\n        \"dtype\": \"number\",\n        \"std\": 0.0010785578423547534,\n        \"min\": 0.00014519691467285156,\n        \"max\": 0.002313375473022461,\n        \"num_unique_values\": 4,\n        \"samples\": [\n          0.002313375473022461,\n          0.00014519691467285156,\n          0.00015878677368164062\n        ],\n        \"semantic_type\": \"\",\n        \"description\": \"\"\n      }\n    }\n  ]\n}"
            }
          },
          "metadata": {},
          "execution_count": 147
        }
      ]
    },
    {
      "cell_type": "code",
      "source": [
        "test2"
      ],
      "metadata": {
        "colab": {
          "base_uri": "https://localhost:8080/",
          "height": 175
        },
        "id": "vWg3FnhjbSS6",
        "outputId": "d6bed4d1-3a08-44e5-f0b3-6918a320fd3d"
      },
      "execution_count": 148,
      "outputs": [
        {
          "output_type": "execute_result",
          "data": {
            "text/plain": [
              "           Nodes Expanded      Time\n",
              "DFS                  56.0  0.000379\n",
              "BFS                  74.0  0.000519\n",
              "Euclidean            21.0  0.000262\n",
              "Manhattan            21.0  0.000145"
            ],
            "text/html": [
              "\n",
              "  <div id=\"df-08e40345-a89f-47fe-bc17-2f5da06a7a66\" class=\"colab-df-container\">\n",
              "    <div>\n",
              "<style scoped>\n",
              "    .dataframe tbody tr th:only-of-type {\n",
              "        vertical-align: middle;\n",
              "    }\n",
              "\n",
              "    .dataframe tbody tr th {\n",
              "        vertical-align: top;\n",
              "    }\n",
              "\n",
              "    .dataframe thead th {\n",
              "        text-align: right;\n",
              "    }\n",
              "</style>\n",
              "<table border=\"1\" class=\"dataframe\">\n",
              "  <thead>\n",
              "    <tr style=\"text-align: right;\">\n",
              "      <th></th>\n",
              "      <th>Nodes Expanded</th>\n",
              "      <th>Time</th>\n",
              "    </tr>\n",
              "  </thead>\n",
              "  <tbody>\n",
              "    <tr>\n",
              "      <th>DFS</th>\n",
              "      <td>56.0</td>\n",
              "      <td>0.000379</td>\n",
              "    </tr>\n",
              "    <tr>\n",
              "      <th>BFS</th>\n",
              "      <td>74.0</td>\n",
              "      <td>0.000519</td>\n",
              "    </tr>\n",
              "    <tr>\n",
              "      <th>Euclidean</th>\n",
              "      <td>21.0</td>\n",
              "      <td>0.000262</td>\n",
              "    </tr>\n",
              "    <tr>\n",
              "      <th>Manhattan</th>\n",
              "      <td>21.0</td>\n",
              "      <td>0.000145</td>\n",
              "    </tr>\n",
              "  </tbody>\n",
              "</table>\n",
              "</div>\n",
              "    <div class=\"colab-df-buttons\">\n",
              "\n",
              "  <div class=\"colab-df-container\">\n",
              "    <button class=\"colab-df-convert\" onclick=\"convertToInteractive('df-08e40345-a89f-47fe-bc17-2f5da06a7a66')\"\n",
              "            title=\"Convert this dataframe to an interactive table.\"\n",
              "            style=\"display:none;\">\n",
              "\n",
              "  <svg xmlns=\"http://www.w3.org/2000/svg\" height=\"24px\" viewBox=\"0 -960 960 960\">\n",
              "    <path d=\"M120-120v-720h720v720H120Zm60-500h600v-160H180v160Zm220 220h160v-160H400v160Zm0 220h160v-160H400v160ZM180-400h160v-160H180v160Zm440 0h160v-160H620v160ZM180-180h160v-160H180v160Zm440 0h160v-160H620v160Z\"/>\n",
              "  </svg>\n",
              "    </button>\n",
              "\n",
              "  <style>\n",
              "    .colab-df-container {\n",
              "      display:flex;\n",
              "      gap: 12px;\n",
              "    }\n",
              "\n",
              "    .colab-df-convert {\n",
              "      background-color: #E8F0FE;\n",
              "      border: none;\n",
              "      border-radius: 50%;\n",
              "      cursor: pointer;\n",
              "      display: none;\n",
              "      fill: #1967D2;\n",
              "      height: 32px;\n",
              "      padding: 0 0 0 0;\n",
              "      width: 32px;\n",
              "    }\n",
              "\n",
              "    .colab-df-convert:hover {\n",
              "      background-color: #E2EBFA;\n",
              "      box-shadow: 0px 1px 2px rgba(60, 64, 67, 0.3), 0px 1px 3px 1px rgba(60, 64, 67, 0.15);\n",
              "      fill: #174EA6;\n",
              "    }\n",
              "\n",
              "    .colab-df-buttons div {\n",
              "      margin-bottom: 4px;\n",
              "    }\n",
              "\n",
              "    [theme=dark] .colab-df-convert {\n",
              "      background-color: #3B4455;\n",
              "      fill: #D2E3FC;\n",
              "    }\n",
              "\n",
              "    [theme=dark] .colab-df-convert:hover {\n",
              "      background-color: #434B5C;\n",
              "      box-shadow: 0px 1px 3px 1px rgba(0, 0, 0, 0.15);\n",
              "      filter: drop-shadow(0px 1px 2px rgba(0, 0, 0, 0.3));\n",
              "      fill: #FFFFFF;\n",
              "    }\n",
              "  </style>\n",
              "\n",
              "    <script>\n",
              "      const buttonEl =\n",
              "        document.querySelector('#df-08e40345-a89f-47fe-bc17-2f5da06a7a66 button.colab-df-convert');\n",
              "      buttonEl.style.display =\n",
              "        google.colab.kernel.accessAllowed ? 'block' : 'none';\n",
              "\n",
              "      async function convertToInteractive(key) {\n",
              "        const element = document.querySelector('#df-08e40345-a89f-47fe-bc17-2f5da06a7a66');\n",
              "        const dataTable =\n",
              "          await google.colab.kernel.invokeFunction('convertToInteractive',\n",
              "                                                    [key], {});\n",
              "        if (!dataTable) return;\n",
              "\n",
              "        const docLinkHtml = 'Like what you see? Visit the ' +\n",
              "          '<a target=\"_blank\" href=https://colab.research.google.com/notebooks/data_table.ipynb>data table notebook</a>'\n",
              "          + ' to learn more about interactive tables.';\n",
              "        element.innerHTML = '';\n",
              "        dataTable['output_type'] = 'display_data';\n",
              "        await google.colab.output.renderOutput(dataTable, element);\n",
              "        const docLink = document.createElement('div');\n",
              "        docLink.innerHTML = docLinkHtml;\n",
              "        element.appendChild(docLink);\n",
              "      }\n",
              "    </script>\n",
              "  </div>\n",
              "\n",
              "\n",
              "<div id=\"df-c7fb7078-084d-4696-ab9b-08b225d531c4\">\n",
              "  <button class=\"colab-df-quickchart\" onclick=\"quickchart('df-c7fb7078-084d-4696-ab9b-08b225d531c4')\"\n",
              "            title=\"Suggest charts\"\n",
              "            style=\"display:none;\">\n",
              "\n",
              "<svg xmlns=\"http://www.w3.org/2000/svg\" height=\"24px\"viewBox=\"0 0 24 24\"\n",
              "     width=\"24px\">\n",
              "    <g>\n",
              "        <path d=\"M19 3H5c-1.1 0-2 .9-2 2v14c0 1.1.9 2 2 2h14c1.1 0 2-.9 2-2V5c0-1.1-.9-2-2-2zM9 17H7v-7h2v7zm4 0h-2V7h2v10zm4 0h-2v-4h2v4z\"/>\n",
              "    </g>\n",
              "</svg>\n",
              "  </button>\n",
              "\n",
              "<style>\n",
              "  .colab-df-quickchart {\n",
              "      --bg-color: #E8F0FE;\n",
              "      --fill-color: #1967D2;\n",
              "      --hover-bg-color: #E2EBFA;\n",
              "      --hover-fill-color: #174EA6;\n",
              "      --disabled-fill-color: #AAA;\n",
              "      --disabled-bg-color: #DDD;\n",
              "  }\n",
              "\n",
              "  [theme=dark] .colab-df-quickchart {\n",
              "      --bg-color: #3B4455;\n",
              "      --fill-color: #D2E3FC;\n",
              "      --hover-bg-color: #434B5C;\n",
              "      --hover-fill-color: #FFFFFF;\n",
              "      --disabled-bg-color: #3B4455;\n",
              "      --disabled-fill-color: #666;\n",
              "  }\n",
              "\n",
              "  .colab-df-quickchart {\n",
              "    background-color: var(--bg-color);\n",
              "    border: none;\n",
              "    border-radius: 50%;\n",
              "    cursor: pointer;\n",
              "    display: none;\n",
              "    fill: var(--fill-color);\n",
              "    height: 32px;\n",
              "    padding: 0;\n",
              "    width: 32px;\n",
              "  }\n",
              "\n",
              "  .colab-df-quickchart:hover {\n",
              "    background-color: var(--hover-bg-color);\n",
              "    box-shadow: 0 1px 2px rgba(60, 64, 67, 0.3), 0 1px 3px 1px rgba(60, 64, 67, 0.15);\n",
              "    fill: var(--button-hover-fill-color);\n",
              "  }\n",
              "\n",
              "  .colab-df-quickchart-complete:disabled,\n",
              "  .colab-df-quickchart-complete:disabled:hover {\n",
              "    background-color: var(--disabled-bg-color);\n",
              "    fill: var(--disabled-fill-color);\n",
              "    box-shadow: none;\n",
              "  }\n",
              "\n",
              "  .colab-df-spinner {\n",
              "    border: 2px solid var(--fill-color);\n",
              "    border-color: transparent;\n",
              "    border-bottom-color: var(--fill-color);\n",
              "    animation:\n",
              "      spin 1s steps(1) infinite;\n",
              "  }\n",
              "\n",
              "  @keyframes spin {\n",
              "    0% {\n",
              "      border-color: transparent;\n",
              "      border-bottom-color: var(--fill-color);\n",
              "      border-left-color: var(--fill-color);\n",
              "    }\n",
              "    20% {\n",
              "      border-color: transparent;\n",
              "      border-left-color: var(--fill-color);\n",
              "      border-top-color: var(--fill-color);\n",
              "    }\n",
              "    30% {\n",
              "      border-color: transparent;\n",
              "      border-left-color: var(--fill-color);\n",
              "      border-top-color: var(--fill-color);\n",
              "      border-right-color: var(--fill-color);\n",
              "    }\n",
              "    40% {\n",
              "      border-color: transparent;\n",
              "      border-right-color: var(--fill-color);\n",
              "      border-top-color: var(--fill-color);\n",
              "    }\n",
              "    60% {\n",
              "      border-color: transparent;\n",
              "      border-right-color: var(--fill-color);\n",
              "    }\n",
              "    80% {\n",
              "      border-color: transparent;\n",
              "      border-right-color: var(--fill-color);\n",
              "      border-bottom-color: var(--fill-color);\n",
              "    }\n",
              "    90% {\n",
              "      border-color: transparent;\n",
              "      border-bottom-color: var(--fill-color);\n",
              "    }\n",
              "  }\n",
              "</style>\n",
              "\n",
              "  <script>\n",
              "    async function quickchart(key) {\n",
              "      const quickchartButtonEl =\n",
              "        document.querySelector('#' + key + ' button');\n",
              "      quickchartButtonEl.disabled = true;  // To prevent multiple clicks.\n",
              "      quickchartButtonEl.classList.add('colab-df-spinner');\n",
              "      try {\n",
              "        const charts = await google.colab.kernel.invokeFunction(\n",
              "            'suggestCharts', [key], {});\n",
              "      } catch (error) {\n",
              "        console.error('Error during call to suggestCharts:', error);\n",
              "      }\n",
              "      quickchartButtonEl.classList.remove('colab-df-spinner');\n",
              "      quickchartButtonEl.classList.add('colab-df-quickchart-complete');\n",
              "    }\n",
              "    (() => {\n",
              "      let quickchartButtonEl =\n",
              "        document.querySelector('#df-c7fb7078-084d-4696-ab9b-08b225d531c4 button');\n",
              "      quickchartButtonEl.style.display =\n",
              "        google.colab.kernel.accessAllowed ? 'block' : 'none';\n",
              "    })();\n",
              "  </script>\n",
              "</div>\n",
              "\n",
              "  <div id=\"id_698b824d-474a-47b4-b1f2-1751b76417df\">\n",
              "    <style>\n",
              "      .colab-df-generate {\n",
              "        background-color: #E8F0FE;\n",
              "        border: none;\n",
              "        border-radius: 50%;\n",
              "        cursor: pointer;\n",
              "        display: none;\n",
              "        fill: #1967D2;\n",
              "        height: 32px;\n",
              "        padding: 0 0 0 0;\n",
              "        width: 32px;\n",
              "      }\n",
              "\n",
              "      .colab-df-generate:hover {\n",
              "        background-color: #E2EBFA;\n",
              "        box-shadow: 0px 1px 2px rgba(60, 64, 67, 0.3), 0px 1px 3px 1px rgba(60, 64, 67, 0.15);\n",
              "        fill: #174EA6;\n",
              "      }\n",
              "\n",
              "      [theme=dark] .colab-df-generate {\n",
              "        background-color: #3B4455;\n",
              "        fill: #D2E3FC;\n",
              "      }\n",
              "\n",
              "      [theme=dark] .colab-df-generate:hover {\n",
              "        background-color: #434B5C;\n",
              "        box-shadow: 0px 1px 3px 1px rgba(0, 0, 0, 0.15);\n",
              "        filter: drop-shadow(0px 1px 2px rgba(0, 0, 0, 0.3));\n",
              "        fill: #FFFFFF;\n",
              "      }\n",
              "    </style>\n",
              "    <button class=\"colab-df-generate\" onclick=\"generateWithVariable('test2')\"\n",
              "            title=\"Generate code using this dataframe.\"\n",
              "            style=\"display:none;\">\n",
              "\n",
              "  <svg xmlns=\"http://www.w3.org/2000/svg\" height=\"24px\"viewBox=\"0 0 24 24\"\n",
              "       width=\"24px\">\n",
              "    <path d=\"M7,19H8.4L18.45,9,17,7.55,7,17.6ZM5,21V16.75L18.45,3.32a2,2,0,0,1,2.83,0l1.4,1.43a1.91,1.91,0,0,1,.58,1.4,1.91,1.91,0,0,1-.58,1.4L9.25,21ZM18.45,9,17,7.55Zm-12,3A5.31,5.31,0,0,0,4.9,8.1,5.31,5.31,0,0,0,1,6.5,5.31,5.31,0,0,0,4.9,4.9,5.31,5.31,0,0,0,6.5,1,5.31,5.31,0,0,0,8.1,4.9,5.31,5.31,0,0,0,12,6.5,5.46,5.46,0,0,0,6.5,12Z\"/>\n",
              "  </svg>\n",
              "    </button>\n",
              "    <script>\n",
              "      (() => {\n",
              "      const buttonEl =\n",
              "        document.querySelector('#id_698b824d-474a-47b4-b1f2-1751b76417df button.colab-df-generate');\n",
              "      buttonEl.style.display =\n",
              "        google.colab.kernel.accessAllowed ? 'block' : 'none';\n",
              "\n",
              "      buttonEl.onclick = () => {\n",
              "        google.colab.notebook.generateWithVariable('test2');\n",
              "      }\n",
              "      })();\n",
              "    </script>\n",
              "  </div>\n",
              "\n",
              "    </div>\n",
              "  </div>\n"
            ],
            "application/vnd.google.colaboratory.intrinsic+json": {
              "type": "dataframe",
              "variable_name": "test2",
              "summary": "{\n  \"name\": \"test2\",\n  \"rows\": 4,\n  \"fields\": [\n    {\n      \"column\": \"Nodes Expanded\",\n      \"properties\": {\n        \"dtype\": \"number\",\n        \"std\": 26.444911293731604,\n        \"min\": 21.0,\n        \"max\": 74.0,\n        \"num_unique_values\": 3,\n        \"samples\": [\n          56.0,\n          74.0,\n          21.0\n        ],\n        \"semantic_type\": \"\",\n        \"description\": \"\"\n      }\n    },\n    {\n      \"column\": \"Time\",\n      \"properties\": {\n        \"dtype\": \"number\",\n        \"std\": 0.00015991886575241957,\n        \"min\": 0.00014543533325195312,\n        \"max\": 0.000518798828125,\n        \"num_unique_values\": 4,\n        \"samples\": [\n          0.000518798828125,\n          0.00014543533325195312,\n          0.0003788471221923828\n        ],\n        \"semantic_type\": \"\",\n        \"description\": \"\"\n      }\n    }\n  ]\n}"
            }
          },
          "metadata": {},
          "execution_count": 148
        }
      ]
    },
    {
      "cell_type": "code",
      "source": [
        "test3"
      ],
      "metadata": {
        "colab": {
          "base_uri": "https://localhost:8080/",
          "height": 175
        },
        "id": "vojttap8bcdv",
        "outputId": "36a6792a-0fd5-40b3-a837-c77d15bfc08a"
      },
      "execution_count": 149,
      "outputs": [
        {
          "output_type": "execute_result",
          "data": {
            "text/plain": [
              "          Nodes Expanded      Time\n",
              "DFS                424.0  0.006779\n",
              "BFS                   NA        NA\n",
              "Euclidean          186.0  0.001953\n",
              "Manhattan          176.0  0.001987"
            ],
            "text/html": [
              "\n",
              "  <div id=\"df-007afcfa-f66f-49ee-9974-ddd4f89e9dac\" class=\"colab-df-container\">\n",
              "    <div>\n",
              "<style scoped>\n",
              "    .dataframe tbody tr th:only-of-type {\n",
              "        vertical-align: middle;\n",
              "    }\n",
              "\n",
              "    .dataframe tbody tr th {\n",
              "        vertical-align: top;\n",
              "    }\n",
              "\n",
              "    .dataframe thead th {\n",
              "        text-align: right;\n",
              "    }\n",
              "</style>\n",
              "<table border=\"1\" class=\"dataframe\">\n",
              "  <thead>\n",
              "    <tr style=\"text-align: right;\">\n",
              "      <th></th>\n",
              "      <th>Nodes Expanded</th>\n",
              "      <th>Time</th>\n",
              "    </tr>\n",
              "  </thead>\n",
              "  <tbody>\n",
              "    <tr>\n",
              "      <th>DFS</th>\n",
              "      <td>424.0</td>\n",
              "      <td>0.006779</td>\n",
              "    </tr>\n",
              "    <tr>\n",
              "      <th>BFS</th>\n",
              "      <td>NA</td>\n",
              "      <td>NA</td>\n",
              "    </tr>\n",
              "    <tr>\n",
              "      <th>Euclidean</th>\n",
              "      <td>186.0</td>\n",
              "      <td>0.001953</td>\n",
              "    </tr>\n",
              "    <tr>\n",
              "      <th>Manhattan</th>\n",
              "      <td>176.0</td>\n",
              "      <td>0.001987</td>\n",
              "    </tr>\n",
              "  </tbody>\n",
              "</table>\n",
              "</div>\n",
              "    <div class=\"colab-df-buttons\">\n",
              "\n",
              "  <div class=\"colab-df-container\">\n",
              "    <button class=\"colab-df-convert\" onclick=\"convertToInteractive('df-007afcfa-f66f-49ee-9974-ddd4f89e9dac')\"\n",
              "            title=\"Convert this dataframe to an interactive table.\"\n",
              "            style=\"display:none;\">\n",
              "\n",
              "  <svg xmlns=\"http://www.w3.org/2000/svg\" height=\"24px\" viewBox=\"0 -960 960 960\">\n",
              "    <path d=\"M120-120v-720h720v720H120Zm60-500h600v-160H180v160Zm220 220h160v-160H400v160Zm0 220h160v-160H400v160ZM180-400h160v-160H180v160Zm440 0h160v-160H620v160ZM180-180h160v-160H180v160Zm440 0h160v-160H620v160Z\"/>\n",
              "  </svg>\n",
              "    </button>\n",
              "\n",
              "  <style>\n",
              "    .colab-df-container {\n",
              "      display:flex;\n",
              "      gap: 12px;\n",
              "    }\n",
              "\n",
              "    .colab-df-convert {\n",
              "      background-color: #E8F0FE;\n",
              "      border: none;\n",
              "      border-radius: 50%;\n",
              "      cursor: pointer;\n",
              "      display: none;\n",
              "      fill: #1967D2;\n",
              "      height: 32px;\n",
              "      padding: 0 0 0 0;\n",
              "      width: 32px;\n",
              "    }\n",
              "\n",
              "    .colab-df-convert:hover {\n",
              "      background-color: #E2EBFA;\n",
              "      box-shadow: 0px 1px 2px rgba(60, 64, 67, 0.3), 0px 1px 3px 1px rgba(60, 64, 67, 0.15);\n",
              "      fill: #174EA6;\n",
              "    }\n",
              "\n",
              "    .colab-df-buttons div {\n",
              "      margin-bottom: 4px;\n",
              "    }\n",
              "\n",
              "    [theme=dark] .colab-df-convert {\n",
              "      background-color: #3B4455;\n",
              "      fill: #D2E3FC;\n",
              "    }\n",
              "\n",
              "    [theme=dark] .colab-df-convert:hover {\n",
              "      background-color: #434B5C;\n",
              "      box-shadow: 0px 1px 3px 1px rgba(0, 0, 0, 0.15);\n",
              "      filter: drop-shadow(0px 1px 2px rgba(0, 0, 0, 0.3));\n",
              "      fill: #FFFFFF;\n",
              "    }\n",
              "  </style>\n",
              "\n",
              "    <script>\n",
              "      const buttonEl =\n",
              "        document.querySelector('#df-007afcfa-f66f-49ee-9974-ddd4f89e9dac button.colab-df-convert');\n",
              "      buttonEl.style.display =\n",
              "        google.colab.kernel.accessAllowed ? 'block' : 'none';\n",
              "\n",
              "      async function convertToInteractive(key) {\n",
              "        const element = document.querySelector('#df-007afcfa-f66f-49ee-9974-ddd4f89e9dac');\n",
              "        const dataTable =\n",
              "          await google.colab.kernel.invokeFunction('convertToInteractive',\n",
              "                                                    [key], {});\n",
              "        if (!dataTable) return;\n",
              "\n",
              "        const docLinkHtml = 'Like what you see? Visit the ' +\n",
              "          '<a target=\"_blank\" href=https://colab.research.google.com/notebooks/data_table.ipynb>data table notebook</a>'\n",
              "          + ' to learn more about interactive tables.';\n",
              "        element.innerHTML = '';\n",
              "        dataTable['output_type'] = 'display_data';\n",
              "        await google.colab.output.renderOutput(dataTable, element);\n",
              "        const docLink = document.createElement('div');\n",
              "        docLink.innerHTML = docLinkHtml;\n",
              "        element.appendChild(docLink);\n",
              "      }\n",
              "    </script>\n",
              "  </div>\n",
              "\n",
              "\n",
              "<div id=\"df-9ff1ce5f-379e-4eba-bb69-3ac25eb1a53c\">\n",
              "  <button class=\"colab-df-quickchart\" onclick=\"quickchart('df-9ff1ce5f-379e-4eba-bb69-3ac25eb1a53c')\"\n",
              "            title=\"Suggest charts\"\n",
              "            style=\"display:none;\">\n",
              "\n",
              "<svg xmlns=\"http://www.w3.org/2000/svg\" height=\"24px\"viewBox=\"0 0 24 24\"\n",
              "     width=\"24px\">\n",
              "    <g>\n",
              "        <path d=\"M19 3H5c-1.1 0-2 .9-2 2v14c0 1.1.9 2 2 2h14c1.1 0 2-.9 2-2V5c0-1.1-.9-2-2-2zM9 17H7v-7h2v7zm4 0h-2V7h2v10zm4 0h-2v-4h2v4z\"/>\n",
              "    </g>\n",
              "</svg>\n",
              "  </button>\n",
              "\n",
              "<style>\n",
              "  .colab-df-quickchart {\n",
              "      --bg-color: #E8F0FE;\n",
              "      --fill-color: #1967D2;\n",
              "      --hover-bg-color: #E2EBFA;\n",
              "      --hover-fill-color: #174EA6;\n",
              "      --disabled-fill-color: #AAA;\n",
              "      --disabled-bg-color: #DDD;\n",
              "  }\n",
              "\n",
              "  [theme=dark] .colab-df-quickchart {\n",
              "      --bg-color: #3B4455;\n",
              "      --fill-color: #D2E3FC;\n",
              "      --hover-bg-color: #434B5C;\n",
              "      --hover-fill-color: #FFFFFF;\n",
              "      --disabled-bg-color: #3B4455;\n",
              "      --disabled-fill-color: #666;\n",
              "  }\n",
              "\n",
              "  .colab-df-quickchart {\n",
              "    background-color: var(--bg-color);\n",
              "    border: none;\n",
              "    border-radius: 50%;\n",
              "    cursor: pointer;\n",
              "    display: none;\n",
              "    fill: var(--fill-color);\n",
              "    height: 32px;\n",
              "    padding: 0;\n",
              "    width: 32px;\n",
              "  }\n",
              "\n",
              "  .colab-df-quickchart:hover {\n",
              "    background-color: var(--hover-bg-color);\n",
              "    box-shadow: 0 1px 2px rgba(60, 64, 67, 0.3), 0 1px 3px 1px rgba(60, 64, 67, 0.15);\n",
              "    fill: var(--button-hover-fill-color);\n",
              "  }\n",
              "\n",
              "  .colab-df-quickchart-complete:disabled,\n",
              "  .colab-df-quickchart-complete:disabled:hover {\n",
              "    background-color: var(--disabled-bg-color);\n",
              "    fill: var(--disabled-fill-color);\n",
              "    box-shadow: none;\n",
              "  }\n",
              "\n",
              "  .colab-df-spinner {\n",
              "    border: 2px solid var(--fill-color);\n",
              "    border-color: transparent;\n",
              "    border-bottom-color: var(--fill-color);\n",
              "    animation:\n",
              "      spin 1s steps(1) infinite;\n",
              "  }\n",
              "\n",
              "  @keyframes spin {\n",
              "    0% {\n",
              "      border-color: transparent;\n",
              "      border-bottom-color: var(--fill-color);\n",
              "      border-left-color: var(--fill-color);\n",
              "    }\n",
              "    20% {\n",
              "      border-color: transparent;\n",
              "      border-left-color: var(--fill-color);\n",
              "      border-top-color: var(--fill-color);\n",
              "    }\n",
              "    30% {\n",
              "      border-color: transparent;\n",
              "      border-left-color: var(--fill-color);\n",
              "      border-top-color: var(--fill-color);\n",
              "      border-right-color: var(--fill-color);\n",
              "    }\n",
              "    40% {\n",
              "      border-color: transparent;\n",
              "      border-right-color: var(--fill-color);\n",
              "      border-top-color: var(--fill-color);\n",
              "    }\n",
              "    60% {\n",
              "      border-color: transparent;\n",
              "      border-right-color: var(--fill-color);\n",
              "    }\n",
              "    80% {\n",
              "      border-color: transparent;\n",
              "      border-right-color: var(--fill-color);\n",
              "      border-bottom-color: var(--fill-color);\n",
              "    }\n",
              "    90% {\n",
              "      border-color: transparent;\n",
              "      border-bottom-color: var(--fill-color);\n",
              "    }\n",
              "  }\n",
              "</style>\n",
              "\n",
              "  <script>\n",
              "    async function quickchart(key) {\n",
              "      const quickchartButtonEl =\n",
              "        document.querySelector('#' + key + ' button');\n",
              "      quickchartButtonEl.disabled = true;  // To prevent multiple clicks.\n",
              "      quickchartButtonEl.classList.add('colab-df-spinner');\n",
              "      try {\n",
              "        const charts = await google.colab.kernel.invokeFunction(\n",
              "            'suggestCharts', [key], {});\n",
              "      } catch (error) {\n",
              "        console.error('Error during call to suggestCharts:', error);\n",
              "      }\n",
              "      quickchartButtonEl.classList.remove('colab-df-spinner');\n",
              "      quickchartButtonEl.classList.add('colab-df-quickchart-complete');\n",
              "    }\n",
              "    (() => {\n",
              "      let quickchartButtonEl =\n",
              "        document.querySelector('#df-9ff1ce5f-379e-4eba-bb69-3ac25eb1a53c button');\n",
              "      quickchartButtonEl.style.display =\n",
              "        google.colab.kernel.accessAllowed ? 'block' : 'none';\n",
              "    })();\n",
              "  </script>\n",
              "</div>\n",
              "\n",
              "  <div id=\"id_78d8f307-5f03-46b7-babb-2ec36f4c4b38\">\n",
              "    <style>\n",
              "      .colab-df-generate {\n",
              "        background-color: #E8F0FE;\n",
              "        border: none;\n",
              "        border-radius: 50%;\n",
              "        cursor: pointer;\n",
              "        display: none;\n",
              "        fill: #1967D2;\n",
              "        height: 32px;\n",
              "        padding: 0 0 0 0;\n",
              "        width: 32px;\n",
              "      }\n",
              "\n",
              "      .colab-df-generate:hover {\n",
              "        background-color: #E2EBFA;\n",
              "        box-shadow: 0px 1px 2px rgba(60, 64, 67, 0.3), 0px 1px 3px 1px rgba(60, 64, 67, 0.15);\n",
              "        fill: #174EA6;\n",
              "      }\n",
              "\n",
              "      [theme=dark] .colab-df-generate {\n",
              "        background-color: #3B4455;\n",
              "        fill: #D2E3FC;\n",
              "      }\n",
              "\n",
              "      [theme=dark] .colab-df-generate:hover {\n",
              "        background-color: #434B5C;\n",
              "        box-shadow: 0px 1px 3px 1px rgba(0, 0, 0, 0.15);\n",
              "        filter: drop-shadow(0px 1px 2px rgba(0, 0, 0, 0.3));\n",
              "        fill: #FFFFFF;\n",
              "      }\n",
              "    </style>\n",
              "    <button class=\"colab-df-generate\" onclick=\"generateWithVariable('test3')\"\n",
              "            title=\"Generate code using this dataframe.\"\n",
              "            style=\"display:none;\">\n",
              "\n",
              "  <svg xmlns=\"http://www.w3.org/2000/svg\" height=\"24px\"viewBox=\"0 0 24 24\"\n",
              "       width=\"24px\">\n",
              "    <path d=\"M7,19H8.4L18.45,9,17,7.55,7,17.6ZM5,21V16.75L18.45,3.32a2,2,0,0,1,2.83,0l1.4,1.43a1.91,1.91,0,0,1,.58,1.4,1.91,1.91,0,0,1-.58,1.4L9.25,21ZM18.45,9,17,7.55Zm-12,3A5.31,5.31,0,0,0,4.9,8.1,5.31,5.31,0,0,0,1,6.5,5.31,5.31,0,0,0,4.9,4.9,5.31,5.31,0,0,0,6.5,1,5.31,5.31,0,0,0,8.1,4.9,5.31,5.31,0,0,0,12,6.5,5.46,5.46,0,0,0,6.5,12Z\"/>\n",
              "  </svg>\n",
              "    </button>\n",
              "    <script>\n",
              "      (() => {\n",
              "      const buttonEl =\n",
              "        document.querySelector('#id_78d8f307-5f03-46b7-babb-2ec36f4c4b38 button.colab-df-generate');\n",
              "      buttonEl.style.display =\n",
              "        google.colab.kernel.accessAllowed ? 'block' : 'none';\n",
              "\n",
              "      buttonEl.onclick = () => {\n",
              "        google.colab.notebook.generateWithVariable('test3');\n",
              "      }\n",
              "      })();\n",
              "    </script>\n",
              "  </div>\n",
              "\n",
              "    </div>\n",
              "  </div>\n"
            ],
            "application/vnd.google.colaboratory.intrinsic+json": {
              "type": "dataframe",
              "variable_name": "test3",
              "summary": "{\n  \"name\": \"test3\",\n  \"rows\": 4,\n  \"fields\": [\n    {\n      \"column\": \"Nodes Expanded\",\n      \"properties\": {\n        \"dtype\": \"string\",\n        \"num_unique_values\": 4,\n        \"samples\": [\n          \"NA\",\n          176.0,\n          424.0\n        ],\n        \"semantic_type\": \"\",\n        \"description\": \"\"\n      }\n    },\n    {\n      \"column\": \"Time\",\n      \"properties\": {\n        \"dtype\": \"string\",\n        \"num_unique_values\": 4,\n        \"samples\": [\n          \"NA\",\n          0.0019867420196533203,\n          0.00677943229675293\n        ],\n        \"semantic_type\": \"\",\n        \"description\": \"\"\n      }\n    }\n  ]\n}"
            }
          },
          "metadata": {},
          "execution_count": 149
        }
      ]
    },
    {
      "cell_type": "markdown",
      "source": [
        "**Findings**\n",
        "\n",
        "To compare between the different approaches, I calculated the time it took to find the solution, as well as the number of nodes that were expanded to find the path. For Test Case 1, The number of nodes expanded for BFS and DFS were similar (25 and 20 respectively) while the BFS took a slightly longer time to run. The informed search expanded significantly less nodes (9) for both the Euclidean and Manhattan distance heuristics. The time it took for the algorithm to run was similar to that of the DFS. For Test Case 2, the uninformed searches had significantly greater number of nodes expanded, almost triple that of the informed searches. In addition, the BFS took a lot longer to run as well. For Test Case 3, I was unable to get results for BFS as the maximum recursion depth was reached. But given the trend from Test Case 1 to Test Case 2, I would imagine it took even longer than DFS to run, with significantly many more nodes expanded. The informed searches only expanded 1/3 the number of nodes as DFS and they took a lot less time as well. For this problem, the informed searches helped the algorithm be more efficient and is more suitable, because the added information of knowing if a node was closer or farther away from the goal node than you already are, helps eliminate a lot of the nodes in the frontier. Within the uninformed searches however, DFS is a more appropriate choice, especially when the grid is larger and thus, the goal is farther away from the start node."
      ],
      "metadata": {
        "id": "y6u-4XCzTs3X"
      }
    }
  ]
}